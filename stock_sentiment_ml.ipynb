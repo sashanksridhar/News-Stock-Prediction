{
  "nbformat": 4,
  "nbformat_minor": 0,
  "metadata": {
    "colab": {
      "name": "stock-sentiment-ml.ipynb",
      "provenance": []
    },
    "kernelspec": {
      "name": "python3",
      "display_name": "Python 3"
    },
    "language_info": {
      "name": "python"
    }
  },
  "cells": [
    {
      "cell_type": "code",
      "metadata": {
        "id": "LdHX1NPOuSWY"
      },
      "source": [
        "import pandas as pd\n",
        "import numpy as np\n",
        "import tensorflow as tf\n",
        "import re\n",
        "from nltk.corpus import stopwords\n",
        "from sklearn.model_selection import train_test_split\n",
        "from sklearn.metrics import median_absolute_error as mae\n",
        "from sklearn.metrics import mean_squared_error as mse\n",
        "from sklearn.metrics import accuracy_score as acc\n",
        "import matplotlib.pyplot as plt\n",
        "\n",
        "from keras.models import Sequential\n",
        "from keras import initializers\n",
        "from keras.layers import Dropout, Activation, Embedding, Convolution1D, MaxPooling1D, Input, Dense, BatchNormalization, Flatten, Reshape, Concatenate, Bidirectional, LSTM\n",
        "# from keras.layers.recurrent import LSTM, GRU\n",
        "from keras.callbacks import Callback, ModelCheckpoint, EarlyStopping, ReduceLROnPlateau\n",
        "from keras.models import Model\n",
        "from keras.optimizers import Adam, SGD, RMSprop\n",
        "from keras import regularizers"
      ],
      "execution_count": 1,
      "outputs": []
    },
    {
      "cell_type": "code",
      "metadata": {
        "id": "z8rjmg4JunDs"
      },
      "source": [
        "df = pd.read_csv(\"/content/drive/MyDrive/Combined_News_DJIA.csv\",  encoding = 'ISO-8859-1')"
      ],
      "execution_count": 2,
      "outputs": []
    },
    {
      "cell_type": "code",
      "metadata": {
        "id": "WENsc_SjSz85"
      },
      "source": [
        "train = df[df['Date']<'20150101']\n",
        "test = df[df['Date'] > '20141231']"
      ],
      "execution_count": 3,
      "outputs": []
    },
    {
      "cell_type": "code",
      "metadata": {
        "id": "aqXhL_tZTJR-"
      },
      "source": [
        "data = train.iloc[:, 2:27]\n",
        "data.replace(\"[^a-zA-Z]\", \" \", regex=True, inplace=True)"
      ],
      "execution_count": 4,
      "outputs": []
    },
    {
      "cell_type": "code",
      "metadata": {
        "colab": {
          "base_uri": "https://localhost:8080/",
          "height": 702
        },
        "id": "CbjA0zfOTKXl",
        "outputId": "acb700a0-9b79-4936-d936-7d7838778ea3"
      },
      "source": [
        "list1 = [i for i in range(25)]\n",
        "new_Index = [str(i) for i in list1]\n",
        "data.columns = new_Index\n",
        "data.head(5)"
      ],
      "execution_count": 5,
      "outputs": [
        {
          "output_type": "execute_result",
          "data": {
            "text/html": [
              "<div>\n",
              "<style scoped>\n",
              "    .dataframe tbody tr th:only-of-type {\n",
              "        vertical-align: middle;\n",
              "    }\n",
              "\n",
              "    .dataframe tbody tr th {\n",
              "        vertical-align: top;\n",
              "    }\n",
              "\n",
              "    .dataframe thead th {\n",
              "        text-align: right;\n",
              "    }\n",
              "</style>\n",
              "<table border=\"1\" class=\"dataframe\">\n",
              "  <thead>\n",
              "    <tr style=\"text-align: right;\">\n",
              "      <th></th>\n",
              "      <th>0</th>\n",
              "      <th>1</th>\n",
              "      <th>2</th>\n",
              "      <th>3</th>\n",
              "      <th>4</th>\n",
              "      <th>5</th>\n",
              "      <th>6</th>\n",
              "      <th>7</th>\n",
              "      <th>8</th>\n",
              "      <th>9</th>\n",
              "      <th>10</th>\n",
              "      <th>11</th>\n",
              "      <th>12</th>\n",
              "      <th>13</th>\n",
              "      <th>14</th>\n",
              "      <th>15</th>\n",
              "      <th>16</th>\n",
              "      <th>17</th>\n",
              "      <th>18</th>\n",
              "      <th>19</th>\n",
              "      <th>20</th>\n",
              "      <th>21</th>\n",
              "      <th>22</th>\n",
              "      <th>23</th>\n",
              "      <th>24</th>\n",
              "    </tr>\n",
              "  </thead>\n",
              "  <tbody>\n",
              "    <tr>\n",
              "      <th>0</th>\n",
              "      <td>b Georgia  downs two Russian warplanes  as cou...</td>\n",
              "      <td>b BREAKING  Musharraf to be impeached</td>\n",
              "      <td>b Russia Today  Columns of troops roll into So...</td>\n",
              "      <td>b Russian tanks are moving towards the capital...</td>\n",
              "      <td>b Afghan children raped with  impunity   U N  ...</td>\n",
              "      <td>b     Russian tanks have entered South Ossetia...</td>\n",
              "      <td>b Breaking  Georgia invades South Ossetia  Rus...</td>\n",
              "      <td>b The  enemy combatent  trials are nothing but...</td>\n",
              "      <td>b Georgian troops retreat from S  Osettain cap...</td>\n",
              "      <td>b Did the U S  Prep Georgia for War with Russia</td>\n",
              "      <td>b Rice Gives Green Light for Israel to Attack ...</td>\n",
              "      <td>b Announcing Class Action Lawsuit on Behalf of...</td>\n",
              "      <td>b So   Russia and Georgia are at war and the N...</td>\n",
              "      <td>b China tells Bush to stay out of other countr...</td>\n",
              "      <td>b Did World War III start today</td>\n",
              "      <td>b Georgia Invades South Ossetia   if Russia ge...</td>\n",
              "      <td>b Al Qaeda Faces Islamist Backlash</td>\n",
              "      <td>b Condoleezza Rice   The US would not act to p...</td>\n",
              "      <td>b This is a busy day   The European Union has ...</td>\n",
              "      <td>b Georgia will withdraw       soldiers from Ir...</td>\n",
              "      <td>b Why the Pentagon Thinks Attacking Iran is a ...</td>\n",
              "      <td>b Caucasus in crisis  Georgia invades South Os...</td>\n",
              "      <td>b Indian shoe manufactory    And again in a se...</td>\n",
              "      <td>b Visitors Suffering from Mental Illnesses Ban...</td>\n",
              "      <td>b No Help for Mexico s Kidnapping Surge</td>\n",
              "    </tr>\n",
              "    <tr>\n",
              "      <th>1</th>\n",
              "      <td>b Why wont America and Nato help us  If they w...</td>\n",
              "      <td>b Bush puts foot down on Georgian conflict</td>\n",
              "      <td>b Jewish Georgian minister  Thanks to Israeli ...</td>\n",
              "      <td>b Georgian army flees in disarray as Russians ...</td>\n",
              "      <td>b Olympic opening ceremony fireworks  faked</td>\n",
              "      <td>b What were the Mossad with fraudulent New Zea...</td>\n",
              "      <td>b Russia angered by Israeli military sale to G...</td>\n",
              "      <td>b An American citizen living in S Ossetia blam...</td>\n",
              "      <td>b Welcome To World War IV  Now In High Definit...</td>\n",
              "      <td>b Georgia s move  a mistake of monumental prop...</td>\n",
              "      <td>b Russia presses deeper into Georgia  U S  say...</td>\n",
              "      <td>b Abhinav Bindra wins first ever Individual Ol...</td>\n",
              "      <td>b  U S  ship heads for Arctic to define territ...</td>\n",
              "      <td>b Drivers in a Jerusalem taxi station threaten...</td>\n",
              "      <td>b The French Team is Stunned by Phelps and the...</td>\n",
              "      <td>b Israel and the US behind the Georgian aggres...</td>\n",
              "      <td>b  Do not believe TV  neither Russian nor Geor...</td>\n",
              "      <td>b Riots are still going on in Montreal  Canada...</td>\n",
              "      <td>b China to overtake US as largest manufacturer</td>\n",
              "      <td>b War in South Ossetia  PICS</td>\n",
              "      <td>b Israeli Physicians Group Condemns State Tort...</td>\n",
              "      <td>b  Russia has just beaten the United States ov...</td>\n",
              "      <td>b Perhaps  the  question about the Georgia   R...</td>\n",
              "      <td>b Russia is so much better at war</td>\n",
              "      <td>b So this is what it s come to  trading sex fo...</td>\n",
              "    </tr>\n",
              "    <tr>\n",
              "      <th>2</th>\n",
              "      <td>b Remember that adorable   year old who sang a...</td>\n",
              "      <td>b Russia  ends Georgia operation</td>\n",
              "      <td>b  If we had no sexual harassment we would hav...</td>\n",
              "      <td>b Al Qa eda is losing support in Iraq because ...</td>\n",
              "      <td>b Ceasefire in Georgia  Putin Outmaneuvers the...</td>\n",
              "      <td>b Why Microsoft and Intel tried to kill the XO...</td>\n",
              "      <td>b Stratfor  The Russo Georgian War and the Bal...</td>\n",
              "      <td>b I m Trying to Get a Sense of This Whole Geor...</td>\n",
              "      <td>b The US military was surprised by the timing ...</td>\n",
              "      <td>b U S  Beats War Drum as Iran Dumps the Dollar</td>\n",
              "      <td>b Gorbachev   Georgian military attacked the S...</td>\n",
              "      <td>b CNN use footage of Tskhinvali ruins to cover...</td>\n",
              "      <td>b Beginning a war as the Olympics were opening...</td>\n",
              "      <td>b    pyramids as large as the Luxor stacked in...</td>\n",
              "      <td>b The    Top Party Cities in the World</td>\n",
              "      <td>b U S  troops still in Georgia  did you know t...</td>\n",
              "      <td>b Why Russias response to Georgia was right</td>\n",
              "      <td>b Gorbachev accuses U S  of making a  serious ...</td>\n",
              "      <td>b Russia  Georgia  and NATO  Cold War Two</td>\n",
              "      <td>b Remember that adorable    year old who led y...</td>\n",
              "      <td>b War in Georgia  The Israeli connection</td>\n",
              "      <td>b All signs point to the US encouraging Georgi...</td>\n",
              "      <td>b Christopher King argues that the US and NATO...</td>\n",
              "      <td>b America  The New Mexico</td>\n",
              "      <td>b BBC NEWS   Asia Pacific   Extinction  by man...</td>\n",
              "    </tr>\n",
              "    <tr>\n",
              "      <th>3</th>\n",
              "      <td>b  U S  refuses Israel weapons to attack Iran ...</td>\n",
              "      <td>b When the president ordered to attack Tskhinv...</td>\n",
              "      <td>b  Israel clears troops who killed Reuters cam...</td>\n",
              "      <td>b Britain  s policy of being tough on drugs is...</td>\n",
              "      <td>b Body of    year old found in trunk  Latest  ...</td>\n",
              "      <td>b China has moved     million  quake survivors...</td>\n",
              "      <td>b Bush announces Operation Get All Up In Russi...</td>\n",
              "      <td>b Russian forces sink Georgian ships</td>\n",
              "      <td>b The commander of a Navy air reconnaissance s...</td>\n",
              "      <td>b     of CNN readers  Russia s actions in Geor...</td>\n",
              "      <td>b USA to send fleet into Black Sea to help Geo...</td>\n",
              "      <td>b US warns against Israeli plan to strike agai...</td>\n",
              "      <td>b In an intriguing cyberalliance  two Estonian...</td>\n",
              "      <td>b The CNN Effect  Georgia Schools Russia in In...</td>\n",
              "      <td>b Why Russias response to Georgia was right</td>\n",
              "      <td>b Elephants extinct by</td>\n",
              "      <td>b US humanitarian missions soon in Georgia   i...</td>\n",
              "      <td>b Georgia s DDOS came from US sources</td>\n",
              "      <td>b Russian convoy heads into Georgia  violating...</td>\n",
              "      <td>b Israeli defence minister  US against strike ...</td>\n",
              "      <td>b Gorbachev  We Had No Choice</td>\n",
              "      <td>b Witness  Russian forces head towards Tbilisi...</td>\n",
              "      <td>b  Quarter of Russians blame U S  for conflict...</td>\n",
              "      <td>b Georgian president  says US military will ta...</td>\n",
              "      <td>b       Nobel laureate Aleksander Solzhenitsyn...</td>\n",
              "    </tr>\n",
              "    <tr>\n",
              "      <th>4</th>\n",
              "      <td>b All the experts admit that we should legalis...</td>\n",
              "      <td>b War in South Osetia      pictures made by a ...</td>\n",
              "      <td>b Swedish wrestler Ara Abrahamian throws away ...</td>\n",
              "      <td>b Russia exaggerated the death toll in South O...</td>\n",
              "      <td>b Missile That Killed   Inside Pakistan May Ha...</td>\n",
              "      <td>b Rushdie Condemns Random House s Refusal to P...</td>\n",
              "      <td>b Poland and US agree to missle defense deal  ...</td>\n",
              "      <td>b Will the Russians conquer Tblisi  Bet on it ...</td>\n",
              "      <td>b Russia exaggerating South Ossetian death tol...</td>\n",
              "      <td>b  Musharraf expected to resign rather than fa...</td>\n",
              "      <td>b Moscow Made Plans Months Ago to Invade Georgia</td>\n",
              "      <td>b Why Russias response to Georgia was right</td>\n",
              "      <td>b Nigeria has handed over the potentially oil ...</td>\n",
              "      <td>b The US and Poland have agreed a preliminary ...</td>\n",
              "      <td>b Russia apparently is sabotaging infrastructu...</td>\n",
              "      <td>b Bank analyst forecast Georgian crisis   days...</td>\n",
              "      <td>b Georgia confict could set back Russia s US r...</td>\n",
              "      <td>b War in the Caucasus is as much the product o...</td>\n",
              "      <td>b  Non media  photos of South Ossetia Georgia ...</td>\n",
              "      <td>b Georgian TV reporter shot by Russian sniper ...</td>\n",
              "      <td>b Saudi Arabia  Mother moves to block child ma...</td>\n",
              "      <td>b Taliban wages war on humanitarian aid workers</td>\n",
              "      <td>b Russia  World   can forget about  Georgia  s...</td>\n",
              "      <td>b Darfur rebels accuse Sudan of mounting major...</td>\n",
              "      <td>b Philippines   Peace Advocate say Muslims nee...</td>\n",
              "    </tr>\n",
              "  </tbody>\n",
              "</table>\n",
              "</div>"
            ],
            "text/plain": [
              "                                                   0  ...                                                 24\n",
              "0  b Georgia  downs two Russian warplanes  as cou...  ...           b No Help for Mexico s Kidnapping Surge \n",
              "1  b Why wont America and Nato help us  If they w...  ...  b So this is what it s come to  trading sex fo...\n",
              "2  b Remember that adorable   year old who sang a...  ...  b BBC NEWS   Asia Pacific   Extinction  by man...\n",
              "3  b  U S  refuses Israel weapons to attack Iran ...  ...  b       Nobel laureate Aleksander Solzhenitsyn...\n",
              "4  b All the experts admit that we should legalis...  ...  b Philippines   Peace Advocate say Muslims nee...\n",
              "\n",
              "[5 rows x 25 columns]"
            ]
          },
          "metadata": {
            "tags": []
          },
          "execution_count": 5
        }
      ]
    },
    {
      "cell_type": "code",
      "metadata": {
        "colab": {
          "base_uri": "https://localhost:8080/",
          "height": 362
        },
        "id": "RjjP2k62TPUd",
        "outputId": "588f42d2-a362-461c-cc3b-84657cfd2989"
      },
      "source": [
        "for index in new_Index:\n",
        "    data[index] = data[index].str.lower()\n",
        "data.head(2)"
      ],
      "execution_count": 6,
      "outputs": [
        {
          "output_type": "execute_result",
          "data": {
            "text/html": [
              "<div>\n",
              "<style scoped>\n",
              "    .dataframe tbody tr th:only-of-type {\n",
              "        vertical-align: middle;\n",
              "    }\n",
              "\n",
              "    .dataframe tbody tr th {\n",
              "        vertical-align: top;\n",
              "    }\n",
              "\n",
              "    .dataframe thead th {\n",
              "        text-align: right;\n",
              "    }\n",
              "</style>\n",
              "<table border=\"1\" class=\"dataframe\">\n",
              "  <thead>\n",
              "    <tr style=\"text-align: right;\">\n",
              "      <th></th>\n",
              "      <th>0</th>\n",
              "      <th>1</th>\n",
              "      <th>2</th>\n",
              "      <th>3</th>\n",
              "      <th>4</th>\n",
              "      <th>5</th>\n",
              "      <th>6</th>\n",
              "      <th>7</th>\n",
              "      <th>8</th>\n",
              "      <th>9</th>\n",
              "      <th>10</th>\n",
              "      <th>11</th>\n",
              "      <th>12</th>\n",
              "      <th>13</th>\n",
              "      <th>14</th>\n",
              "      <th>15</th>\n",
              "      <th>16</th>\n",
              "      <th>17</th>\n",
              "      <th>18</th>\n",
              "      <th>19</th>\n",
              "      <th>20</th>\n",
              "      <th>21</th>\n",
              "      <th>22</th>\n",
              "      <th>23</th>\n",
              "      <th>24</th>\n",
              "    </tr>\n",
              "  </thead>\n",
              "  <tbody>\n",
              "    <tr>\n",
              "      <th>0</th>\n",
              "      <td>b georgia  downs two russian warplanes  as cou...</td>\n",
              "      <td>b breaking  musharraf to be impeached</td>\n",
              "      <td>b russia today  columns of troops roll into so...</td>\n",
              "      <td>b russian tanks are moving towards the capital...</td>\n",
              "      <td>b afghan children raped with  impunity   u n  ...</td>\n",
              "      <td>b     russian tanks have entered south ossetia...</td>\n",
              "      <td>b breaking  georgia invades south ossetia  rus...</td>\n",
              "      <td>b the  enemy combatent  trials are nothing but...</td>\n",
              "      <td>b georgian troops retreat from s  osettain cap...</td>\n",
              "      <td>b did the u s  prep georgia for war with russia</td>\n",
              "      <td>b rice gives green light for israel to attack ...</td>\n",
              "      <td>b announcing class action lawsuit on behalf of...</td>\n",
              "      <td>b so   russia and georgia are at war and the n...</td>\n",
              "      <td>b china tells bush to stay out of other countr...</td>\n",
              "      <td>b did world war iii start today</td>\n",
              "      <td>b georgia invades south ossetia   if russia ge...</td>\n",
              "      <td>b al qaeda faces islamist backlash</td>\n",
              "      <td>b condoleezza rice   the us would not act to p...</td>\n",
              "      <td>b this is a busy day   the european union has ...</td>\n",
              "      <td>b georgia will withdraw       soldiers from ir...</td>\n",
              "      <td>b why the pentagon thinks attacking iran is a ...</td>\n",
              "      <td>b caucasus in crisis  georgia invades south os...</td>\n",
              "      <td>b indian shoe manufactory    and again in a se...</td>\n",
              "      <td>b visitors suffering from mental illnesses ban...</td>\n",
              "      <td>b no help for mexico s kidnapping surge</td>\n",
              "    </tr>\n",
              "    <tr>\n",
              "      <th>1</th>\n",
              "      <td>b why wont america and nato help us  if they w...</td>\n",
              "      <td>b bush puts foot down on georgian conflict</td>\n",
              "      <td>b jewish georgian minister  thanks to israeli ...</td>\n",
              "      <td>b georgian army flees in disarray as russians ...</td>\n",
              "      <td>b olympic opening ceremony fireworks  faked</td>\n",
              "      <td>b what were the mossad with fraudulent new zea...</td>\n",
              "      <td>b russia angered by israeli military sale to g...</td>\n",
              "      <td>b an american citizen living in s ossetia blam...</td>\n",
              "      <td>b welcome to world war iv  now in high definit...</td>\n",
              "      <td>b georgia s move  a mistake of monumental prop...</td>\n",
              "      <td>b russia presses deeper into georgia  u s  say...</td>\n",
              "      <td>b abhinav bindra wins first ever individual ol...</td>\n",
              "      <td>b  u s  ship heads for arctic to define territ...</td>\n",
              "      <td>b drivers in a jerusalem taxi station threaten...</td>\n",
              "      <td>b the french team is stunned by phelps and the...</td>\n",
              "      <td>b israel and the us behind the georgian aggres...</td>\n",
              "      <td>b  do not believe tv  neither russian nor geor...</td>\n",
              "      <td>b riots are still going on in montreal  canada...</td>\n",
              "      <td>b china to overtake us as largest manufacturer</td>\n",
              "      <td>b war in south ossetia  pics</td>\n",
              "      <td>b israeli physicians group condemns state tort...</td>\n",
              "      <td>b  russia has just beaten the united states ov...</td>\n",
              "      <td>b perhaps  the  question about the georgia   r...</td>\n",
              "      <td>b russia is so much better at war</td>\n",
              "      <td>b so this is what it s come to  trading sex fo...</td>\n",
              "    </tr>\n",
              "  </tbody>\n",
              "</table>\n",
              "</div>"
            ],
            "text/plain": [
              "                                                   0  ...                                                 24\n",
              "0  b georgia  downs two russian warplanes  as cou...  ...           b no help for mexico s kidnapping surge \n",
              "1  b why wont america and nato help us  if they w...  ...  b so this is what it s come to  trading sex fo...\n",
              "\n",
              "[2 rows x 25 columns]"
            ]
          },
          "metadata": {
            "tags": []
          },
          "execution_count": 6
        }
      ]
    },
    {
      "cell_type": "code",
      "metadata": {
        "colab": {
          "base_uri": "https://localhost:8080/",
          "height": 137
        },
        "id": "bPUXlxlOTR5m",
        "outputId": "befcd234-ac62-4571-fd70-0dd080dfe919"
      },
      "source": [
        "' '.join(str(x) for x in data.iloc[1, 0:25])  #example"
      ],
      "execution_count": 7,
      "outputs": [
        {
          "output_type": "execute_result",
          "data": {
            "application/vnd.google.colaboratory.intrinsic+json": {
              "type": "string"
            },
            "text/plain": [
              "'b why wont america and nato help us  if they wont help us now  why did we help them in iraq   b bush puts foot down on georgian conflict  b jewish georgian minister  thanks to israeli training  we re fending off russia   b georgian army flees in disarray as russians advance   gori abandoned to russia without a shot fired  b olympic opening ceremony fireworks  faked   b what were the mossad with fraudulent new zealand passports doing in iraq   b russia angered by israeli military sale to georgia  b an american citizen living in s ossetia blames u s  and georgian leaders for the genocide of innocent people  b welcome to world war iv  now in high definition   b georgia s move  a mistake of monumental proportions   b russia presses deeper into georgia  u s  says regime change is goal  b abhinav bindra wins first ever individual olympic gold medal for india  b  u s  ship heads for arctic to define territory  b drivers in a jerusalem taxi station threaten to quit rather than work for their new boss   an arab  b the french team is stunned by phelps and the  x   m relay team  b israel and the us behind the georgian aggression   b  do not believe tv  neither russian nor georgian  there are much more victims   b riots are still going on in montreal  canada  because police murdered a boy on saturday   b china to overtake us as largest manufacturer  b war in south ossetia  pics   b israeli physicians group condemns state torture  b  russia has just beaten the united states over the head with peak oil  b perhaps  the  question about the georgia   russia conflict   b russia is so much better at war  b so this is what it s come to  trading sex for food  '"
            ]
          },
          "metadata": {
            "tags": []
          },
          "execution_count": 7
        }
      ]
    },
    {
      "cell_type": "code",
      "metadata": {
        "id": "Og-QaoawTT47"
      },
      "source": [
        "headlines = []\n",
        "for row in range(0, len(data.index)):\n",
        "    headlines.append(' '.join(str(x) for x in data.iloc[row, 0:1]))"
      ],
      "execution_count": 7,
      "outputs": []
    },
    {
      "cell_type": "code",
      "metadata": {
        "id": "T1grSkIPTWPy"
      },
      "source": [
        "from sklearn.feature_extraction.text import TfidfVectorizer\n",
        "from sklearn.ensemble import RandomForestClassifier\n",
        "from sklearn import svm\n",
        "from sklearn.ensemble import AdaBoostClassifier\n",
        "from sklearn.ensemble import BaggingClassifier\n",
        "from sklearn.tree import DecisionTreeClassifier"
      ],
      "execution_count": 26,
      "outputs": []
    },
    {
      "cell_type": "code",
      "metadata": {
        "id": "fRmJyUwFTblS"
      },
      "source": [
        "# implememt BAG OF WORDS\n",
        "tfidfVector = TfidfVectorizer(ngram_range=(2,2))\n",
        "#ngram(2,2) means it will combine the 2 words together and assign the value\n",
        "\n",
        "trainDataset = tfidfVector.fit_transform(headlines)"
      ],
      "execution_count": 10,
      "outputs": []
    },
    {
      "cell_type": "code",
      "metadata": {
        "colab": {
          "base_uri": "https://localhost:8080/"
        },
        "id": "8oj5YqR6TdwZ",
        "outputId": "39411a83-72a3-4e27-bc48-cab09c603471"
      },
      "source": [
        "randomClassifier = RandomForestClassifier(n_estimators=200, criterion='entropy')\n",
        "randomClassifier.fit(trainDataset, train['Label'])"
      ],
      "execution_count": 10,
      "outputs": [
        {
          "output_type": "execute_result",
          "data": {
            "text/plain": [
              "RandomForestClassifier(bootstrap=True, ccp_alpha=0.0, class_weight=None,\n",
              "                       criterion='entropy', max_depth=None, max_features='auto',\n",
              "                       max_leaf_nodes=None, max_samples=None,\n",
              "                       min_impurity_decrease=0.0, min_impurity_split=None,\n",
              "                       min_samples_leaf=1, min_samples_split=2,\n",
              "                       min_weight_fraction_leaf=0.0, n_estimators=200,\n",
              "                       n_jobs=None, oob_score=False, random_state=None,\n",
              "                       verbose=0, warm_start=False)"
            ]
          },
          "metadata": {
            "tags": []
          },
          "execution_count": 10
        }
      ]
    },
    {
      "cell_type": "code",
      "metadata": {
        "colab": {
          "base_uri": "https://localhost:8080/"
        },
        "id": "Gp9ILN5IXgMQ",
        "outputId": "9f4203e5-d9de-4ed5-c309-f1121acc64c9"
      },
      "source": [
        "svmClassifier = svm.SVC(kernel='linear')\n",
        "svmClassifier.fit(trainDataset, train['Label'])"
      ],
      "execution_count": 11,
      "outputs": [
        {
          "output_type": "execute_result",
          "data": {
            "text/plain": [
              "SVC(C=1.0, break_ties=False, cache_size=200, class_weight=None, coef0=0.0,\n",
              "    decision_function_shape='ovr', degree=3, gamma='scale', kernel='linear',\n",
              "    max_iter=-1, probability=False, random_state=None, shrinking=True,\n",
              "    tol=0.001, verbose=False)"
            ]
          },
          "metadata": {
            "tags": []
          },
          "execution_count": 11
        }
      ]
    },
    {
      "cell_type": "code",
      "metadata": {
        "colab": {
          "base_uri": "https://localhost:8080/"
        },
        "id": "ySZvHVfZYLBc",
        "outputId": "3f02faf7-ad10-4f52-ddbb-81729b3d013a"
      },
      "source": [
        "adaClassifier = AdaBoostClassifier(n_estimators=200)\n",
        "adaClassifier.fit(trainDataset, train['Label'])"
      ],
      "execution_count": 18,
      "outputs": [
        {
          "output_type": "execute_result",
          "data": {
            "text/plain": [
              "AdaBoostClassifier(algorithm='SAMME.R', base_estimator=None, learning_rate=1.0,\n",
              "                   n_estimators=200, random_state=None)"
            ]
          },
          "metadata": {
            "tags": []
          },
          "execution_count": 18
        }
      ]
    },
    {
      "cell_type": "code",
      "metadata": {
        "colab": {
          "base_uri": "https://localhost:8080/"
        },
        "id": "vEtMCQ9jYze2",
        "outputId": "9ea303c6-cdd5-473b-c74e-82e53a7ee0a9"
      },
      "source": [
        "baggingClassifier = BaggingClassifier(base_estimator=svm.SVC(),n_estimators=10, random_state=0)\n",
        "baggingClassifier.fit(trainDataset, train['Label'])"
      ],
      "execution_count": 23,
      "outputs": [
        {
          "output_type": "execute_result",
          "data": {
            "text/plain": [
              "BaggingClassifier(base_estimator=SVC(C=1.0, break_ties=False, cache_size=200,\n",
              "                                     class_weight=None, coef0=0.0,\n",
              "                                     decision_function_shape='ovr', degree=3,\n",
              "                                     gamma='scale', kernel='rbf', max_iter=-1,\n",
              "                                     probability=False, random_state=None,\n",
              "                                     shrinking=True, tol=0.001, verbose=False),\n",
              "                  bootstrap=True, bootstrap_features=False, max_features=1.0,\n",
              "                  max_samples=1.0, n_estimators=10, n_jobs=None,\n",
              "                  oob_score=False, random_state=0, verbose=0, warm_start=False)"
            ]
          },
          "metadata": {
            "tags": []
          },
          "execution_count": 23
        }
      ]
    },
    {
      "cell_type": "code",
      "metadata": {
        "colab": {
          "base_uri": "https://localhost:8080/"
        },
        "id": "O1FlY7u3ZVKC",
        "outputId": "0c3972cd-ef3f-4ffc-ff58-5ae78d1e3dbc"
      },
      "source": [
        "dtClassifier = DecisionTreeClassifier(random_state=0)\n",
        "dtClassifier.fit(trainDataset, train['Label'])"
      ],
      "execution_count": 27,
      "outputs": [
        {
          "output_type": "execute_result",
          "data": {
            "text/plain": [
              "DecisionTreeClassifier(ccp_alpha=0.0, class_weight=None, criterion='gini',\n",
              "                       max_depth=None, max_features=None, max_leaf_nodes=None,\n",
              "                       min_impurity_decrease=0.0, min_impurity_split=None,\n",
              "                       min_samples_leaf=1, min_samples_split=2,\n",
              "                       min_weight_fraction_leaf=0.0, presort='deprecated',\n",
              "                       random_state=0, splitter='best')"
            ]
          },
          "metadata": {
            "tags": []
          },
          "execution_count": 27
        }
      ]
    },
    {
      "cell_type": "code",
      "metadata": {
        "id": "H5W3QB9KTjAH"
      },
      "source": [
        "testTransform =[]\n",
        "for row in range(0, len(test.index)):\n",
        "    testTransform.append(' '.join(str(x) for x in test.iloc[row, 2:3]))\n",
        "    \n",
        "test_dataset = tfidfVector.transform(testTransform)\n"
      ],
      "execution_count": 12,
      "outputs": []
    },
    {
      "cell_type": "code",
      "metadata": {
        "id": "lhh8T-VPX-Tb"
      },
      "source": [
        "# predictions = randomClassifier.predict(test_dataset)\n",
        "# predictions = svmClassifier.predict(test_dataset)\n",
        "# predictions = adaClassifier.predict(test_dataset)\n",
        "# predictions = baggingClassifier.predict(test_dataset)\n",
        "predictions = dtClassifier.predict(test_dataset)"
      ],
      "execution_count": 28,
      "outputs": []
    },
    {
      "cell_type": "code",
      "metadata": {
        "colab": {
          "base_uri": "https://localhost:8080/"
        },
        "id": "5KZKQ1iWTkxF",
        "outputId": "8bfbe173-0c29-4198-c3e5-c7804bd569cc"
      },
      "source": [
        "# Random Forest\n",
        "from sklearn.metrics import classification_report, accuracy_score, confusion_matrix\n",
        "matrix = confusion_matrix(test['Label'], predictions)\n",
        "print(matrix)\n",
        "score = accuracy_score(test['Label'], predictions)\n",
        "print(score)\n",
        "report = classification_report(test['Label'], predictions)\n",
        "print(report)"
      ],
      "execution_count": 12,
      "outputs": [
        {
          "output_type": "stream",
          "text": [
            "[[133  53]\n",
            " [  7 185]]\n",
            "0.8412698412698413\n",
            "              precision    recall  f1-score   support\n",
            "\n",
            "           0       0.95      0.72      0.82       186\n",
            "           1       0.78      0.96      0.86       192\n",
            "\n",
            "    accuracy                           0.84       378\n",
            "   macro avg       0.86      0.84      0.84       378\n",
            "weighted avg       0.86      0.84      0.84       378\n",
            "\n"
          ],
          "name": "stdout"
        }
      ]
    },
    {
      "cell_type": "code",
      "metadata": {
        "colab": {
          "base_uri": "https://localhost:8080/"
        },
        "id": "yf82Epv6XyNc",
        "outputId": "6a2109fe-5936-4041-a6b5-4ebf10134572"
      },
      "source": [
        "#SVM\n",
        "from sklearn.metrics import classification_report, accuracy_score, confusion_matrix\n",
        "matrix = confusion_matrix(test['Label'], predictions)\n",
        "print(matrix)\n",
        "score = accuracy_score(test['Label'], predictions)\n",
        "print(score)\n",
        "report = classification_report(test['Label'], predictions)\n",
        "print(report)"
      ],
      "execution_count": 13,
      "outputs": [
        {
          "output_type": "stream",
          "text": [
            "[[142  44]\n",
            " [ 21 171]]\n",
            "0.828042328042328\n",
            "              precision    recall  f1-score   support\n",
            "\n",
            "           0       0.87      0.76      0.81       186\n",
            "           1       0.80      0.89      0.84       192\n",
            "\n",
            "    accuracy                           0.83       378\n",
            "   macro avg       0.83      0.83      0.83       378\n",
            "weighted avg       0.83      0.83      0.83       378\n",
            "\n"
          ],
          "name": "stdout"
        }
      ]
    },
    {
      "cell_type": "code",
      "metadata": {
        "colab": {
          "base_uri": "https://localhost:8080/"
        },
        "id": "tQ0YUwwCYW2F",
        "outputId": "a28e817a-296d-444f-cd19-afb45c52eba3"
      },
      "source": [
        "#Adaboost\n",
        "from sklearn.metrics import classification_report, accuracy_score, confusion_matrix\n",
        "matrix = confusion_matrix(test['Label'], predictions)\n",
        "print(matrix)\n",
        "score = accuracy_score(test['Label'], predictions)\n",
        "print(score)\n",
        "report = classification_report(test['Label'], predictions)\n",
        "print(report)"
      ],
      "execution_count": 20,
      "outputs": [
        {
          "output_type": "stream",
          "text": [
            "[[ 65 121]\n",
            " [ 16 176]]\n",
            "0.6375661375661376\n",
            "              precision    recall  f1-score   support\n",
            "\n",
            "           0       0.80      0.35      0.49       186\n",
            "           1       0.59      0.92      0.72       192\n",
            "\n",
            "    accuracy                           0.64       378\n",
            "   macro avg       0.70      0.63      0.60       378\n",
            "weighted avg       0.70      0.64      0.61       378\n",
            "\n"
          ],
          "name": "stdout"
        }
      ]
    },
    {
      "cell_type": "code",
      "metadata": {
        "colab": {
          "base_uri": "https://localhost:8080/"
        },
        "id": "9wFE_Op3ZI1G",
        "outputId": "e9044a99-f89d-4418-c57c-f94b9e9da32f"
      },
      "source": [
        "#Bagging\n",
        "from sklearn.metrics import classification_report, accuracy_score, confusion_matrix\n",
        "matrix = confusion_matrix(test['Label'], predictions)\n",
        "print(matrix)\n",
        "score = accuracy_score(test['Label'], predictions)\n",
        "print(score)\n",
        "report = classification_report(test['Label'], predictions)\n",
        "print(report)"
      ],
      "execution_count": 25,
      "outputs": [
        {
          "output_type": "stream",
          "text": [
            "[[117  69]\n",
            " [  4 188]]\n",
            "0.8068783068783069\n",
            "              precision    recall  f1-score   support\n",
            "\n",
            "           0       0.97      0.63      0.76       186\n",
            "           1       0.73      0.98      0.84       192\n",
            "\n",
            "    accuracy                           0.81       378\n",
            "   macro avg       0.85      0.80      0.80       378\n",
            "weighted avg       0.85      0.81      0.80       378\n",
            "\n"
          ],
          "name": "stdout"
        }
      ]
    },
    {
      "cell_type": "code",
      "metadata": {
        "colab": {
          "base_uri": "https://localhost:8080/"
        },
        "id": "4KtCHg-EZfhv",
        "outputId": "30278dda-e923-49fb-d004-ef39b61dce50"
      },
      "source": [
        "#Decision Tree\n",
        "from sklearn.metrics import classification_report, accuracy_score, confusion_matrix\n",
        "matrix = confusion_matrix(test['Label'], predictions)\n",
        "print(matrix)\n",
        "score = accuracy_score(test['Label'], predictions)\n",
        "print(score)\n",
        "report = classification_report(test['Label'], predictions)\n",
        "print(report)"
      ],
      "execution_count": 29,
      "outputs": [
        {
          "output_type": "stream",
          "text": [
            "[[137  49]\n",
            " [ 19 173]]\n",
            "0.8201058201058201\n",
            "              precision    recall  f1-score   support\n",
            "\n",
            "           0       0.88      0.74      0.80       186\n",
            "           1       0.78      0.90      0.84       192\n",
            "\n",
            "    accuracy                           0.82       378\n",
            "   macro avg       0.83      0.82      0.82       378\n",
            "weighted avg       0.83      0.82      0.82       378\n",
            "\n"
          ],
          "name": "stdout"
        }
      ]
    },
    {
      "cell_type": "code",
      "metadata": {
        "id": "SK8w9klUURNP"
      },
      "source": [
        ""
      ],
      "execution_count": null,
      "outputs": []
    },
    {
      "cell_type": "code",
      "metadata": {
        "id": "Fnuz3FRVURQx"
      },
      "source": [
        ""
      ],
      "execution_count": null,
      "outputs": []
    },
    {
      "cell_type": "code",
      "metadata": {
        "id": "Et5XWbu2URfG"
      },
      "source": [
        "headlines = []\n",
        "for row in range(0, len(data.index)):\n",
        "    headlines.append(' '.join(str(x) for x in data.iloc[row, 0:5]))"
      ],
      "execution_count": 30,
      "outputs": []
    },
    {
      "cell_type": "code",
      "metadata": {
        "id": "FaP0E8uGURfH"
      },
      "source": [
        "from sklearn.feature_extraction.text import TfidfVectorizer\n",
        "from sklearn.ensemble import RandomForestClassifier"
      ],
      "execution_count": 14,
      "outputs": []
    },
    {
      "cell_type": "code",
      "metadata": {
        "id": "VL06neSIURfH"
      },
      "source": [
        "# implememt BAG OF WORDS\n",
        "tfidfVector = TfidfVectorizer(ngram_range=(2,2))\n",
        "#ngram(2,2) means it will combine the 2 words together and assign the value\n",
        "\n",
        "trainDataset = tfidfVector.fit_transform(headlines)"
      ],
      "execution_count": 31,
      "outputs": []
    },
    {
      "cell_type": "code",
      "metadata": {
        "colab": {
          "base_uri": "https://localhost:8080/"
        },
        "id": "5OrxueYyURfH",
        "outputId": "578ef80a-bf57-4676-d40f-efc1bc71e19b"
      },
      "source": [
        "randomClassifier = RandomForestClassifier(n_estimators=200, criterion='entropy')\n",
        "randomClassifier.fit(trainDataset, train['Label'])"
      ],
      "execution_count": 16,
      "outputs": [
        {
          "output_type": "execute_result",
          "data": {
            "text/plain": [
              "RandomForestClassifier(bootstrap=True, ccp_alpha=0.0, class_weight=None,\n",
              "                       criterion='entropy', max_depth=None, max_features='auto',\n",
              "                       max_leaf_nodes=None, max_samples=None,\n",
              "                       min_impurity_decrease=0.0, min_impurity_split=None,\n",
              "                       min_samples_leaf=1, min_samples_split=2,\n",
              "                       min_weight_fraction_leaf=0.0, n_estimators=200,\n",
              "                       n_jobs=None, oob_score=False, random_state=None,\n",
              "                       verbose=0, warm_start=False)"
            ]
          },
          "metadata": {
            "tags": []
          },
          "execution_count": 16
        }
      ]
    },
    {
      "cell_type": "code",
      "metadata": {
        "colab": {
          "base_uri": "https://localhost:8080/"
        },
        "id": "CNiKlokOZthi",
        "outputId": "0c667803-750a-42d1-ec35-2b2ba11d0feb"
      },
      "source": [
        "svmClassifier = svm.SVC(kernel='linear')\n",
        "svmClassifier.fit(trainDataset, train['Label'])"
      ],
      "execution_count": 32,
      "outputs": [
        {
          "output_type": "execute_result",
          "data": {
            "text/plain": [
              "SVC(C=1.0, break_ties=False, cache_size=200, class_weight=None, coef0=0.0,\n",
              "    decision_function_shape='ovr', degree=3, gamma='scale', kernel='linear',\n",
              "    max_iter=-1, probability=False, random_state=None, shrinking=True,\n",
              "    tol=0.001, verbose=False)"
            ]
          },
          "metadata": {
            "tags": []
          },
          "execution_count": 32
        }
      ]
    },
    {
      "cell_type": "code",
      "metadata": {
        "colab": {
          "base_uri": "https://localhost:8080/"
        },
        "id": "le_Kb2CDaQgh",
        "outputId": "f71cdf56-f88d-404e-823c-2c534f316408"
      },
      "source": [
        "adaClassifier = AdaBoostClassifier(n_estimators=200)\n",
        "adaClassifier.fit(trainDataset, train['Label'])"
      ],
      "execution_count": 36,
      "outputs": [
        {
          "output_type": "execute_result",
          "data": {
            "text/plain": [
              "AdaBoostClassifier(algorithm='SAMME.R', base_estimator=None, learning_rate=1.0,\n",
              "                   n_estimators=200, random_state=None)"
            ]
          },
          "metadata": {
            "tags": []
          },
          "execution_count": 36
        }
      ]
    },
    {
      "cell_type": "code",
      "metadata": {
        "colab": {
          "base_uri": "https://localhost:8080/"
        },
        "id": "cXZzy-ROaJbV",
        "outputId": "9d6f1e43-5b45-481f-efca-d13e52a95004"
      },
      "source": [
        "baggingClassifier = BaggingClassifier(base_estimator=svm.SVC(),n_estimators=10, random_state=0)\n",
        "baggingClassifier.fit(trainDataset, train['Label'])"
      ],
      "execution_count": 39,
      "outputs": [
        {
          "output_type": "execute_result",
          "data": {
            "text/plain": [
              "BaggingClassifier(base_estimator=SVC(C=1.0, break_ties=False, cache_size=200,\n",
              "                                     class_weight=None, coef0=0.0,\n",
              "                                     decision_function_shape='ovr', degree=3,\n",
              "                                     gamma='scale', kernel='rbf', max_iter=-1,\n",
              "                                     probability=False, random_state=None,\n",
              "                                     shrinking=True, tol=0.001, verbose=False),\n",
              "                  bootstrap=True, bootstrap_features=False, max_features=1.0,\n",
              "                  max_samples=1.0, n_estimators=10, n_jobs=None,\n",
              "                  oob_score=False, random_state=0, verbose=0, warm_start=False)"
            ]
          },
          "metadata": {
            "tags": []
          },
          "execution_count": 39
        }
      ]
    },
    {
      "cell_type": "code",
      "metadata": {
        "colab": {
          "base_uri": "https://localhost:8080/"
        },
        "id": "FIaiYQG-aJbV",
        "outputId": "74c5fb06-63c6-4617-cece-af6cedc881e0"
      },
      "source": [
        "dtClassifier = DecisionTreeClassifier(random_state=0)\n",
        "dtClassifier.fit(trainDataset, train['Label'])"
      ],
      "execution_count": 42,
      "outputs": [
        {
          "output_type": "execute_result",
          "data": {
            "text/plain": [
              "DecisionTreeClassifier(ccp_alpha=0.0, class_weight=None, criterion='gini',\n",
              "                       max_depth=None, max_features=None, max_leaf_nodes=None,\n",
              "                       min_impurity_decrease=0.0, min_impurity_split=None,\n",
              "                       min_samples_leaf=1, min_samples_split=2,\n",
              "                       min_weight_fraction_leaf=0.0, presort='deprecated',\n",
              "                       random_state=0, splitter='best')"
            ]
          },
          "metadata": {
            "tags": []
          },
          "execution_count": 42
        }
      ]
    },
    {
      "cell_type": "code",
      "metadata": {
        "id": "fy8zutM-URfH"
      },
      "source": [
        "testTransform =[]\n",
        "for row in range(0, len(test.index)):\n",
        "    testTransform.append(' '.join(str(x) for x in test.iloc[row, 2:7]))\n",
        "    \n",
        "test_dataset = tfidfVector.transform(testTransform)"
      ],
      "execution_count": 33,
      "outputs": []
    },
    {
      "cell_type": "code",
      "metadata": {
        "id": "I-mShTaYZ2HX"
      },
      "source": [
        "# predictions = randomClassifier.predict(test_dataset)\n",
        "# predictions = svmClassifier.predict(test_dataset)\n",
        "# predictions = adaClassifier.predict(test_dataset)\n",
        "# predictions = baggingClassifier.predict(test_dataset)\n",
        "predictions = dtClassifier.predict(test_dataset)"
      ],
      "execution_count": 43,
      "outputs": []
    },
    {
      "cell_type": "code",
      "metadata": {
        "colab": {
          "base_uri": "https://localhost:8080/"
        },
        "id": "UfGyjWm-URfI",
        "outputId": "cb530d63-fd99-4ad4-85ea-d5d7f7b6896e"
      },
      "source": [
        "#Random Forest\n",
        "from sklearn.metrics import classification_report, accuracy_score, confusion_matrix\n",
        "matrix = confusion_matrix(test['Label'], predictions)\n",
        "print(matrix)\n",
        "score = accuracy_score(test['Label'], predictions)\n",
        "print(score)\n",
        "report = classification_report(test['Label'], predictions)\n",
        "print(report)"
      ],
      "execution_count": 18,
      "outputs": [
        {
          "output_type": "stream",
          "text": [
            "[[140  46]\n",
            " [ 16 176]]\n",
            "0.8359788359788359\n",
            "              precision    recall  f1-score   support\n",
            "\n",
            "           0       0.90      0.75      0.82       186\n",
            "           1       0.79      0.92      0.85       192\n",
            "\n",
            "    accuracy                           0.84       378\n",
            "   macro avg       0.85      0.83      0.83       378\n",
            "weighted avg       0.84      0.84      0.83       378\n",
            "\n"
          ],
          "name": "stdout"
        }
      ]
    },
    {
      "cell_type": "code",
      "metadata": {
        "colab": {
          "base_uri": "https://localhost:8080/"
        },
        "id": "CHtUqyIFZ-R7",
        "outputId": "ba4b4e99-843c-4cab-9b23-3ac5c4c2c028"
      },
      "source": [
        "#SVM\n",
        "from sklearn.metrics import classification_report, accuracy_score, confusion_matrix\n",
        "matrix = confusion_matrix(test['Label'], predictions)\n",
        "print(matrix)\n",
        "score = accuracy_score(test['Label'], predictions)\n",
        "print(score)\n",
        "report = classification_report(test['Label'], predictions)\n",
        "print(report)"
      ],
      "execution_count": 35,
      "outputs": [
        {
          "output_type": "stream",
          "text": [
            "[[144  42]\n",
            " [ 19 173]]\n",
            "0.8386243386243386\n",
            "              precision    recall  f1-score   support\n",
            "\n",
            "           0       0.88      0.77      0.83       186\n",
            "           1       0.80      0.90      0.85       192\n",
            "\n",
            "    accuracy                           0.84       378\n",
            "   macro avg       0.84      0.84      0.84       378\n",
            "weighted avg       0.84      0.84      0.84       378\n",
            "\n"
          ],
          "name": "stdout"
        }
      ]
    },
    {
      "cell_type": "code",
      "metadata": {
        "colab": {
          "base_uri": "https://localhost:8080/"
        },
        "id": "atIogCnXaXaA",
        "outputId": "9e8cc596-6f30-4fce-88c5-08a658f4b6a7"
      },
      "source": [
        "#Adaboost\n",
        "from sklearn.metrics import classification_report, accuracy_score, confusion_matrix\n",
        "matrix = confusion_matrix(test['Label'], predictions)\n",
        "print(matrix)\n",
        "score = accuracy_score(test['Label'], predictions)\n",
        "print(score)\n",
        "report = classification_report(test['Label'], predictions)\n",
        "print(report)"
      ],
      "execution_count": 38,
      "outputs": [
        {
          "output_type": "stream",
          "text": [
            "[[118  68]\n",
            " [ 37 155]]\n",
            "0.7222222222222222\n",
            "              precision    recall  f1-score   support\n",
            "\n",
            "           0       0.76      0.63      0.69       186\n",
            "           1       0.70      0.81      0.75       192\n",
            "\n",
            "    accuracy                           0.72       378\n",
            "   macro avg       0.73      0.72      0.72       378\n",
            "weighted avg       0.73      0.72      0.72       378\n",
            "\n"
          ],
          "name": "stdout"
        }
      ]
    },
    {
      "cell_type": "code",
      "metadata": {
        "colab": {
          "base_uri": "https://localhost:8080/"
        },
        "id": "GPUfad9Cah2-",
        "outputId": "cef1efde-9950-461f-b1b0-b4c056187ca7"
      },
      "source": [
        "#Bagging\n",
        "from sklearn.metrics import classification_report, accuracy_score, confusion_matrix\n",
        "matrix = confusion_matrix(test['Label'], predictions)\n",
        "print(matrix)\n",
        "score = accuracy_score(test['Label'], predictions)\n",
        "print(score)\n",
        "report = classification_report(test['Label'], predictions)\n",
        "print(report)"
      ],
      "execution_count": 41,
      "outputs": [
        {
          "output_type": "stream",
          "text": [
            "[[117  69]\n",
            " [  1 191]]\n",
            "0.8148148148148148\n",
            "              precision    recall  f1-score   support\n",
            "\n",
            "           0       0.99      0.63      0.77       186\n",
            "           1       0.73      0.99      0.85       192\n",
            "\n",
            "    accuracy                           0.81       378\n",
            "   macro avg       0.86      0.81      0.81       378\n",
            "weighted avg       0.86      0.81      0.81       378\n",
            "\n"
          ],
          "name": "stdout"
        }
      ]
    },
    {
      "cell_type": "code",
      "metadata": {
        "colab": {
          "base_uri": "https://localhost:8080/"
        },
        "id": "usRv57ptaqpQ",
        "outputId": "21fe8512-d582-47f4-95a6-67a945b0b8f6"
      },
      "source": [
        "#Decision Tree\n",
        "from sklearn.metrics import classification_report, accuracy_score, confusion_matrix\n",
        "matrix = confusion_matrix(test['Label'], predictions)\n",
        "print(matrix)\n",
        "score = accuracy_score(test['Label'], predictions)\n",
        "print(score)\n",
        "report = classification_report(test['Label'], predictions)\n",
        "print(report)"
      ],
      "execution_count": 44,
      "outputs": [
        {
          "output_type": "stream",
          "text": [
            "[[153  33]\n",
            " [ 36 156]]\n",
            "0.8174603174603174\n",
            "              precision    recall  f1-score   support\n",
            "\n",
            "           0       0.81      0.82      0.82       186\n",
            "           1       0.83      0.81      0.82       192\n",
            "\n",
            "    accuracy                           0.82       378\n",
            "   macro avg       0.82      0.82      0.82       378\n",
            "weighted avg       0.82      0.82      0.82       378\n",
            "\n"
          ],
          "name": "stdout"
        }
      ]
    },
    {
      "cell_type": "code",
      "metadata": {
        "id": "Yp3OP5CAaXdA"
      },
      "source": [
        ""
      ],
      "execution_count": null,
      "outputs": []
    },
    {
      "cell_type": "code",
      "metadata": {
        "id": "awWqDwjaUwxH"
      },
      "source": [
        ""
      ],
      "execution_count": null,
      "outputs": []
    },
    {
      "cell_type": "code",
      "metadata": {
        "id": "60NkL0TOUw4o"
      },
      "source": [
        ""
      ],
      "execution_count": null,
      "outputs": []
    },
    {
      "cell_type": "code",
      "metadata": {
        "id": "mdZQJi9tUxMO"
      },
      "source": [
        "headlines = []\n",
        "for row in range(0, len(data.index)):\n",
        "    headlines.append(' '.join(str(x) for x in data.iloc[row, 0:10]))"
      ],
      "execution_count": 45,
      "outputs": []
    },
    {
      "cell_type": "code",
      "metadata": {
        "id": "FsCise7GUxMP"
      },
      "source": [
        "from sklearn.feature_extraction.text import TfidfVectorizer\n",
        "from sklearn.ensemble import RandomForestClassifier"
      ],
      "execution_count": 20,
      "outputs": []
    },
    {
      "cell_type": "code",
      "metadata": {
        "id": "0o68_qUcUxMP"
      },
      "source": [
        "# implememt BAG OF WORDS\n",
        "tfidfVector = TfidfVectorizer(ngram_range=(2,2))\n",
        "#ngram(2,2) means it will combine the 2 words together and assign the value\n",
        "\n",
        "trainDataset = tfidfVector.fit_transform(headlines)"
      ],
      "execution_count": 46,
      "outputs": []
    },
    {
      "cell_type": "code",
      "metadata": {
        "colab": {
          "base_uri": "https://localhost:8080/"
        },
        "id": "krL4NAxnUxMQ",
        "outputId": "644f5732-1d93-4dcd-a3da-f3a5f2be7d4e"
      },
      "source": [
        "randomClassifier = RandomForestClassifier(n_estimators=200, criterion='entropy')\n",
        "randomClassifier.fit(trainDataset, train['Label'])"
      ],
      "execution_count": 22,
      "outputs": [
        {
          "output_type": "execute_result",
          "data": {
            "text/plain": [
              "RandomForestClassifier(bootstrap=True, ccp_alpha=0.0, class_weight=None,\n",
              "                       criterion='entropy', max_depth=None, max_features='auto',\n",
              "                       max_leaf_nodes=None, max_samples=None,\n",
              "                       min_impurity_decrease=0.0, min_impurity_split=None,\n",
              "                       min_samples_leaf=1, min_samples_split=2,\n",
              "                       min_weight_fraction_leaf=0.0, n_estimators=200,\n",
              "                       n_jobs=None, oob_score=False, random_state=None,\n",
              "                       verbose=0, warm_start=False)"
            ]
          },
          "metadata": {
            "tags": []
          },
          "execution_count": 22
        }
      ]
    },
    {
      "cell_type": "code",
      "metadata": {
        "colab": {
          "base_uri": "https://localhost:8080/"
        },
        "id": "3Db7LuJJa4uX",
        "outputId": "e8fb0a66-2d4f-42d3-cef2-c54d7d9596f5"
      },
      "source": [
        "svmClassifier = svm.SVC(kernel='linear')\n",
        "svmClassifier.fit(trainDataset, train['Label'])"
      ],
      "execution_count": 47,
      "outputs": [
        {
          "output_type": "execute_result",
          "data": {
            "text/plain": [
              "SVC(C=1.0, break_ties=False, cache_size=200, class_weight=None, coef0=0.0,\n",
              "    decision_function_shape='ovr', degree=3, gamma='scale', kernel='linear',\n",
              "    max_iter=-1, probability=False, random_state=None, shrinking=True,\n",
              "    tol=0.001, verbose=False)"
            ]
          },
          "metadata": {
            "tags": []
          },
          "execution_count": 47
        }
      ]
    },
    {
      "cell_type": "code",
      "metadata": {
        "colab": {
          "base_uri": "https://localhost:8080/"
        },
        "id": "tmFmYXhua4uY",
        "outputId": "797aa0dd-c506-430f-ffae-ce0d866ee490"
      },
      "source": [
        "adaClassifier = AdaBoostClassifier(n_estimators=200)\n",
        "adaClassifier.fit(trainDataset, train['Label'])"
      ],
      "execution_count": 52,
      "outputs": [
        {
          "output_type": "execute_result",
          "data": {
            "text/plain": [
              "AdaBoostClassifier(algorithm='SAMME.R', base_estimator=None, learning_rate=1.0,\n",
              "                   n_estimators=200, random_state=None)"
            ]
          },
          "metadata": {
            "tags": []
          },
          "execution_count": 52
        }
      ]
    },
    {
      "cell_type": "code",
      "metadata": {
        "colab": {
          "base_uri": "https://localhost:8080/"
        },
        "id": "ATCWSWwXa4uY",
        "outputId": "f6348d37-8458-4992-a0b3-be699cd75668"
      },
      "source": [
        "baggingClassifier = BaggingClassifier(base_estimator=svm.SVC(),n_estimators=10, random_state=0)\n",
        "baggingClassifier.fit(trainDataset, train['Label'])"
      ],
      "execution_count": 55,
      "outputs": [
        {
          "output_type": "execute_result",
          "data": {
            "text/plain": [
              "BaggingClassifier(base_estimator=SVC(C=1.0, break_ties=False, cache_size=200,\n",
              "                                     class_weight=None, coef0=0.0,\n",
              "                                     decision_function_shape='ovr', degree=3,\n",
              "                                     gamma='scale', kernel='rbf', max_iter=-1,\n",
              "                                     probability=False, random_state=None,\n",
              "                                     shrinking=True, tol=0.001, verbose=False),\n",
              "                  bootstrap=True, bootstrap_features=False, max_features=1.0,\n",
              "                  max_samples=1.0, n_estimators=10, n_jobs=None,\n",
              "                  oob_score=False, random_state=0, verbose=0, warm_start=False)"
            ]
          },
          "metadata": {
            "tags": []
          },
          "execution_count": 55
        }
      ]
    },
    {
      "cell_type": "code",
      "metadata": {
        "colab": {
          "base_uri": "https://localhost:8080/"
        },
        "id": "ANQMc3Dba4uY",
        "outputId": "b384b566-1ab1-4c48-b9ef-10a61ffe674c"
      },
      "source": [
        "dtClassifier = DecisionTreeClassifier(random_state=0)\n",
        "dtClassifier.fit(trainDataset, train['Label'])"
      ],
      "execution_count": 58,
      "outputs": [
        {
          "output_type": "execute_result",
          "data": {
            "text/plain": [
              "DecisionTreeClassifier(ccp_alpha=0.0, class_weight=None, criterion='gini',\n",
              "                       max_depth=None, max_features=None, max_leaf_nodes=None,\n",
              "                       min_impurity_decrease=0.0, min_impurity_split=None,\n",
              "                       min_samples_leaf=1, min_samples_split=2,\n",
              "                       min_weight_fraction_leaf=0.0, presort='deprecated',\n",
              "                       random_state=0, splitter='best')"
            ]
          },
          "metadata": {
            "tags": []
          },
          "execution_count": 58
        }
      ]
    },
    {
      "cell_type": "code",
      "metadata": {
        "id": "bcg0NOnWUxMQ"
      },
      "source": [
        "testTransform =[]\n",
        "for row in range(0, len(test.index)):\n",
        "    testTransform.append(' '.join(str(x) for x in test.iloc[row, 2:12]))\n",
        "    \n",
        "test_dataset = tfidfVector.transform(testTransform)"
      ],
      "execution_count": 49,
      "outputs": []
    },
    {
      "cell_type": "code",
      "metadata": {
        "id": "kVnzM1L_a-9X"
      },
      "source": [
        "# predictions = randomClassifier.predict(test_dataset)\n",
        "# predictions = svmClassifier.predict(test_dataset)\n",
        "# predictions = adaClassifier.predict(test_dataset)\n",
        "# predictions = baggingClassifier.predict(test_dataset)\n",
        "predictions = dtClassifier.predict(test_dataset)"
      ],
      "execution_count": 59,
      "outputs": []
    },
    {
      "cell_type": "code",
      "metadata": {
        "colab": {
          "base_uri": "https://localhost:8080/"
        },
        "id": "dbcdvQ2SUxMQ",
        "outputId": "61962c9a-953d-48be-fdb2-7315f572e0be"
      },
      "source": [
        "# Random Forest\n",
        "from sklearn.metrics import classification_report, accuracy_score, confusion_matrix\n",
        "matrix = confusion_matrix(test['Label'], predictions)\n",
        "print(matrix)\n",
        "score = accuracy_score(test['Label'], predictions)\n",
        "print(score)\n",
        "report = classification_report(test['Label'], predictions)\n",
        "print(report)"
      ],
      "execution_count": 24,
      "outputs": [
        {
          "output_type": "stream",
          "text": [
            "[[144  42]\n",
            " [ 16 176]]\n",
            "0.8465608465608465\n",
            "              precision    recall  f1-score   support\n",
            "\n",
            "           0       0.90      0.77      0.83       186\n",
            "           1       0.81      0.92      0.86       192\n",
            "\n",
            "    accuracy                           0.85       378\n",
            "   macro avg       0.85      0.85      0.85       378\n",
            "weighted avg       0.85      0.85      0.85       378\n",
            "\n"
          ],
          "name": "stdout"
        }
      ]
    },
    {
      "cell_type": "code",
      "metadata": {
        "colab": {
          "base_uri": "https://localhost:8080/"
        },
        "id": "GBExyCp-bJX0",
        "outputId": "52124cd1-db20-41ae-d4c4-68ebaa7d373e"
      },
      "source": [
        "# SVM\n",
        "from sklearn.metrics import classification_report, accuracy_score, confusion_matrix\n",
        "matrix = confusion_matrix(test['Label'], predictions)\n",
        "print(matrix)\n",
        "score = accuracy_score(test['Label'], predictions)\n",
        "print(score)\n",
        "report = classification_report(test['Label'], predictions)\n",
        "print(report)"
      ],
      "execution_count": 51,
      "outputs": [
        {
          "output_type": "stream",
          "text": [
            "[[144  42]\n",
            " [ 21 171]]\n",
            "0.8333333333333334\n",
            "              precision    recall  f1-score   support\n",
            "\n",
            "           0       0.87      0.77      0.82       186\n",
            "           1       0.80      0.89      0.84       192\n",
            "\n",
            "    accuracy                           0.83       378\n",
            "   macro avg       0.84      0.83      0.83       378\n",
            "weighted avg       0.84      0.83      0.83       378\n",
            "\n"
          ],
          "name": "stdout"
        }
      ]
    },
    {
      "cell_type": "code",
      "metadata": {
        "colab": {
          "base_uri": "https://localhost:8080/"
        },
        "id": "f00gxqHDbWA7",
        "outputId": "f811b980-1289-495d-82cc-5346e7d3837c"
      },
      "source": [
        "# Adaboost\n",
        "from sklearn.metrics import classification_report, accuracy_score, confusion_matrix\n",
        "matrix = confusion_matrix(test['Label'], predictions)\n",
        "print(matrix)\n",
        "score = accuracy_score(test['Label'], predictions)\n",
        "print(score)\n",
        "report = classification_report(test['Label'], predictions)\n",
        "print(report)"
      ],
      "execution_count": 54,
      "outputs": [
        {
          "output_type": "stream",
          "text": [
            "[[121  65]\n",
            " [ 41 151]]\n",
            "0.7195767195767195\n",
            "              precision    recall  f1-score   support\n",
            "\n",
            "           0       0.75      0.65      0.70       186\n",
            "           1       0.70      0.79      0.74       192\n",
            "\n",
            "    accuracy                           0.72       378\n",
            "   macro avg       0.72      0.72      0.72       378\n",
            "weighted avg       0.72      0.72      0.72       378\n",
            "\n"
          ],
          "name": "stdout"
        }
      ]
    },
    {
      "cell_type": "code",
      "metadata": {
        "colab": {
          "base_uri": "https://localhost:8080/"
        },
        "id": "Nd44wCacel6o",
        "outputId": "6ab489b2-81d2-4205-fda4-4bf4bc5fb184"
      },
      "source": [
        "# Bagging\n",
        "from sklearn.metrics import classification_report, accuracy_score, confusion_matrix\n",
        "matrix = confusion_matrix(test['Label'], predictions)\n",
        "print(matrix)\n",
        "score = accuracy_score(test['Label'], predictions)\n",
        "print(score)\n",
        "report = classification_report(test['Label'], predictions)\n",
        "print(report)"
      ],
      "execution_count": 57,
      "outputs": [
        {
          "output_type": "stream",
          "text": [
            "[[116  70]\n",
            " [  0 192]]\n",
            "0.8148148148148148\n",
            "              precision    recall  f1-score   support\n",
            "\n",
            "           0       1.00      0.62      0.77       186\n",
            "           1       0.73      1.00      0.85       192\n",
            "\n",
            "    accuracy                           0.81       378\n",
            "   macro avg       0.87      0.81      0.81       378\n",
            "weighted avg       0.86      0.81      0.81       378\n",
            "\n"
          ],
          "name": "stdout"
        }
      ]
    },
    {
      "cell_type": "code",
      "metadata": {
        "colab": {
          "base_uri": "https://localhost:8080/"
        },
        "id": "ZyPHVW4GevcH",
        "outputId": "f8c819d6-c4fa-49cd-bb15-d94408169ca9"
      },
      "source": [
        "# Decision Tree\n",
        "from sklearn.metrics import classification_report, accuracy_score, confusion_matrix\n",
        "matrix = confusion_matrix(test['Label'], predictions)\n",
        "print(matrix)\n",
        "score = accuracy_score(test['Label'], predictions)\n",
        "print(score)\n",
        "report = classification_report(test['Label'], predictions)\n",
        "print(report)"
      ],
      "execution_count": 60,
      "outputs": [
        {
          "output_type": "stream",
          "text": [
            "[[150  36]\n",
            " [ 49 143]]\n",
            "0.7751322751322751\n",
            "              precision    recall  f1-score   support\n",
            "\n",
            "           0       0.75      0.81      0.78       186\n",
            "           1       0.80      0.74      0.77       192\n",
            "\n",
            "    accuracy                           0.78       378\n",
            "   macro avg       0.78      0.78      0.78       378\n",
            "weighted avg       0.78      0.78      0.77       378\n",
            "\n"
          ],
          "name": "stdout"
        }
      ]
    },
    {
      "cell_type": "code",
      "metadata": {
        "id": "H7YI8kp0U5eF"
      },
      "source": [
        ""
      ],
      "execution_count": null,
      "outputs": []
    },
    {
      "cell_type": "code",
      "metadata": {
        "id": "ZLroQGOMU5ho"
      },
      "source": [
        ""
      ],
      "execution_count": null,
      "outputs": []
    },
    {
      "cell_type": "code",
      "metadata": {
        "id": "gE4T_McxU5sB"
      },
      "source": [
        "headlines = []\n",
        "for row in range(0, len(data.index)):\n",
        "    headlines.append(' '.join(str(x) for x in data.iloc[row, 0:15]))"
      ],
      "execution_count": 61,
      "outputs": []
    },
    {
      "cell_type": "code",
      "metadata": {
        "id": "F3zMItVxU5sB"
      },
      "source": [
        "from sklearn.feature_extraction.text import TfidfVectorizer\n",
        "from sklearn.ensemble import RandomForestClassifier"
      ],
      "execution_count": 26,
      "outputs": []
    },
    {
      "cell_type": "code",
      "metadata": {
        "id": "UDjbfuFtU5sC"
      },
      "source": [
        "# implememt BAG OF WORDS\n",
        "tfidfVector = TfidfVectorizer(ngram_range=(2,2))\n",
        "#ngram(2,2) means it will combine the 2 words together and assign the value\n",
        "\n",
        "trainDataset = tfidfVector.fit_transform(headlines)"
      ],
      "execution_count": 62,
      "outputs": []
    },
    {
      "cell_type": "code",
      "metadata": {
        "colab": {
          "base_uri": "https://localhost:8080/"
        },
        "id": "gpH_dlxjU5sC",
        "outputId": "d68de036-a1fc-434a-a9f3-78a7fdbf9af8"
      },
      "source": [
        "randomClassifier = RandomForestClassifier(n_estimators=200, criterion='entropy')\n",
        "randomClassifier.fit(trainDataset, train['Label'])"
      ],
      "execution_count": 28,
      "outputs": [
        {
          "output_type": "execute_result",
          "data": {
            "text/plain": [
              "RandomForestClassifier(bootstrap=True, ccp_alpha=0.0, class_weight=None,\n",
              "                       criterion='entropy', max_depth=None, max_features='auto',\n",
              "                       max_leaf_nodes=None, max_samples=None,\n",
              "                       min_impurity_decrease=0.0, min_impurity_split=None,\n",
              "                       min_samples_leaf=1, min_samples_split=2,\n",
              "                       min_weight_fraction_leaf=0.0, n_estimators=200,\n",
              "                       n_jobs=None, oob_score=False, random_state=None,\n",
              "                       verbose=0, warm_start=False)"
            ]
          },
          "metadata": {
            "tags": []
          },
          "execution_count": 28
        }
      ]
    },
    {
      "cell_type": "code",
      "metadata": {
        "colab": {
          "base_uri": "https://localhost:8080/"
        },
        "id": "kOihe_0Fe42q",
        "outputId": "6ae176da-1abd-4af0-bd38-e6d2fd71e90e"
      },
      "source": [
        "svmClassifier = svm.SVC(kernel='linear')\n",
        "svmClassifier.fit(trainDataset, train['Label'])"
      ],
      "execution_count": 63,
      "outputs": [
        {
          "output_type": "execute_result",
          "data": {
            "text/plain": [
              "SVC(C=1.0, break_ties=False, cache_size=200, class_weight=None, coef0=0.0,\n",
              "    decision_function_shape='ovr', degree=3, gamma='scale', kernel='linear',\n",
              "    max_iter=-1, probability=False, random_state=None, shrinking=True,\n",
              "    tol=0.001, verbose=False)"
            ]
          },
          "metadata": {
            "tags": []
          },
          "execution_count": 63
        }
      ]
    },
    {
      "cell_type": "code",
      "metadata": {
        "colab": {
          "base_uri": "https://localhost:8080/"
        },
        "id": "So32KOH_e42r",
        "outputId": "179ded83-e7b3-4d82-dcf3-2ec5a8af7729"
      },
      "source": [
        "adaClassifier = AdaBoostClassifier(n_estimators=200)\n",
        "adaClassifier.fit(trainDataset, train['Label'])"
      ],
      "execution_count": 68,
      "outputs": [
        {
          "output_type": "execute_result",
          "data": {
            "text/plain": [
              "AdaBoostClassifier(algorithm='SAMME.R', base_estimator=None, learning_rate=1.0,\n",
              "                   n_estimators=200, random_state=None)"
            ]
          },
          "metadata": {
            "tags": []
          },
          "execution_count": 68
        }
      ]
    },
    {
      "cell_type": "code",
      "metadata": {
        "colab": {
          "base_uri": "https://localhost:8080/"
        },
        "id": "ACZov7q8e42r",
        "outputId": "c2585db3-52b6-4f10-8fa1-df44670a7fe1"
      },
      "source": [
        "baggingClassifier = BaggingClassifier(base_estimator=svm.SVC(),n_estimators=10, random_state=0)\n",
        "baggingClassifier.fit(trainDataset, train['Label'])"
      ],
      "execution_count": 71,
      "outputs": [
        {
          "output_type": "execute_result",
          "data": {
            "text/plain": [
              "BaggingClassifier(base_estimator=SVC(C=1.0, break_ties=False, cache_size=200,\n",
              "                                     class_weight=None, coef0=0.0,\n",
              "                                     decision_function_shape='ovr', degree=3,\n",
              "                                     gamma='scale', kernel='rbf', max_iter=-1,\n",
              "                                     probability=False, random_state=None,\n",
              "                                     shrinking=True, tol=0.001, verbose=False),\n",
              "                  bootstrap=True, bootstrap_features=False, max_features=1.0,\n",
              "                  max_samples=1.0, n_estimators=10, n_jobs=None,\n",
              "                  oob_score=False, random_state=0, verbose=0, warm_start=False)"
            ]
          },
          "metadata": {
            "tags": []
          },
          "execution_count": 71
        }
      ]
    },
    {
      "cell_type": "code",
      "metadata": {
        "colab": {
          "base_uri": "https://localhost:8080/"
        },
        "id": "S8hQHfGGe42r",
        "outputId": "d9e8da19-ebba-41a8-e105-103f49bbdaf2"
      },
      "source": [
        "dtClassifier = DecisionTreeClassifier(random_state=0)\n",
        "dtClassifier.fit(trainDataset, train['Label'])"
      ],
      "execution_count": 74,
      "outputs": [
        {
          "output_type": "execute_result",
          "data": {
            "text/plain": [
              "DecisionTreeClassifier(ccp_alpha=0.0, class_weight=None, criterion='gini',\n",
              "                       max_depth=None, max_features=None, max_leaf_nodes=None,\n",
              "                       min_impurity_decrease=0.0, min_impurity_split=None,\n",
              "                       min_samples_leaf=1, min_samples_split=2,\n",
              "                       min_weight_fraction_leaf=0.0, presort='deprecated',\n",
              "                       random_state=0, splitter='best')"
            ]
          },
          "metadata": {
            "tags": []
          },
          "execution_count": 74
        }
      ]
    },
    {
      "cell_type": "code",
      "metadata": {
        "id": "UH1tyitvU5sC"
      },
      "source": [
        "testTransform =[]\n",
        "for row in range(0, len(test.index)):\n",
        "    testTransform.append(' '.join(str(x) for x in test.iloc[row, 2:17]))\n",
        "    \n",
        "test_dataset = tfidfVector.transform(testTransform)\n"
      ],
      "execution_count": 65,
      "outputs": []
    },
    {
      "cell_type": "code",
      "metadata": {
        "id": "DeS28pOyfAgW"
      },
      "source": [
        "# predictions = randomClassifier.predict(test_dataset)\n",
        "# predictions = svmClassifier.predict(test_dataset)\n",
        "# predictions = adaClassifier.predict(test_dataset)\n",
        "# predictions = baggingClassifier.predict(test_dataset)\n",
        "predictions = dtClassifier.predict(test_dataset)"
      ],
      "execution_count": 75,
      "outputs": []
    },
    {
      "cell_type": "code",
      "metadata": {
        "id": "WZ9M1EiTe8j0"
      },
      "source": [
        ""
      ],
      "execution_count": null,
      "outputs": []
    },
    {
      "cell_type": "code",
      "metadata": {
        "colab": {
          "base_uri": "https://localhost:8080/"
        },
        "id": "OUYevddMU5sC",
        "outputId": "ac984b1b-bb22-4b73-b5a3-1ee0628f9f51"
      },
      "source": [
        "# Random Forest\n",
        "from sklearn.metrics import classification_report, accuracy_score, confusion_matrix\n",
        "matrix = confusion_matrix(test['Label'], predictions)\n",
        "print(matrix)\n",
        "score = accuracy_score(test['Label'], predictions)\n",
        "print(score)\n",
        "report = classification_report(test['Label'], predictions)\n",
        "print(report)"
      ],
      "execution_count": 30,
      "outputs": [
        {
          "output_type": "stream",
          "text": [
            "[[148  38]\n",
            " [ 24 168]]\n",
            "0.8359788359788359\n",
            "              precision    recall  f1-score   support\n",
            "\n",
            "           0       0.86      0.80      0.83       186\n",
            "           1       0.82      0.88      0.84       192\n",
            "\n",
            "    accuracy                           0.84       378\n",
            "   macro avg       0.84      0.84      0.84       378\n",
            "weighted avg       0.84      0.84      0.84       378\n",
            "\n"
          ],
          "name": "stdout"
        }
      ]
    },
    {
      "cell_type": "code",
      "metadata": {
        "colab": {
          "base_uri": "https://localhost:8080/"
        },
        "id": "nptJVxBDfFpl",
        "outputId": "99410562-0b1c-4774-afa6-30d7f579872f"
      },
      "source": [
        "# SVM\n",
        "from sklearn.metrics import classification_report, accuracy_score, confusion_matrix\n",
        "matrix = confusion_matrix(test['Label'], predictions)\n",
        "print(matrix)\n",
        "score = accuracy_score(test['Label'], predictions)\n",
        "print(score)\n",
        "report = classification_report(test['Label'], predictions)\n",
        "print(report)"
      ],
      "execution_count": 67,
      "outputs": [
        {
          "output_type": "stream",
          "text": [
            "[[143  43]\n",
            " [ 19 173]]\n",
            "0.8359788359788359\n",
            "              precision    recall  f1-score   support\n",
            "\n",
            "           0       0.88      0.77      0.82       186\n",
            "           1       0.80      0.90      0.85       192\n",
            "\n",
            "    accuracy                           0.84       378\n",
            "   macro avg       0.84      0.83      0.83       378\n",
            "weighted avg       0.84      0.84      0.84       378\n",
            "\n"
          ],
          "name": "stdout"
        }
      ]
    },
    {
      "cell_type": "code",
      "metadata": {
        "colab": {
          "base_uri": "https://localhost:8080/"
        },
        "id": "HlgccUEPfPWA",
        "outputId": "3a2efbde-8668-46e3-b73c-1350a91153fe"
      },
      "source": [
        "# Adaboost\n",
        "from sklearn.metrics import classification_report, accuracy_score, confusion_matrix\n",
        "matrix = confusion_matrix(test['Label'], predictions)\n",
        "print(matrix)\n",
        "score = accuracy_score(test['Label'], predictions)\n",
        "print(score)\n",
        "report = classification_report(test['Label'], predictions)\n",
        "print(report)"
      ],
      "execution_count": 70,
      "outputs": [
        {
          "output_type": "stream",
          "text": [
            "[[136  50]\n",
            " [ 46 146]]\n",
            "0.746031746031746\n",
            "              precision    recall  f1-score   support\n",
            "\n",
            "           0       0.75      0.73      0.74       186\n",
            "           1       0.74      0.76      0.75       192\n",
            "\n",
            "    accuracy                           0.75       378\n",
            "   macro avg       0.75      0.75      0.75       378\n",
            "weighted avg       0.75      0.75      0.75       378\n",
            "\n"
          ],
          "name": "stdout"
        }
      ]
    },
    {
      "cell_type": "code",
      "metadata": {
        "colab": {
          "base_uri": "https://localhost:8080/"
        },
        "id": "rcRUjzmYfZf4",
        "outputId": "cb986c87-57d1-4193-ac73-49663be25a67"
      },
      "source": [
        "# Bagging\n",
        "from sklearn.metrics import classification_report, accuracy_score, confusion_matrix\n",
        "matrix = confusion_matrix(test['Label'], predictions)\n",
        "print(matrix)\n",
        "score = accuracy_score(test['Label'], predictions)\n",
        "print(score)\n",
        "report = classification_report(test['Label'], predictions)\n",
        "print(report)"
      ],
      "execution_count": 73,
      "outputs": [
        {
          "output_type": "stream",
          "text": [
            "[[116  70]\n",
            " [  0 192]]\n",
            "0.8148148148148148\n",
            "              precision    recall  f1-score   support\n",
            "\n",
            "           0       1.00      0.62      0.77       186\n",
            "           1       0.73      1.00      0.85       192\n",
            "\n",
            "    accuracy                           0.81       378\n",
            "   macro avg       0.87      0.81      0.81       378\n",
            "weighted avg       0.86      0.81      0.81       378\n",
            "\n"
          ],
          "name": "stdout"
        }
      ]
    },
    {
      "cell_type": "code",
      "metadata": {
        "colab": {
          "base_uri": "https://localhost:8080/"
        },
        "id": "tgEnhxHTfsnk",
        "outputId": "7c45b412-1f5c-4db7-f463-6354d0016592"
      },
      "source": [
        "# Decision Tree\n",
        "from sklearn.metrics import classification_report, accuracy_score, confusion_matrix\n",
        "matrix = confusion_matrix(test['Label'], predictions)\n",
        "print(matrix)\n",
        "score = accuracy_score(test['Label'], predictions)\n",
        "print(score)\n",
        "report = classification_report(test['Label'], predictions)\n",
        "print(report)"
      ],
      "execution_count": 76,
      "outputs": [
        {
          "output_type": "stream",
          "text": [
            "[[150  36]\n",
            " [ 34 158]]\n",
            "0.8148148148148148\n",
            "              precision    recall  f1-score   support\n",
            "\n",
            "           0       0.82      0.81      0.81       186\n",
            "           1       0.81      0.82      0.82       192\n",
            "\n",
            "    accuracy                           0.81       378\n",
            "   macro avg       0.81      0.81      0.81       378\n",
            "weighted avg       0.81      0.81      0.81       378\n",
            "\n"
          ],
          "name": "stdout"
        }
      ]
    },
    {
      "cell_type": "code",
      "metadata": {
        "id": "HkA0oD_vVFK6"
      },
      "source": [
        ""
      ],
      "execution_count": null,
      "outputs": []
    },
    {
      "cell_type": "code",
      "metadata": {
        "id": "CQbYNHkqVFOb"
      },
      "source": [
        ""
      ],
      "execution_count": null,
      "outputs": []
    },
    {
      "cell_type": "code",
      "metadata": {
        "id": "Mn-8KPTZVFVc"
      },
      "source": [
        ""
      ],
      "execution_count": null,
      "outputs": []
    },
    {
      "cell_type": "code",
      "metadata": {
        "id": "IMcbEvZxVFfl"
      },
      "source": [
        "headlines = []\n",
        "for row in range(0, len(data.index)):\n",
        "    headlines.append(' '.join(str(x) for x in data.iloc[row, 0:20]))"
      ],
      "execution_count": 77,
      "outputs": []
    },
    {
      "cell_type": "code",
      "metadata": {
        "id": "U7cjiSvhVFfm"
      },
      "source": [
        "from sklearn.feature_extraction.text import TfidfVectorizer\n",
        "from sklearn.ensemble import RandomForestClassifier"
      ],
      "execution_count": 32,
      "outputs": []
    },
    {
      "cell_type": "code",
      "metadata": {
        "id": "F9mXeTyMVFfm"
      },
      "source": [
        "# implememt BAG OF WORDS\n",
        "tfidfVector = TfidfVectorizer(ngram_range=(2,2))\n",
        "#ngram(2,2) means it will combine the 2 words together and assign the value\n",
        "\n",
        "trainDataset = tfidfVector.fit_transform(headlines)"
      ],
      "execution_count": 78,
      "outputs": []
    },
    {
      "cell_type": "code",
      "metadata": {
        "colab": {
          "base_uri": "https://localhost:8080/"
        },
        "id": "XL8FplsaVFfm",
        "outputId": "09206ab8-fb7b-4e75-bd5c-570e310d6dd8"
      },
      "source": [
        "randomClassifier = RandomForestClassifier(n_estimators=200, criterion='entropy')\n",
        "randomClassifier.fit(trainDataset, train['Label'])"
      ],
      "execution_count": 34,
      "outputs": [
        {
          "output_type": "execute_result",
          "data": {
            "text/plain": [
              "RandomForestClassifier(bootstrap=True, ccp_alpha=0.0, class_weight=None,\n",
              "                       criterion='entropy', max_depth=None, max_features='auto',\n",
              "                       max_leaf_nodes=None, max_samples=None,\n",
              "                       min_impurity_decrease=0.0, min_impurity_split=None,\n",
              "                       min_samples_leaf=1, min_samples_split=2,\n",
              "                       min_weight_fraction_leaf=0.0, n_estimators=200,\n",
              "                       n_jobs=None, oob_score=False, random_state=None,\n",
              "                       verbose=0, warm_start=False)"
            ]
          },
          "metadata": {
            "tags": []
          },
          "execution_count": 34
        }
      ]
    },
    {
      "cell_type": "code",
      "metadata": {
        "colab": {
          "base_uri": "https://localhost:8080/"
        },
        "id": "Gh4SZIfzf5G7",
        "outputId": "85289064-ecda-47dc-85ec-ca86465de9ac"
      },
      "source": [
        "svmClassifier = svm.SVC(kernel='linear')\n",
        "svmClassifier.fit(trainDataset, train['Label'])"
      ],
      "execution_count": 79,
      "outputs": [
        {
          "output_type": "execute_result",
          "data": {
            "text/plain": [
              "SVC(C=1.0, break_ties=False, cache_size=200, class_weight=None, coef0=0.0,\n",
              "    decision_function_shape='ovr', degree=3, gamma='scale', kernel='linear',\n",
              "    max_iter=-1, probability=False, random_state=None, shrinking=True,\n",
              "    tol=0.001, verbose=False)"
            ]
          },
          "metadata": {
            "tags": []
          },
          "execution_count": 79
        }
      ]
    },
    {
      "cell_type": "code",
      "metadata": {
        "colab": {
          "base_uri": "https://localhost:8080/"
        },
        "id": "Ga52Zq9Hf5G8",
        "outputId": "4b1b50e0-faea-4bb7-db96-d5858a1937d2"
      },
      "source": [
        "adaClassifier = AdaBoostClassifier(n_estimators=200)\n",
        "adaClassifier.fit(trainDataset, train['Label'])"
      ],
      "execution_count": 83,
      "outputs": [
        {
          "output_type": "execute_result",
          "data": {
            "text/plain": [
              "AdaBoostClassifier(algorithm='SAMME.R', base_estimator=None, learning_rate=1.0,\n",
              "                   n_estimators=200, random_state=None)"
            ]
          },
          "metadata": {
            "tags": []
          },
          "execution_count": 83
        }
      ]
    },
    {
      "cell_type": "code",
      "metadata": {
        "colab": {
          "base_uri": "https://localhost:8080/"
        },
        "id": "otgeHinwf5G8",
        "outputId": "6c7d39a2-d224-437d-c0c7-b0d0682b9497"
      },
      "source": [
        "baggingClassifier = BaggingClassifier(base_estimator=svm.SVC(),n_estimators=10, random_state=0)\n",
        "baggingClassifier.fit(trainDataset, train['Label'])"
      ],
      "execution_count": 86,
      "outputs": [
        {
          "output_type": "execute_result",
          "data": {
            "text/plain": [
              "BaggingClassifier(base_estimator=SVC(C=1.0, break_ties=False, cache_size=200,\n",
              "                                     class_weight=None, coef0=0.0,\n",
              "                                     decision_function_shape='ovr', degree=3,\n",
              "                                     gamma='scale', kernel='rbf', max_iter=-1,\n",
              "                                     probability=False, random_state=None,\n",
              "                                     shrinking=True, tol=0.001, verbose=False),\n",
              "                  bootstrap=True, bootstrap_features=False, max_features=1.0,\n",
              "                  max_samples=1.0, n_estimators=10, n_jobs=None,\n",
              "                  oob_score=False, random_state=0, verbose=0, warm_start=False)"
            ]
          },
          "metadata": {
            "tags": []
          },
          "execution_count": 86
        }
      ]
    },
    {
      "cell_type": "code",
      "metadata": {
        "colab": {
          "base_uri": "https://localhost:8080/"
        },
        "id": "jKxsVYbNf5G8",
        "outputId": "a2bd1d5c-8be2-487c-f01b-c6b0f9456f6b"
      },
      "source": [
        "dtClassifier = DecisionTreeClassifier(random_state=0)\n",
        "dtClassifier.fit(trainDataset, train['Label'])"
      ],
      "execution_count": 89,
      "outputs": [
        {
          "output_type": "execute_result",
          "data": {
            "text/plain": [
              "DecisionTreeClassifier(ccp_alpha=0.0, class_weight=None, criterion='gini',\n",
              "                       max_depth=None, max_features=None, max_leaf_nodes=None,\n",
              "                       min_impurity_decrease=0.0, min_impurity_split=None,\n",
              "                       min_samples_leaf=1, min_samples_split=2,\n",
              "                       min_weight_fraction_leaf=0.0, presort='deprecated',\n",
              "                       random_state=0, splitter='best')"
            ]
          },
          "metadata": {
            "tags": []
          },
          "execution_count": 89
        }
      ]
    },
    {
      "cell_type": "code",
      "metadata": {
        "id": "PL1878QCVFfm"
      },
      "source": [
        "testTransform =[]\n",
        "for row in range(0, len(test.index)):\n",
        "    testTransform.append(' '.join(str(x) for x in test.iloc[row, 2:22]))\n",
        "    \n",
        "test_dataset = tfidfVector.transform(testTransform)"
      ],
      "execution_count": 80,
      "outputs": []
    },
    {
      "cell_type": "code",
      "metadata": {
        "id": "0l6JoGutf-hX"
      },
      "source": [
        "# predictions = randomClassifier.predict(test_dataset)\n",
        "# predictions = svmClassifier.predict(test_dataset)\n",
        "# predictions = adaClassifier.predict(test_dataset)\n",
        "# predictions = baggingClassifier.predict(test_dataset)\n",
        "predictions = dtClassifier.predict(test_dataset)"
      ],
      "execution_count": 90,
      "outputs": []
    },
    {
      "cell_type": "code",
      "metadata": {
        "colab": {
          "base_uri": "https://localhost:8080/"
        },
        "id": "kx1flu3QVFfm",
        "outputId": "612f6850-2b6e-4c9c-a3d8-9b9a365f7ac9"
      },
      "source": [
        "#Random Forest\n",
        "from sklearn.metrics import classification_report, accuracy_score, confusion_matrix\n",
        "matrix = confusion_matrix(test['Label'], predictions)\n",
        "print(matrix)\n",
        "score = accuracy_score(test['Label'], predictions)\n",
        "print(score)\n",
        "report = classification_report(test['Label'], predictions)\n",
        "print(report)"
      ],
      "execution_count": 36,
      "outputs": [
        {
          "output_type": "stream",
          "text": [
            "[[149  37]\n",
            " [ 32 160]]\n",
            "0.8174603174603174\n",
            "              precision    recall  f1-score   support\n",
            "\n",
            "           0       0.82      0.80      0.81       186\n",
            "           1       0.81      0.83      0.82       192\n",
            "\n",
            "    accuracy                           0.82       378\n",
            "   macro avg       0.82      0.82      0.82       378\n",
            "weighted avg       0.82      0.82      0.82       378\n",
            "\n"
          ],
          "name": "stdout"
        }
      ]
    },
    {
      "cell_type": "code",
      "metadata": {
        "colab": {
          "base_uri": "https://localhost:8080/"
        },
        "id": "VLsEp2bSVKRm",
        "outputId": "13135b17-e9d2-47fd-bfc5-62b9c803eecb"
      },
      "source": [
        "#SVM\n",
        "from sklearn.metrics import classification_report, accuracy_score, confusion_matrix\n",
        "matrix = confusion_matrix(test['Label'], predictions)\n",
        "print(matrix)\n",
        "score = accuracy_score(test['Label'], predictions)\n",
        "print(score)\n",
        "report = classification_report(test['Label'], predictions)\n",
        "print(report)"
      ],
      "execution_count": 82,
      "outputs": [
        {
          "output_type": "stream",
          "text": [
            "[[144  42]\n",
            " [ 16 176]]\n",
            "0.8465608465608465\n",
            "              precision    recall  f1-score   support\n",
            "\n",
            "           0       0.90      0.77      0.83       186\n",
            "           1       0.81      0.92      0.86       192\n",
            "\n",
            "    accuracy                           0.85       378\n",
            "   macro avg       0.85      0.85      0.85       378\n",
            "weighted avg       0.85      0.85      0.85       378\n",
            "\n"
          ],
          "name": "stdout"
        }
      ]
    },
    {
      "cell_type": "code",
      "metadata": {
        "colab": {
          "base_uri": "https://localhost:8080/"
        },
        "id": "CLvn-IRkgOYz",
        "outputId": "7e724cc9-a13a-43cb-ca1f-cf6097e32c41"
      },
      "source": [
        "#Adaboost\n",
        "from sklearn.metrics import classification_report, accuracy_score, confusion_matrix\n",
        "matrix = confusion_matrix(test['Label'], predictions)\n",
        "print(matrix)\n",
        "score = accuracy_score(test['Label'], predictions)\n",
        "print(score)\n",
        "report = classification_report(test['Label'], predictions)\n",
        "print(report)"
      ],
      "execution_count": 85,
      "outputs": [
        {
          "output_type": "stream",
          "text": [
            "[[131  55]\n",
            " [ 45 147]]\n",
            "0.7354497354497355\n",
            "              precision    recall  f1-score   support\n",
            "\n",
            "           0       0.74      0.70      0.72       186\n",
            "           1       0.73      0.77      0.75       192\n",
            "\n",
            "    accuracy                           0.74       378\n",
            "   macro avg       0.74      0.73      0.73       378\n",
            "weighted avg       0.74      0.74      0.74       378\n",
            "\n"
          ],
          "name": "stdout"
        }
      ]
    },
    {
      "cell_type": "code",
      "metadata": {
        "colab": {
          "base_uri": "https://localhost:8080/"
        },
        "id": "Gup5feBsggwl",
        "outputId": "6d0ad840-e58d-46a7-d8a4-84be76854598"
      },
      "source": [
        "#Bagging\n",
        "from sklearn.metrics import classification_report, accuracy_score, confusion_matrix\n",
        "matrix = confusion_matrix(test['Label'], predictions)\n",
        "print(matrix)\n",
        "score = accuracy_score(test['Label'], predictions)\n",
        "print(score)\n",
        "report = classification_report(test['Label'], predictions)\n",
        "print(report)"
      ],
      "execution_count": 88,
      "outputs": [
        {
          "output_type": "stream",
          "text": [
            "[[116  70]\n",
            " [  0 192]]\n",
            "0.8148148148148148\n",
            "              precision    recall  f1-score   support\n",
            "\n",
            "           0       1.00      0.62      0.77       186\n",
            "           1       0.73      1.00      0.85       192\n",
            "\n",
            "    accuracy                           0.81       378\n",
            "   macro avg       0.87      0.81      0.81       378\n",
            "weighted avg       0.86      0.81      0.81       378\n",
            "\n"
          ],
          "name": "stdout"
        }
      ]
    },
    {
      "cell_type": "code",
      "metadata": {
        "colab": {
          "base_uri": "https://localhost:8080/"
        },
        "id": "kONVOZ7Ug4vP",
        "outputId": "ee3e3061-69ae-4aed-9039-2f1d6787cacb"
      },
      "source": [
        "#Decision Tree\n",
        "from sklearn.metrics import classification_report, accuracy_score, confusion_matrix\n",
        "matrix = confusion_matrix(test['Label'], predictions)\n",
        "print(matrix)\n",
        "score = accuracy_score(test['Label'], predictions)\n",
        "print(score)\n",
        "report = classification_report(test['Label'], predictions)\n",
        "print(report)"
      ],
      "execution_count": 91,
      "outputs": [
        {
          "output_type": "stream",
          "text": [
            "[[154  32]\n",
            " [ 53 139]]\n",
            "0.7751322751322751\n",
            "              precision    recall  f1-score   support\n",
            "\n",
            "           0       0.74      0.83      0.78       186\n",
            "           1       0.81      0.72      0.77       192\n",
            "\n",
            "    accuracy                           0.78       378\n",
            "   macro avg       0.78      0.78      0.77       378\n",
            "weighted avg       0.78      0.78      0.77       378\n",
            "\n"
          ],
          "name": "stdout"
        }
      ]
    },
    {
      "cell_type": "code",
      "metadata": {
        "id": "2GlAtaBFVKVM"
      },
      "source": [
        ""
      ],
      "execution_count": null,
      "outputs": []
    },
    {
      "cell_type": "code",
      "metadata": {
        "id": "d-X4tWqoVKpq"
      },
      "source": [
        "headlines = []\n",
        "for row in range(0, len(data.index)):\n",
        "    headlines.append(' '.join(str(x) for x in data.iloc[row, 0:25]))"
      ],
      "execution_count": 92,
      "outputs": []
    },
    {
      "cell_type": "code",
      "metadata": {
        "id": "HL82CUD7VKpq"
      },
      "source": [
        "from sklearn.feature_extraction.text import TfidfVectorizer\n",
        "from sklearn.ensemble import RandomForestClassifier"
      ],
      "execution_count": 38,
      "outputs": []
    },
    {
      "cell_type": "code",
      "metadata": {
        "id": "DL2Xz6YXVKpq"
      },
      "source": [
        "# implememt BAG OF WORDS\n",
        "tfidfVector = TfidfVectorizer(ngram_range=(2,2))\n",
        "#ngram(2,2) means it will combine the 2 words together and assign the value\n",
        "\n",
        "trainDataset = tfidfVector.fit_transform(headlines)"
      ],
      "execution_count": 93,
      "outputs": []
    },
    {
      "cell_type": "code",
      "metadata": {
        "colab": {
          "base_uri": "https://localhost:8080/"
        },
        "id": "0_it5ZCvVKpq",
        "outputId": "1ea72d61-f28a-496e-cf8a-c08e9a618b2b"
      },
      "source": [
        "randomClassifier = RandomForestClassifier(n_estimators=200, criterion='entropy')\n",
        "randomClassifier.fit(trainDataset, train['Label'])"
      ],
      "execution_count": 40,
      "outputs": [
        {
          "output_type": "execute_result",
          "data": {
            "text/plain": [
              "RandomForestClassifier(bootstrap=True, ccp_alpha=0.0, class_weight=None,\n",
              "                       criterion='entropy', max_depth=None, max_features='auto',\n",
              "                       max_leaf_nodes=None, max_samples=None,\n",
              "                       min_impurity_decrease=0.0, min_impurity_split=None,\n",
              "                       min_samples_leaf=1, min_samples_split=2,\n",
              "                       min_weight_fraction_leaf=0.0, n_estimators=200,\n",
              "                       n_jobs=None, oob_score=False, random_state=None,\n",
              "                       verbose=0, warm_start=False)"
            ]
          },
          "metadata": {
            "tags": []
          },
          "execution_count": 40
        }
      ]
    },
    {
      "cell_type": "code",
      "metadata": {
        "colab": {
          "base_uri": "https://localhost:8080/"
        },
        "id": "MWF5gyXNhAbo",
        "outputId": "ac36f39f-a752-469f-c613-c6d9365e0d3f"
      },
      "source": [
        "svmClassifier = svm.SVC(kernel='linear')\n",
        "svmClassifier.fit(trainDataset, train['Label'])"
      ],
      "execution_count": 94,
      "outputs": [
        {
          "output_type": "execute_result",
          "data": {
            "text/plain": [
              "SVC(C=1.0, break_ties=False, cache_size=200, class_weight=None, coef0=0.0,\n",
              "    decision_function_shape='ovr', degree=3, gamma='scale', kernel='linear',\n",
              "    max_iter=-1, probability=False, random_state=None, shrinking=True,\n",
              "    tol=0.001, verbose=False)"
            ]
          },
          "metadata": {
            "tags": []
          },
          "execution_count": 94
        }
      ]
    },
    {
      "cell_type": "code",
      "metadata": {
        "colab": {
          "base_uri": "https://localhost:8080/"
        },
        "id": "Vq23RaCchAbp",
        "outputId": "13759903-fb1b-4b9e-c2f1-43009f4c1241"
      },
      "source": [
        "adaClassifier = AdaBoostClassifier(n_estimators=200)\n",
        "adaClassifier.fit(trainDataset, train['Label'])"
      ],
      "execution_count": 98,
      "outputs": [
        {
          "output_type": "execute_result",
          "data": {
            "text/plain": [
              "AdaBoostClassifier(algorithm='SAMME.R', base_estimator=None, learning_rate=1.0,\n",
              "                   n_estimators=200, random_state=None)"
            ]
          },
          "metadata": {
            "tags": []
          },
          "execution_count": 98
        }
      ]
    },
    {
      "cell_type": "code",
      "metadata": {
        "colab": {
          "base_uri": "https://localhost:8080/"
        },
        "id": "CMuarMiwhAbp",
        "outputId": "8afe7638-6968-484b-ac9d-872bda25bc93"
      },
      "source": [
        "baggingClassifier = BaggingClassifier(base_estimator=svm.SVC(),n_estimators=10, random_state=0)\n",
        "baggingClassifier.fit(trainDataset, train['Label'])"
      ],
      "execution_count": 101,
      "outputs": [
        {
          "output_type": "execute_result",
          "data": {
            "text/plain": [
              "BaggingClassifier(base_estimator=SVC(C=1.0, break_ties=False, cache_size=200,\n",
              "                                     class_weight=None, coef0=0.0,\n",
              "                                     decision_function_shape='ovr', degree=3,\n",
              "                                     gamma='scale', kernel='rbf', max_iter=-1,\n",
              "                                     probability=False, random_state=None,\n",
              "                                     shrinking=True, tol=0.001, verbose=False),\n",
              "                  bootstrap=True, bootstrap_features=False, max_features=1.0,\n",
              "                  max_samples=1.0, n_estimators=10, n_jobs=None,\n",
              "                  oob_score=False, random_state=0, verbose=0, warm_start=False)"
            ]
          },
          "metadata": {
            "tags": []
          },
          "execution_count": 101
        }
      ]
    },
    {
      "cell_type": "code",
      "metadata": {
        "colab": {
          "base_uri": "https://localhost:8080/"
        },
        "id": "jLCclOIShAbp",
        "outputId": "a78e98e0-ea76-4dfb-c8e8-dac54bd7874d"
      },
      "source": [
        "dtClassifier = DecisionTreeClassifier(random_state=0)\n",
        "dtClassifier.fit(trainDataset, train['Label'])"
      ],
      "execution_count": 104,
      "outputs": [
        {
          "output_type": "execute_result",
          "data": {
            "text/plain": [
              "DecisionTreeClassifier(ccp_alpha=0.0, class_weight=None, criterion='gini',\n",
              "                       max_depth=None, max_features=None, max_leaf_nodes=None,\n",
              "                       min_impurity_decrease=0.0, min_impurity_split=None,\n",
              "                       min_samples_leaf=1, min_samples_split=2,\n",
              "                       min_weight_fraction_leaf=0.0, presort='deprecated',\n",
              "                       random_state=0, splitter='best')"
            ]
          },
          "metadata": {
            "tags": []
          },
          "execution_count": 104
        }
      ]
    },
    {
      "cell_type": "code",
      "metadata": {
        "id": "sfuLHDvcVKpq"
      },
      "source": [
        "testTransform =[]\n",
        "for row in range(0, len(test.index)):\n",
        "    testTransform.append(' '.join(str(x) for x in test.iloc[row, 2:27]))\n",
        "    \n",
        "test_dataset = tfidfVector.transform(testTransform)"
      ],
      "execution_count": 95,
      "outputs": []
    },
    {
      "cell_type": "code",
      "metadata": {
        "id": "4IyHjROyhF5h"
      },
      "source": [
        "# predictions = randomClassifier.predict(test_dataset)\n",
        "# predictions = svmClassifier.predict(test_dataset)\n",
        "# predictions = adaClassifier.predict(test_dataset)\n",
        "# predictions = baggingClassifier.predict(test_dataset)\n",
        "predictions = dtClassifier.predict(test_dataset)"
      ],
      "execution_count": 105,
      "outputs": []
    },
    {
      "cell_type": "code",
      "metadata": {
        "colab": {
          "base_uri": "https://localhost:8080/"
        },
        "id": "RB7N0IHhVKpr",
        "outputId": "e89d0d29-b28c-475a-f222-0b2c0693e1d6"
      },
      "source": [
        "#Random Forest\n",
        "from sklearn.metrics import classification_report, accuracy_score, confusion_matrix\n",
        "matrix = confusion_matrix(test['Label'], predictions)\n",
        "print(matrix)\n",
        "score = accuracy_score(test['Label'], predictions)\n",
        "print(score)\n",
        "report = classification_report(test['Label'], predictions)\n",
        "print(report)"
      ],
      "execution_count": 42,
      "outputs": [
        {
          "output_type": "stream",
          "text": [
            "[[147  39]\n",
            " [ 18 174]]\n",
            "0.8492063492063492\n",
            "              precision    recall  f1-score   support\n",
            "\n",
            "           0       0.89      0.79      0.84       186\n",
            "           1       0.82      0.91      0.86       192\n",
            "\n",
            "    accuracy                           0.85       378\n",
            "   macro avg       0.85      0.85      0.85       378\n",
            "weighted avg       0.85      0.85      0.85       378\n",
            "\n"
          ],
          "name": "stdout"
        }
      ]
    },
    {
      "cell_type": "code",
      "metadata": {
        "colab": {
          "base_uri": "https://localhost:8080/",
          "height": 273
        },
        "id": "Qi1BmTLZjxph",
        "outputId": "0b86be86-e41d-4f44-bf28-3bae4e0092c3"
      },
      "source": [
        "import seaborn as sn\n",
        "import pandas as pd\n",
        "import matplotlib.pyplot as plt\n",
        "array = [[147, 39], [18,174]]\n",
        "df_cm = pd.DataFrame(array, range(2), range(2))\n",
        "# plt.figure(figsize=(10,7))\n",
        "sn.set(font_scale=1.4) # for label size\n",
        "sn.heatmap(df_cm, annot=True, annot_kws={\"size\": 16}, fmt=\".0f\") # font size\n",
        "\n",
        "plt.show()"
      ],
      "execution_count": 126,
      "outputs": [
        {
          "output_type": "display_data",
          "data": {
            "image/png": "[encoded data removed]",
            "text/plain": [
              "<Figure size 432x288 with 2 Axes>"
            ]
          },
          "metadata": {
            "tags": []
          }
        }
      ]
    },
    {
      "cell_type": "code",
      "metadata": {
        "colab": {
          "base_uri": "https://localhost:8080/"
        },
        "id": "OR03sbf1hKTh",
        "outputId": "64ce4ab0-5b51-40fc-9412-e85ae4f4184a"
      },
      "source": [
        "#SVM\n",
        "from sklearn.metrics import classification_report, accuracy_score, confusion_matrix\n",
        "matrix = confusion_matrix(test['Label'], predictions)\n",
        "print(matrix)\n",
        "score = accuracy_score(test['Label'], predictions)\n",
        "print(score)\n",
        "report = classification_report(test['Label'], predictions)\n",
        "print(report)"
      ],
      "execution_count": 97,
      "outputs": [
        {
          "output_type": "stream",
          "text": [
            "[[140  46]\n",
            " [ 12 180]]\n",
            "0.8465608465608465\n",
            "              precision    recall  f1-score   support\n",
            "\n",
            "           0       0.92      0.75      0.83       186\n",
            "           1       0.80      0.94      0.86       192\n",
            "\n",
            "    accuracy                           0.85       378\n",
            "   macro avg       0.86      0.85      0.84       378\n",
            "weighted avg       0.86      0.85      0.85       378\n",
            "\n"
          ],
          "name": "stdout"
        }
      ]
    },
    {
      "cell_type": "code",
      "metadata": {
        "colab": {
          "base_uri": "https://localhost:8080/"
        },
        "id": "ZSvoRlmehS1z",
        "outputId": "65d555ca-59f2-42df-c74f-c4fc0aeb13f2"
      },
      "source": [
        "#Adaboost\n",
        "from sklearn.metrics import classification_report, accuracy_score, confusion_matrix\n",
        "matrix = confusion_matrix(test['Label'], predictions)\n",
        "print(matrix)\n",
        "score = accuracy_score(test['Label'], predictions)\n",
        "print(score)\n",
        "report = classification_report(test['Label'], predictions)\n",
        "print(report)"
      ],
      "execution_count": 100,
      "outputs": [
        {
          "output_type": "stream",
          "text": [
            "[[140  46]\n",
            " [ 51 141]]\n",
            "0.7433862433862434\n",
            "              precision    recall  f1-score   support\n",
            "\n",
            "           0       0.73      0.75      0.74       186\n",
            "           1       0.75      0.73      0.74       192\n",
            "\n",
            "    accuracy                           0.74       378\n",
            "   macro avg       0.74      0.74      0.74       378\n",
            "weighted avg       0.74      0.74      0.74       378\n",
            "\n"
          ],
          "name": "stdout"
        }
      ]
    },
    {
      "cell_type": "code",
      "metadata": {
        "colab": {
          "base_uri": "https://localhost:8080/"
        },
        "id": "4YIsoSOJhkCS",
        "outputId": "5e442f3c-37cf-41d0-e602-49f91c5f86e6"
      },
      "source": [
        "#Bagging\n",
        "from sklearn.metrics import classification_report, accuracy_score, confusion_matrix\n",
        "matrix = confusion_matrix(test['Label'], predictions)\n",
        "print(matrix)\n",
        "score = accuracy_score(test['Label'], predictions)\n",
        "print(score)\n",
        "report = classification_report(test['Label'], predictions)\n",
        "print(report)"
      ],
      "execution_count": 103,
      "outputs": [
        {
          "output_type": "stream",
          "text": [
            "[[116  70]\n",
            " [  0 192]]\n",
            "0.8148148148148148\n",
            "              precision    recall  f1-score   support\n",
            "\n",
            "           0       1.00      0.62      0.77       186\n",
            "           1       0.73      1.00      0.85       192\n",
            "\n",
            "    accuracy                           0.81       378\n",
            "   macro avg       0.87      0.81      0.81       378\n",
            "weighted avg       0.86      0.81      0.81       378\n",
            "\n"
          ],
          "name": "stdout"
        }
      ]
    },
    {
      "cell_type": "code",
      "metadata": {
        "colab": {
          "base_uri": "https://localhost:8080/"
        },
        "id": "-_wDxz2Ah_HQ",
        "outputId": "f5db937d-5f1b-43a6-c738-895efd1e8d81"
      },
      "source": [
        "#Decision Tree\n",
        "from sklearn.metrics import classification_report, accuracy_score, confusion_matrix\n",
        "matrix = confusion_matrix(test['Label'], predictions)\n",
        "print(matrix)\n",
        "score = accuracy_score(test['Label'], predictions)\n",
        "print(score)\n",
        "report = classification_report(test['Label'], predictions)\n",
        "print(report)"
      ],
      "execution_count": 106,
      "outputs": [
        {
          "output_type": "stream",
          "text": [
            "[[152  34]\n",
            " [ 39 153]]\n",
            "0.8068783068783069\n",
            "              precision    recall  f1-score   support\n",
            "\n",
            "           0       0.80      0.82      0.81       186\n",
            "           1       0.82      0.80      0.81       192\n",
            "\n",
            "    accuracy                           0.81       378\n",
            "   macro avg       0.81      0.81      0.81       378\n",
            "weighted avg       0.81      0.81      0.81       378\n",
            "\n"
          ],
          "name": "stdout"
        }
      ]
    },
    {
      "cell_type": "code",
      "metadata": {
        "id": "_lgTk45TiE3X"
      },
      "source": [
        ""
      ],
      "execution_count": null,
      "outputs": []
    }
  ]
}