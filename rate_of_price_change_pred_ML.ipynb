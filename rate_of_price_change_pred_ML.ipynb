{
  "nbformat": 4,
  "nbformat_minor": 0,
  "metadata": {
    "colab": {
      "name": "rate_of_price_change_pred_ML.ipynb",
      "provenance": []
    },
    "kernelspec": {
      "name": "python3",
      "display_name": "Python 3"
    },
    "language_info": {
      "name": "python"
    },
    "accelerator": "GPU"
  },
  "cells": [
    {
      "cell_type": "code",
      "metadata": {
        "id": "_0iurYngSCjy"
      },
      "source": [
        "import pandas as pd\n",
        "import numpy as np\n",
        "import tensorflow as tf\n",
        "import re\n",
        "from nltk.corpus import stopwords\n",
        "from sklearn.model_selection import train_test_split\n",
        "from sklearn.metrics import median_absolute_error as mae\n",
        "from sklearn.metrics import mean_squared_error as mse\n",
        "from sklearn.metrics import accuracy_score as acc\n",
        "import matplotlib.pyplot as plt\n",
        "\n",
        "from keras.models import Sequential\n",
        "from keras import initializers\n",
        "from keras.layers import Dropout, Activation, Embedding, Convolution1D, MaxPooling1D, Input, Dense, BatchNormalization, Flatten, Reshape, Concatenate, Bidirectional, LSTM\n",
        "# from keras.layers.recurrent import LSTM, GRU\n",
        "from keras.callbacks import Callback, ModelCheckpoint, EarlyStopping, ReduceLROnPlateau\n",
        "from keras.models import Model\n",
        "from keras.optimizers import Adam, SGD, RMSprop\n",
        "from keras import regularizers"
      ],
      "execution_count": 1,
      "outputs": []
    },
    {
      "cell_type": "code",
      "metadata": {
        "colab": {
          "base_uri": "https://localhost:8080/"
        },
        "id": "kZL28aemPWza",
        "outputId": "c391e2e7-7f1b-4bc5-d281-0a269c0d100e"
      },
      "source": [
        "from google.colab import drive\n",
        "drive.mount('/content/drive')"
      ],
      "execution_count": 2,
      "outputs": [
        {
          "output_type": "stream",
          "text": [
            "Mounted at /content/drive\n"
          ],
          "name": "stdout"
        }
      ]
    },
    {
      "cell_type": "code",
      "metadata": {
        "id": "B9cuB4SZSlZE"
      },
      "source": [
        "dj = pd.read_csv(\"/content/drive/MyDrive/upload_DJIA_table.csv\")"
      ],
      "execution_count": 3,
      "outputs": []
    },
    {
      "cell_type": "code",
      "metadata": {
        "colab": {
          "base_uri": "https://localhost:8080/"
        },
        "id": "elzsB7imSnX6",
        "outputId": "86fb960f-c7ab-49bd-bb23-1cf9abf112b5"
      },
      "source": [
        "dj.isnull().sum()"
      ],
      "execution_count": 4,
      "outputs": [
        {
          "output_type": "execute_result",
          "data": {
            "text/plain": [
              "Date         0\n",
              "Open         0\n",
              "High         0\n",
              "Low          0\n",
              "Close        0\n",
              "Volume       0\n",
              "Adj Close    0\n",
              "dtype: int64"
            ]
          },
          "metadata": {
            "tags": []
          },
          "execution_count": 4
        }
      ]
    },
    {
      "cell_type": "code",
      "metadata": {
        "colab": {
          "base_uri": "https://localhost:8080/"
        },
        "id": "Chq7hb34SquO",
        "outputId": "a8fedcc2-412e-4719-dede-c69554342e8f"
      },
      "source": [
        "dj.shape"
      ],
      "execution_count": 5,
      "outputs": [
        {
          "output_type": "execute_result",
          "data": {
            "text/plain": [
              "(1989, 7)"
            ]
          },
          "metadata": {
            "tags": []
          },
          "execution_count": 5
        }
      ]
    },
    {
      "cell_type": "code",
      "metadata": {
        "id": "1I-k8oUdSsQq"
      },
      "source": [
        "dj = dj.set_index('Date').diff(periods=1)\n",
        "dj['Date'] = dj.index\n",
        "dj = dj.reset_index(drop=True)"
      ],
      "execution_count": 6,
      "outputs": []
    },
    {
      "cell_type": "code",
      "metadata": {
        "id": "m-vSWmkfSuoi"
      },
      "source": [
        "dj = dj.drop(['High','Low','Open','Volume','Adj Close'], 1)"
      ],
      "execution_count": 7,
      "outputs": []
    },
    {
      "cell_type": "code",
      "metadata": {
        "id": "mv7sIM54SvRb"
      },
      "source": [
        " dj = dj.sort_values(by='Date')"
      ],
      "execution_count": 8,
      "outputs": []
    },
    {
      "cell_type": "code",
      "metadata": {
        "colab": {
          "base_uri": "https://localhost:8080/"
        },
        "id": "AUeLSKVISxoG",
        "outputId": "084478db-5a8d-495a-b75c-e2522ccb39d8"
      },
      "source": [
        "from sklearn.preprocessing import MinMaxScaler\n",
        "input_length = 50\n",
        "output_length = 1\n",
        "test_percentage = 0.2\n",
        "dataset = dj['Close'].to_numpy()\n",
        "\n",
        "scaler = MinMaxScaler()\n",
        "dataset_norm = scaler.fit_transform(dataset.reshape(-1, 1)).flatten()\n",
        "dataset_list = []\n",
        "for i in range(len(dataset) - input_length - output_length):\n",
        "    dataset_list.append(dataset_norm[i:i + input_length + output_length])\n",
        "dataset_list = np.array(dataset_list)\n",
        "trainset = dataset_list[:int(len(dataset_list) * (1 - test_percentage))]\n",
        "testset = dataset_list[int(len(dataset_list) * (1 - test_percentage)):]\n",
        "\n",
        "x_train_price = trainset[:, :-1]\n",
        "y_train_price = trainset[:, -1:]\n",
        "x_test_price = testset[:, :-1]\n",
        "y_test_price = testset[:, -1:]\n",
        "\n",
        "print('x_train.shape:' + str(x_train_price.shape))\n",
        "print('y_train.shape:' + str(y_train_price.shape))\n",
        "print('x_test.shape:' + str(x_test_price.shape))\n",
        "print('y_test.shape' + str(y_test_price.shape))"
      ],
      "execution_count": 9,
      "outputs": [
        {
          "output_type": "stream",
          "text": [
            "x_train.shape:(1550, 50)\n",
            "y_train.shape:(1550, 1)\n",
            "x_test.shape:(388, 50)\n",
            "y_test.shape(388, 1)\n"
          ],
          "name": "stdout"
        }
      ]
    },
    {
      "cell_type": "code",
      "metadata": {
        "colab": {
          "base_uri": "https://localhost:8080/"
        },
        "id": "5PH9jXhHYtUl",
        "outputId": "232bc438-f253-4c17-8209-419afdf3f542"
      },
      "source": [
        "df = pd.read_csv(\"/content/drive/MyDrive/Combined_News_DJIA.csv\",  encoding = 'ISO-8859-1')\n",
        "print(df.count)"
      ],
      "execution_count": 10,
      "outputs": [
        {
          "output_type": "stream",
          "text": [
            "<bound method DataFrame.count of             Date  ...                                              Top25\n",
            "0     2008-08-08  ...           b\"No Help for Mexico's Kidnapping Surge\"\n",
            "1     2008-08-11  ...  b\"So this is what it's come to: trading sex fo...\n",
            "2     2008-08-12  ...  b\"BBC NEWS | Asia-Pacific | Extinction 'by man...\n",
            "3     2008-08-13  ...  b'2006: Nobel laureate Aleksander Solzhenitsyn...\n",
            "4     2008-08-14  ...  b'Philippines : Peace Advocate say Muslims nee...\n",
            "...          ...  ...                                                ...\n",
            "1984  2016-06-27  ...  Pakistani clerics declare transgender marriage...\n",
            "1985  2016-06-28  ...  Mexico's security forces routinely use 'sexual...\n",
            "1986  2016-06-29  ...  Tiny New Zealand town with 'too many jobs' lau...\n",
            "1987  2016-06-30  ...  Law Enforcement Sources: Gun Used in Paris Ter...\n",
            "1988  2016-07-01  ...  Ozone layer hole seems to be healing - US &amp...\n",
            "\n",
            "[1989 rows x 27 columns]>\n"
          ],
          "name": "stdout"
        }
      ]
    },
    {
      "cell_type": "code",
      "metadata": {
        "colab": {
          "base_uri": "https://localhost:8080/"
        },
        "id": "TtLRyucKY_MN",
        "outputId": "80bc9edd-db7a-4db9-eb00-16b642e4d418"
      },
      "source": [
        "train = df[df['Date']<'20150101']\n",
        "test = df[df['Date'] > '20141231']\n",
        "\n",
        "print(train.count)\n",
        "print(test.count)\n",
        "\n",
        "data = train.iloc[:, 2:27]\n",
        "data.replace(\"[^a-zA-Z]\", \" \", regex=True, inplace=True)"
      ],
      "execution_count": 11,
      "outputs": [
        {
          "output_type": "stream",
          "text": [
            "<bound method DataFrame.count of             Date  ...                                              Top25\n",
            "0     2008-08-08  ...           b\"No Help for Mexico's Kidnapping Surge\"\n",
            "1     2008-08-11  ...  b\"So this is what it's come to: trading sex fo...\n",
            "2     2008-08-12  ...  b\"BBC NEWS | Asia-Pacific | Extinction 'by man...\n",
            "3     2008-08-13  ...  b'2006: Nobel laureate Aleksander Solzhenitsyn...\n",
            "4     2008-08-14  ...  b'Philippines : Peace Advocate say Muslims nee...\n",
            "...          ...  ...                                                ...\n",
            "1858  2015-12-24  ...  Cameron, Osborne and Murdoch back together at ...\n",
            "1859  2015-12-28  ...  Experiment in Germany tests the idea of an 'em...\n",
            "1860  2015-12-29  ...  Israel warns Brazil to accept its settler amba...\n",
            "1861  2015-12-30  ...  UK Sperm Bank Doesn't Accept Donors with Dysle...\n",
            "1862  2015-12-31  ...  Hamas to keep Palestinians from ringing in New...\n",
            "\n",
            "[1863 rows x 27 columns]>\n",
            "<bound method DataFrame.count of             Date  ...                                              Top25\n",
            "1611  2015-01-02  ...  Authorities Pull Plug on Russia's Last Politic...\n",
            "1612  2015-01-05  ...                      China scraps rare earths caps\n",
            "1613  2015-01-06  ...  Tests over, India set to make the iris of bigg...\n",
            "1614  2015-01-07  ...   Ebola vaccine trials in Halifax so far a success\n",
            "1615  2015-01-08  ...  Young mother let terrorists into Charlie Hebdo...\n",
            "...          ...  ...                                                ...\n",
            "1984  2016-06-27  ...  Pakistani clerics declare transgender marriage...\n",
            "1985  2016-06-28  ...  Mexico's security forces routinely use 'sexual...\n",
            "1986  2016-06-29  ...  Tiny New Zealand town with 'too many jobs' lau...\n",
            "1987  2016-06-30  ...  Law Enforcement Sources: Gun Used in Paris Ter...\n",
            "1988  2016-07-01  ...  Ozone layer hole seems to be healing - US &amp...\n",
            "\n",
            "[378 rows x 27 columns]>\n"
          ],
          "name": "stdout"
        }
      ]
    },
    {
      "cell_type": "code",
      "metadata": {
        "colab": {
          "base_uri": "https://localhost:8080/",
          "height": 702
        },
        "id": "CpSgvA_aZBQq",
        "outputId": "7906db23-233e-48c4-c765-7ad9d288b89d"
      },
      "source": [
        "list1 = [i for i in range(25)]\n",
        "new_Index = [str(i) for i in list1]\n",
        "data.columns = new_Index\n",
        "data.head(5)"
      ],
      "execution_count": 12,
      "outputs": [
        {
          "output_type": "execute_result",
          "data": {
            "text/html": [
              "<div>\n",
              "<style scoped>\n",
              "    .dataframe tbody tr th:only-of-type {\n",
              "        vertical-align: middle;\n",
              "    }\n",
              "\n",
              "    .dataframe tbody tr th {\n",
              "        vertical-align: top;\n",
              "    }\n",
              "\n",
              "    .dataframe thead th {\n",
              "        text-align: right;\n",
              "    }\n",
              "</style>\n",
              "<table border=\"1\" class=\"dataframe\">\n",
              "  <thead>\n",
              "    <tr style=\"text-align: right;\">\n",
              "      <th></th>\n",
              "      <th>0</th>\n",
              "      <th>1</th>\n",
              "      <th>2</th>\n",
              "      <th>3</th>\n",
              "      <th>4</th>\n",
              "      <th>5</th>\n",
              "      <th>6</th>\n",
              "      <th>7</th>\n",
              "      <th>8</th>\n",
              "      <th>9</th>\n",
              "      <th>10</th>\n",
              "      <th>11</th>\n",
              "      <th>12</th>\n",
              "      <th>13</th>\n",
              "      <th>14</th>\n",
              "      <th>15</th>\n",
              "      <th>16</th>\n",
              "      <th>17</th>\n",
              "      <th>18</th>\n",
              "      <th>19</th>\n",
              "      <th>20</th>\n",
              "      <th>21</th>\n",
              "      <th>22</th>\n",
              "      <th>23</th>\n",
              "      <th>24</th>\n",
              "    </tr>\n",
              "  </thead>\n",
              "  <tbody>\n",
              "    <tr>\n",
              "      <th>0</th>\n",
              "      <td>b Georgia  downs two Russian warplanes  as cou...</td>\n",
              "      <td>b BREAKING  Musharraf to be impeached</td>\n",
              "      <td>b Russia Today  Columns of troops roll into So...</td>\n",
              "      <td>b Russian tanks are moving towards the capital...</td>\n",
              "      <td>b Afghan children raped with  impunity   U N  ...</td>\n",
              "      <td>b     Russian tanks have entered South Ossetia...</td>\n",
              "      <td>b Breaking  Georgia invades South Ossetia  Rus...</td>\n",
              "      <td>b The  enemy combatent  trials are nothing but...</td>\n",
              "      <td>b Georgian troops retreat from S  Osettain cap...</td>\n",
              "      <td>b Did the U S  Prep Georgia for War with Russia</td>\n",
              "      <td>b Rice Gives Green Light for Israel to Attack ...</td>\n",
              "      <td>b Announcing Class Action Lawsuit on Behalf of...</td>\n",
              "      <td>b So   Russia and Georgia are at war and the N...</td>\n",
              "      <td>b China tells Bush to stay out of other countr...</td>\n",
              "      <td>b Did World War III start today</td>\n",
              "      <td>b Georgia Invades South Ossetia   if Russia ge...</td>\n",
              "      <td>b Al Qaeda Faces Islamist Backlash</td>\n",
              "      <td>b Condoleezza Rice   The US would not act to p...</td>\n",
              "      <td>b This is a busy day   The European Union has ...</td>\n",
              "      <td>b Georgia will withdraw       soldiers from Ir...</td>\n",
              "      <td>b Why the Pentagon Thinks Attacking Iran is a ...</td>\n",
              "      <td>b Caucasus in crisis  Georgia invades South Os...</td>\n",
              "      <td>b Indian shoe manufactory    And again in a se...</td>\n",
              "      <td>b Visitors Suffering from Mental Illnesses Ban...</td>\n",
              "      <td>b No Help for Mexico s Kidnapping Surge</td>\n",
              "    </tr>\n",
              "    <tr>\n",
              "      <th>1</th>\n",
              "      <td>b Why wont America and Nato help us  If they w...</td>\n",
              "      <td>b Bush puts foot down on Georgian conflict</td>\n",
              "      <td>b Jewish Georgian minister  Thanks to Israeli ...</td>\n",
              "      <td>b Georgian army flees in disarray as Russians ...</td>\n",
              "      <td>b Olympic opening ceremony fireworks  faked</td>\n",
              "      <td>b What were the Mossad with fraudulent New Zea...</td>\n",
              "      <td>b Russia angered by Israeli military sale to G...</td>\n",
              "      <td>b An American citizen living in S Ossetia blam...</td>\n",
              "      <td>b Welcome To World War IV  Now In High Definit...</td>\n",
              "      <td>b Georgia s move  a mistake of monumental prop...</td>\n",
              "      <td>b Russia presses deeper into Georgia  U S  say...</td>\n",
              "      <td>b Abhinav Bindra wins first ever Individual Ol...</td>\n",
              "      <td>b  U S  ship heads for Arctic to define territ...</td>\n",
              "      <td>b Drivers in a Jerusalem taxi station threaten...</td>\n",
              "      <td>b The French Team is Stunned by Phelps and the...</td>\n",
              "      <td>b Israel and the US behind the Georgian aggres...</td>\n",
              "      <td>b  Do not believe TV  neither Russian nor Geor...</td>\n",
              "      <td>b Riots are still going on in Montreal  Canada...</td>\n",
              "      <td>b China to overtake US as largest manufacturer</td>\n",
              "      <td>b War in South Ossetia  PICS</td>\n",
              "      <td>b Israeli Physicians Group Condemns State Tort...</td>\n",
              "      <td>b  Russia has just beaten the United States ov...</td>\n",
              "      <td>b Perhaps  the  question about the Georgia   R...</td>\n",
              "      <td>b Russia is so much better at war</td>\n",
              "      <td>b So this is what it s come to  trading sex fo...</td>\n",
              "    </tr>\n",
              "    <tr>\n",
              "      <th>2</th>\n",
              "      <td>b Remember that adorable   year old who sang a...</td>\n",
              "      <td>b Russia  ends Georgia operation</td>\n",
              "      <td>b  If we had no sexual harassment we would hav...</td>\n",
              "      <td>b Al Qa eda is losing support in Iraq because ...</td>\n",
              "      <td>b Ceasefire in Georgia  Putin Outmaneuvers the...</td>\n",
              "      <td>b Why Microsoft and Intel tried to kill the XO...</td>\n",
              "      <td>b Stratfor  The Russo Georgian War and the Bal...</td>\n",
              "      <td>b I m Trying to Get a Sense of This Whole Geor...</td>\n",
              "      <td>b The US military was surprised by the timing ...</td>\n",
              "      <td>b U S  Beats War Drum as Iran Dumps the Dollar</td>\n",
              "      <td>b Gorbachev   Georgian military attacked the S...</td>\n",
              "      <td>b CNN use footage of Tskhinvali ruins to cover...</td>\n",
              "      <td>b Beginning a war as the Olympics were opening...</td>\n",
              "      <td>b    pyramids as large as the Luxor stacked in...</td>\n",
              "      <td>b The    Top Party Cities in the World</td>\n",
              "      <td>b U S  troops still in Georgia  did you know t...</td>\n",
              "      <td>b Why Russias response to Georgia was right</td>\n",
              "      <td>b Gorbachev accuses U S  of making a  serious ...</td>\n",
              "      <td>b Russia  Georgia  and NATO  Cold War Two</td>\n",
              "      <td>b Remember that adorable    year old who led y...</td>\n",
              "      <td>b War in Georgia  The Israeli connection</td>\n",
              "      <td>b All signs point to the US encouraging Georgi...</td>\n",
              "      <td>b Christopher King argues that the US and NATO...</td>\n",
              "      <td>b America  The New Mexico</td>\n",
              "      <td>b BBC NEWS   Asia Pacific   Extinction  by man...</td>\n",
              "    </tr>\n",
              "    <tr>\n",
              "      <th>3</th>\n",
              "      <td>b  U S  refuses Israel weapons to attack Iran ...</td>\n",
              "      <td>b When the president ordered to attack Tskhinv...</td>\n",
              "      <td>b  Israel clears troops who killed Reuters cam...</td>\n",
              "      <td>b Britain  s policy of being tough on drugs is...</td>\n",
              "      <td>b Body of    year old found in trunk  Latest  ...</td>\n",
              "      <td>b China has moved     million  quake survivors...</td>\n",
              "      <td>b Bush announces Operation Get All Up In Russi...</td>\n",
              "      <td>b Russian forces sink Georgian ships</td>\n",
              "      <td>b The commander of a Navy air reconnaissance s...</td>\n",
              "      <td>b     of CNN readers  Russia s actions in Geor...</td>\n",
              "      <td>b USA to send fleet into Black Sea to help Geo...</td>\n",
              "      <td>b US warns against Israeli plan to strike agai...</td>\n",
              "      <td>b In an intriguing cyberalliance  two Estonian...</td>\n",
              "      <td>b The CNN Effect  Georgia Schools Russia in In...</td>\n",
              "      <td>b Why Russias response to Georgia was right</td>\n",
              "      <td>b Elephants extinct by</td>\n",
              "      <td>b US humanitarian missions soon in Georgia   i...</td>\n",
              "      <td>b Georgia s DDOS came from US sources</td>\n",
              "      <td>b Russian convoy heads into Georgia  violating...</td>\n",
              "      <td>b Israeli defence minister  US against strike ...</td>\n",
              "      <td>b Gorbachev  We Had No Choice</td>\n",
              "      <td>b Witness  Russian forces head towards Tbilisi...</td>\n",
              "      <td>b  Quarter of Russians blame U S  for conflict...</td>\n",
              "      <td>b Georgian president  says US military will ta...</td>\n",
              "      <td>b       Nobel laureate Aleksander Solzhenitsyn...</td>\n",
              "    </tr>\n",
              "    <tr>\n",
              "      <th>4</th>\n",
              "      <td>b All the experts admit that we should legalis...</td>\n",
              "      <td>b War in South Osetia      pictures made by a ...</td>\n",
              "      <td>b Swedish wrestler Ara Abrahamian throws away ...</td>\n",
              "      <td>b Russia exaggerated the death toll in South O...</td>\n",
              "      <td>b Missile That Killed   Inside Pakistan May Ha...</td>\n",
              "      <td>b Rushdie Condemns Random House s Refusal to P...</td>\n",
              "      <td>b Poland and US agree to missle defense deal  ...</td>\n",
              "      <td>b Will the Russians conquer Tblisi  Bet on it ...</td>\n",
              "      <td>b Russia exaggerating South Ossetian death tol...</td>\n",
              "      <td>b  Musharraf expected to resign rather than fa...</td>\n",
              "      <td>b Moscow Made Plans Months Ago to Invade Georgia</td>\n",
              "      <td>b Why Russias response to Georgia was right</td>\n",
              "      <td>b Nigeria has handed over the potentially oil ...</td>\n",
              "      <td>b The US and Poland have agreed a preliminary ...</td>\n",
              "      <td>b Russia apparently is sabotaging infrastructu...</td>\n",
              "      <td>b Bank analyst forecast Georgian crisis   days...</td>\n",
              "      <td>b Georgia confict could set back Russia s US r...</td>\n",
              "      <td>b War in the Caucasus is as much the product o...</td>\n",
              "      <td>b  Non media  photos of South Ossetia Georgia ...</td>\n",
              "      <td>b Georgian TV reporter shot by Russian sniper ...</td>\n",
              "      <td>b Saudi Arabia  Mother moves to block child ma...</td>\n",
              "      <td>b Taliban wages war on humanitarian aid workers</td>\n",
              "      <td>b Russia  World   can forget about  Georgia  s...</td>\n",
              "      <td>b Darfur rebels accuse Sudan of mounting major...</td>\n",
              "      <td>b Philippines   Peace Advocate say Muslims nee...</td>\n",
              "    </tr>\n",
              "  </tbody>\n",
              "</table>\n",
              "</div>"
            ],
            "text/plain": [
              "                                                   0  ...                                                 24\n",
              "0  b Georgia  downs two Russian warplanes  as cou...  ...           b No Help for Mexico s Kidnapping Surge \n",
              "1  b Why wont America and Nato help us  If they w...  ...  b So this is what it s come to  trading sex fo...\n",
              "2  b Remember that adorable   year old who sang a...  ...  b BBC NEWS   Asia Pacific   Extinction  by man...\n",
              "3  b  U S  refuses Israel weapons to attack Iran ...  ...  b       Nobel laureate Aleksander Solzhenitsyn...\n",
              "4  b All the experts admit that we should legalis...  ...  b Philippines   Peace Advocate say Muslims nee...\n",
              "\n",
              "[5 rows x 25 columns]"
            ]
          },
          "metadata": {
            "tags": []
          },
          "execution_count": 12
        }
      ]
    },
    {
      "cell_type": "code",
      "metadata": {
        "colab": {
          "base_uri": "https://localhost:8080/",
          "height": 362
        },
        "id": "le2MCibqZEOf",
        "outputId": "061e54d9-cfed-485d-a789-bb2768d3334c"
      },
      "source": [
        "for index in new_Index:\n",
        "    data[index] = data[index].str.lower()\n",
        "data.head(2)"
      ],
      "execution_count": 13,
      "outputs": [
        {
          "output_type": "execute_result",
          "data": {
            "text/html": [
              "<div>\n",
              "<style scoped>\n",
              "    .dataframe tbody tr th:only-of-type {\n",
              "        vertical-align: middle;\n",
              "    }\n",
              "\n",
              "    .dataframe tbody tr th {\n",
              "        vertical-align: top;\n",
              "    }\n",
              "\n",
              "    .dataframe thead th {\n",
              "        text-align: right;\n",
              "    }\n",
              "</style>\n",
              "<table border=\"1\" class=\"dataframe\">\n",
              "  <thead>\n",
              "    <tr style=\"text-align: right;\">\n",
              "      <th></th>\n",
              "      <th>0</th>\n",
              "      <th>1</th>\n",
              "      <th>2</th>\n",
              "      <th>3</th>\n",
              "      <th>4</th>\n",
              "      <th>5</th>\n",
              "      <th>6</th>\n",
              "      <th>7</th>\n",
              "      <th>8</th>\n",
              "      <th>9</th>\n",
              "      <th>10</th>\n",
              "      <th>11</th>\n",
              "      <th>12</th>\n",
              "      <th>13</th>\n",
              "      <th>14</th>\n",
              "      <th>15</th>\n",
              "      <th>16</th>\n",
              "      <th>17</th>\n",
              "      <th>18</th>\n",
              "      <th>19</th>\n",
              "      <th>20</th>\n",
              "      <th>21</th>\n",
              "      <th>22</th>\n",
              "      <th>23</th>\n",
              "      <th>24</th>\n",
              "    </tr>\n",
              "  </thead>\n",
              "  <tbody>\n",
              "    <tr>\n",
              "      <th>0</th>\n",
              "      <td>b georgia  downs two russian warplanes  as cou...</td>\n",
              "      <td>b breaking  musharraf to be impeached</td>\n",
              "      <td>b russia today  columns of troops roll into so...</td>\n",
              "      <td>b russian tanks are moving towards the capital...</td>\n",
              "      <td>b afghan children raped with  impunity   u n  ...</td>\n",
              "      <td>b     russian tanks have entered south ossetia...</td>\n",
              "      <td>b breaking  georgia invades south ossetia  rus...</td>\n",
              "      <td>b the  enemy combatent  trials are nothing but...</td>\n",
              "      <td>b georgian troops retreat from s  osettain cap...</td>\n",
              "      <td>b did the u s  prep georgia for war with russia</td>\n",
              "      <td>b rice gives green light for israel to attack ...</td>\n",
              "      <td>b announcing class action lawsuit on behalf of...</td>\n",
              "      <td>b so   russia and georgia are at war and the n...</td>\n",
              "      <td>b china tells bush to stay out of other countr...</td>\n",
              "      <td>b did world war iii start today</td>\n",
              "      <td>b georgia invades south ossetia   if russia ge...</td>\n",
              "      <td>b al qaeda faces islamist backlash</td>\n",
              "      <td>b condoleezza rice   the us would not act to p...</td>\n",
              "      <td>b this is a busy day   the european union has ...</td>\n",
              "      <td>b georgia will withdraw       soldiers from ir...</td>\n",
              "      <td>b why the pentagon thinks attacking iran is a ...</td>\n",
              "      <td>b caucasus in crisis  georgia invades south os...</td>\n",
              "      <td>b indian shoe manufactory    and again in a se...</td>\n",
              "      <td>b visitors suffering from mental illnesses ban...</td>\n",
              "      <td>b no help for mexico s kidnapping surge</td>\n",
              "    </tr>\n",
              "    <tr>\n",
              "      <th>1</th>\n",
              "      <td>b why wont america and nato help us  if they w...</td>\n",
              "      <td>b bush puts foot down on georgian conflict</td>\n",
              "      <td>b jewish georgian minister  thanks to israeli ...</td>\n",
              "      <td>b georgian army flees in disarray as russians ...</td>\n",
              "      <td>b olympic opening ceremony fireworks  faked</td>\n",
              "      <td>b what were the mossad with fraudulent new zea...</td>\n",
              "      <td>b russia angered by israeli military sale to g...</td>\n",
              "      <td>b an american citizen living in s ossetia blam...</td>\n",
              "      <td>b welcome to world war iv  now in high definit...</td>\n",
              "      <td>b georgia s move  a mistake of monumental prop...</td>\n",
              "      <td>b russia presses deeper into georgia  u s  say...</td>\n",
              "      <td>b abhinav bindra wins first ever individual ol...</td>\n",
              "      <td>b  u s  ship heads for arctic to define territ...</td>\n",
              "      <td>b drivers in a jerusalem taxi station threaten...</td>\n",
              "      <td>b the french team is stunned by phelps and the...</td>\n",
              "      <td>b israel and the us behind the georgian aggres...</td>\n",
              "      <td>b  do not believe tv  neither russian nor geor...</td>\n",
              "      <td>b riots are still going on in montreal  canada...</td>\n",
              "      <td>b china to overtake us as largest manufacturer</td>\n",
              "      <td>b war in south ossetia  pics</td>\n",
              "      <td>b israeli physicians group condemns state tort...</td>\n",
              "      <td>b  russia has just beaten the united states ov...</td>\n",
              "      <td>b perhaps  the  question about the georgia   r...</td>\n",
              "      <td>b russia is so much better at war</td>\n",
              "      <td>b so this is what it s come to  trading sex fo...</td>\n",
              "    </tr>\n",
              "  </tbody>\n",
              "</table>\n",
              "</div>"
            ],
            "text/plain": [
              "                                                   0  ...                                                 24\n",
              "0  b georgia  downs two russian warplanes  as cou...  ...           b no help for mexico s kidnapping surge \n",
              "1  b why wont america and nato help us  if they w...  ...  b so this is what it s come to  trading sex fo...\n",
              "\n",
              "[2 rows x 25 columns]"
            ]
          },
          "metadata": {
            "tags": []
          },
          "execution_count": 13
        }
      ]
    },
    {
      "cell_type": "code",
      "metadata": {
        "id": "6XIRQUrJZIRh"
      },
      "source": [
        "headlines = []\n",
        "for row in range(0, len(data.index)):\n",
        "    headlines.append(' '.join(str(x)[1:] for x in data.iloc[row, 0:25]))"
      ],
      "execution_count": 14,
      "outputs": []
    },
    {
      "cell_type": "code",
      "metadata": {
        "id": "-uokFivXZQys"
      },
      "source": [
        "\n",
        "from sklearn.feature_extraction.text import TfidfVectorizer\n",
        "from sklearn.ensemble import RandomForestClassifier"
      ],
      "execution_count": 15,
      "outputs": []
    },
    {
      "cell_type": "code",
      "metadata": {
        "id": "-5muCcyiZRoV"
      },
      "source": [
        "# implememt BAG OF WORDS\n",
        "tfidfVector = TfidfVectorizer(ngram_range=(2,2))\n",
        "#ngram(2,2) means it will combine the 2 words together and assign the value\n",
        "\n",
        "trainDataset = tfidfVector.fit_transform(headlines)"
      ],
      "execution_count": 16,
      "outputs": []
    },
    {
      "cell_type": "code",
      "metadata": {
        "colab": {
          "base_uri": "https://localhost:8080/"
        },
        "id": "1xosALTBce7w",
        "outputId": "1d82d0a3-7b18-435a-f305-ba5aaa2150be"
      },
      "source": [
        "randomClassifier = RandomForestClassifier(n_estimators=200, criterion='entropy')\n",
        "randomClassifier.fit(trainDataset, train['Label'])"
      ],
      "execution_count": 17,
      "outputs": [
        {
          "output_type": "execute_result",
          "data": {
            "text/plain": [
              "RandomForestClassifier(bootstrap=True, ccp_alpha=0.0, class_weight=None,\n",
              "                       criterion='entropy', max_depth=None, max_features='auto',\n",
              "                       max_leaf_nodes=None, max_samples=None,\n",
              "                       min_impurity_decrease=0.0, min_impurity_split=None,\n",
              "                       min_samples_leaf=1, min_samples_split=2,\n",
              "                       min_weight_fraction_leaf=0.0, n_estimators=200,\n",
              "                       n_jobs=None, oob_score=False, random_state=None,\n",
              "                       verbose=0, warm_start=False)"
            ]
          },
          "metadata": {
            "tags": []
          },
          "execution_count": 17
        }
      ]
    },
    {
      "cell_type": "code",
      "metadata": {
        "id": "mABt_Kuecozq"
      },
      "source": [
        "testTransform =[]\n",
        "for row in range(0, len(df.index)):\n",
        "    testTransform.append(' '.join(str(x)[1:] for x in df.iloc[row, 2:27]))\n",
        "    \n",
        "test_dataset = tfidfVector.transform(testTransform)"
      ],
      "execution_count": 18,
      "outputs": []
    },
    {
      "cell_type": "code",
      "metadata": {
        "colab": {
          "base_uri": "https://localhost:8080/"
        },
        "id": "Ln6FFWSwdsNM",
        "outputId": "356b3ad8-75cf-4a19-b0be-8cfbc0e4f71e"
      },
      "source": [
        "pred_0 = []\n",
        "pred_1 = []\n",
        "predictions = randomClassifier.predict_proba(test_dataset)\n",
        "print(len(predictions))\n",
        "for i in predictions:\n",
        "  pred_0.append(i[0])\n",
        "  pred_1.append(i[1])"
      ],
      "execution_count": 19,
      "outputs": [
        {
          "output_type": "stream",
          "text": [
            "1989\n"
          ],
          "name": "stdout"
        }
      ]
    },
    {
      "cell_type": "code",
      "metadata": {
        "colab": {
          "base_uri": "https://localhost:8080/"
        },
        "id": "mVEcJwvFdy1L",
        "outputId": "d3e7e053-435f-482e-80ff-c04acaf14558"
      },
      "source": [
        "print(len(pred_0))\n",
        "print(len(pred_1))"
      ],
      "execution_count": 20,
      "outputs": [
        {
          "output_type": "stream",
          "text": [
            "1989\n",
            "1989\n"
          ],
          "name": "stdout"
        }
      ]
    },
    {
      "cell_type": "code",
      "metadata": {
        "colab": {
          "base_uri": "https://localhost:8080/"
        },
        "id": "XEr5pEF2c1FN",
        "outputId": "cf539c6e-47e0-4eaf-951e-5f5b0faf15c6"
      },
      "source": [
        "from sklearn.preprocessing import MinMaxScaler\n",
        "input_length = 50\n",
        "output_length = 1\n",
        "test_percentage = 0.2\n",
        "# dataset = dj['Close'].to_numpy()\n",
        "\n",
        "# scaler = MinMaxScaler()\n",
        "# dataset_norm = scaler.fit_transform(dataset.reshape(-1, 1)).flatten()\n",
        "dataset_list_0 = []\n",
        "dataset_list_1 = []\n",
        "for i in range(len(pred_0) - input_length - output_length):\n",
        "    dataset_list_0.append(pred_0[i:i + input_length + output_length])\n",
        "    dataset_list_1.append(pred_1[i:i + input_length + output_length])\n",
        "dataset_list_0 = np.array(dataset_list_0)\n",
        "dataset_list_1 = np.array(dataset_list_1)\n",
        "trainset_0 = dataset_list_0[:int(len(dataset_list_0) * (1 - test_percentage))]\n",
        "testset_0 = dataset_list_0[int(len(dataset_list_0) * (1 - test_percentage)):]\n",
        "\n",
        "trainset_1 = dataset_list_1[:int(len(dataset_list_1) * (1 - test_percentage))]\n",
        "testset_1 = dataset_list_1[int(len(dataset_list_1) * (1 - test_percentage)):]\n",
        "\n",
        "x_train_0 = trainset_0[:, :-1]\n",
        "x_test_0 = testset_0[:, :-1]\n",
        "\n",
        "x_train_1 = trainset_1[:, :-1]\n",
        "x_test_1 = testset_1[:, :-1]\n",
        "\n",
        "print('x_train.shape:' + str(x_train_0.shape))\n",
        "print('x_test.shape:' + str(x_test_0.shape))"
      ],
      "execution_count": 21,
      "outputs": [
        {
          "output_type": "stream",
          "text": [
            "x_train.shape:(1550, 50)\n",
            "x_test.shape:(388, 50)\n"
          ],
          "name": "stdout"
        }
      ]
    },
    {
      "cell_type": "code",
      "metadata": {
        "id": "uVEOStc-ghwC"
      },
      "source": [
        "input_tensor_c = Input(shape=( x_train_price.shape[1],1), dtype='float32')\n",
        "x_c = Bidirectional(LSTM(128, return_sequences=True))(input_tensor_c)\n",
        "x_c = Dropout(0.2)(x_c)\n",
        "x_c = Bidirectional(LSTM(64, return_sequences=True))(x_c)\n",
        "x_c = Dropout(0.2)(x_c)\n",
        "x_c = Bidirectional(LSTM(32, return_sequences=False))(x_c)\n",
        "x_c = Dropout(0.2)(x_c)\n",
        "\n",
        "input_tensor_n_0 = Input(shape=( x_train_0.shape[1],1), dtype='float32')\n",
        "x_n_0 = Bidirectional(LSTM(64, return_sequences=True))(input_tensor_n_0)\n",
        "x_n_0 = Dropout(0.2)(x_n_0)\n",
        "x_n_0 = Bidirectional(LSTM(32, return_sequences=False))(x_n_0)\n",
        "x_n_0 = Dropout(0.2)(x_n_0)\n",
        "\n",
        "\n",
        "input_tensor_n_1 = Input(shape=( x_train_1.shape[1],1), dtype='float32')\n",
        "x_n_1 = Bidirectional(LSTM(64, return_sequences=True))(input_tensor_n_1)\n",
        "x_n_1 = Dropout(0.2)(x_n_1)\n",
        "x_n_1 = Bidirectional(LSTM(32, return_sequences=False))(x_n_1)\n",
        "x_n_1 = Dropout(0.2)(x_n_1)\n",
        "\n",
        "combined = Concatenate()([x_c, x_n_0, x_n_1])\n",
        "\n",
        "mix2= Dense(256)(combined)\n",
        "mix2 = Dense(128)(mix2)\n",
        "mix2 = Dense(64)(mix2)\n",
        "mix2 = Dense(32)(mix2)\n",
        "mix2 = Dense(16)(mix2)\n",
        "mix2 = Dense(8)(mix2)\n",
        "mix2 = Dense(4)(mix2)\n",
        "\n",
        "out1 = Dense(1)(mix2)\n",
        "\n",
        "\n",
        "regressor = Model(inputs=[input_tensor_c,input_tensor_n_0,input_tensor_n_1],outputs=[out1])"
      ],
      "execution_count": 23,
      "outputs": []
    },
    {
      "cell_type": "code",
      "metadata": {
        "colab": {
          "base_uri": "https://localhost:8080/"
        },
        "id": "cSVe4v-uhXsp",
        "outputId": "75909d46-0b78-460c-c956-b3c3f3448def"
      },
      "source": [
        "regressor.compile(optimizer = \"rmsprop\", loss = 'mean_squared_error')\n",
        "regressor.summary()"
      ],
      "execution_count": 24,
      "outputs": [
        {
          "output_type": "stream",
          "text": [
            "Model: \"model\"\n",
            "__________________________________________________________________________________________________\n",
            "Layer (type)                    Output Shape         Param #     Connected to                     \n",
            "==================================================================================================\n",
            "input_1 (InputLayer)            [(None, 50, 1)]      0                                            \n",
            "__________________________________________________________________________________________________\n",
            "bidirectional (Bidirectional)   (None, 50, 256)      133120      input_1[0][0]                    \n",
            "__________________________________________________________________________________________________\n",
            "dropout (Dropout)               (None, 50, 256)      0           bidirectional[0][0]              \n",
            "__________________________________________________________________________________________________\n",
            "input_2 (InputLayer)            [(None, 50, 1)]      0                                            \n",
            "__________________________________________________________________________________________________\n",
            "input_3 (InputLayer)            [(None, 50, 1)]      0                                            \n",
            "__________________________________________________________________________________________________\n",
            "bidirectional_1 (Bidirectional) (None, 50, 128)      164352      dropout[0][0]                    \n",
            "__________________________________________________________________________________________________\n",
            "bidirectional_3 (Bidirectional) (None, 50, 128)      33792       input_2[0][0]                    \n",
            "__________________________________________________________________________________________________\n",
            "bidirectional_5 (Bidirectional) (None, 50, 128)      33792       input_3[0][0]                    \n",
            "__________________________________________________________________________________________________\n",
            "dropout_1 (Dropout)             (None, 50, 128)      0           bidirectional_1[0][0]            \n",
            "__________________________________________________________________________________________________\n",
            "dropout_3 (Dropout)             (None, 50, 128)      0           bidirectional_3[0][0]            \n",
            "__________________________________________________________________________________________________\n",
            "dropout_5 (Dropout)             (None, 50, 128)      0           bidirectional_5[0][0]            \n",
            "__________________________________________________________________________________________________\n",
            "bidirectional_2 (Bidirectional) (None, 64)           41216       dropout_1[0][0]                  \n",
            "__________________________________________________________________________________________________\n",
            "bidirectional_4 (Bidirectional) (None, 64)           41216       dropout_3[0][0]                  \n",
            "__________________________________________________________________________________________________\n",
            "bidirectional_6 (Bidirectional) (None, 64)           41216       dropout_5[0][0]                  \n",
            "__________________________________________________________________________________________________\n",
            "dropout_2 (Dropout)             (None, 64)           0           bidirectional_2[0][0]            \n",
            "__________________________________________________________________________________________________\n",
            "dropout_4 (Dropout)             (None, 64)           0           bidirectional_4[0][0]            \n",
            "__________________________________________________________________________________________________\n",
            "dropout_6 (Dropout)             (None, 64)           0           bidirectional_6[0][0]            \n",
            "__________________________________________________________________________________________________\n",
            "concatenate (Concatenate)       (None, 192)          0           dropout_2[0][0]                  \n",
            "                                                                 dropout_4[0][0]                  \n",
            "                                                                 dropout_6[0][0]                  \n",
            "__________________________________________________________________________________________________\n",
            "dense (Dense)                   (None, 256)          49408       concatenate[0][0]                \n",
            "__________________________________________________________________________________________________\n",
            "dense_1 (Dense)                 (None, 128)          32896       dense[0][0]                      \n",
            "__________________________________________________________________________________________________\n",
            "dense_2 (Dense)                 (None, 64)           8256        dense_1[0][0]                    \n",
            "__________________________________________________________________________________________________\n",
            "dense_3 (Dense)                 (None, 32)           2080        dense_2[0][0]                    \n",
            "__________________________________________________________________________________________________\n",
            "dense_4 (Dense)                 (None, 16)           528         dense_3[0][0]                    \n",
            "__________________________________________________________________________________________________\n",
            "dense_5 (Dense)                 (None, 8)            136         dense_4[0][0]                    \n",
            "__________________________________________________________________________________________________\n",
            "dense_6 (Dense)                 (None, 4)            36          dense_5[0][0]                    \n",
            "__________________________________________________________________________________________________\n",
            "dense_7 (Dense)                 (None, 1)            5           dense_6[0][0]                    \n",
            "==================================================================================================\n",
            "Total params: 582,049\n",
            "Trainable params: 582,049\n",
            "Non-trainable params: 0\n",
            "__________________________________________________________________________________________________\n"
          ],
          "name": "stdout"
        }
      ]
    },
    {
      "cell_type": "code",
      "metadata": {
        "colab": {
          "base_uri": "https://localhost:8080/"
        },
        "id": "oR8haIY4gl3J",
        "outputId": "845e69d2-ac9b-4692-fa4d-57fdb1ab996d"
      },
      "source": [
        "regressor.fit([x_train_price, x_train_0, x_train_1], [y_train_price], epochs = 100, batch_size = 8)\n",
        "# regressor.save(\"/content/drive/MyDrive/news-stock-no-headlines.h5\")"
      ],
      "execution_count": 25,
      "outputs": [
        {
          "output_type": "stream",
          "text": [
            "Epoch 1/100\n",
            "194/194 [==============================] - 58s 52ms/step - loss: 0.1685\n",
            "Epoch 2/100\n",
            "194/194 [==============================] - 10s 52ms/step - loss: 0.0091\n",
            "Epoch 3/100\n",
            "194/194 [==============================] - 10s 51ms/step - loss: 0.0075\n",
            "Epoch 4/100\n",
            "194/194 [==============================] - 10s 51ms/step - loss: 0.0076\n",
            "Epoch 5/100\n",
            "194/194 [==============================] - 10s 50ms/step - loss: 0.0080\n",
            "Epoch 6/100\n",
            "194/194 [==============================] - 10s 51ms/step - loss: 0.0071\n",
            "Epoch 7/100\n",
            "194/194 [==============================] - 10s 51ms/step - loss: 0.0068\n",
            "Epoch 8/100\n",
            "194/194 [==============================] - 10s 52ms/step - loss: 0.0068\n",
            "Epoch 9/100\n",
            "194/194 [==============================] - 10s 52ms/step - loss: 0.0050\n",
            "Epoch 10/100\n",
            "194/194 [==============================] - 10s 51ms/step - loss: 0.0055\n",
            "Epoch 11/100\n",
            "194/194 [==============================] - 10s 51ms/step - loss: 0.0048\n",
            "Epoch 12/100\n",
            "194/194 [==============================] - 10s 51ms/step - loss: 0.0047\n",
            "Epoch 13/100\n",
            "194/194 [==============================] - 10s 51ms/step - loss: 0.0038\n",
            "Epoch 14/100\n",
            "194/194 [==============================] - 10s 50ms/step - loss: 0.0040\n",
            "Epoch 15/100\n",
            "194/194 [==============================] - 10s 51ms/step - loss: 0.0047\n",
            "Epoch 16/100\n",
            "194/194 [==============================] - 10s 51ms/step - loss: 0.0042\n",
            "Epoch 17/100\n",
            "194/194 [==============================] - 10s 51ms/step - loss: 0.0063\n",
            "Epoch 18/100\n",
            "194/194 [==============================] - 10s 51ms/step - loss: 0.0045\n",
            "Epoch 19/100\n",
            "194/194 [==============================] - 10s 51ms/step - loss: 0.0047\n",
            "Epoch 20/100\n",
            "194/194 [==============================] - 10s 51ms/step - loss: 0.0040\n",
            "Epoch 21/100\n",
            "194/194 [==============================] - 10s 50ms/step - loss: 0.0045\n",
            "Epoch 22/100\n",
            "194/194 [==============================] - 10s 51ms/step - loss: 0.0037\n",
            "Epoch 23/100\n",
            "194/194 [==============================] - 10s 52ms/step - loss: 0.0042\n",
            "Epoch 24/100\n",
            "194/194 [==============================] - 10s 52ms/step - loss: 0.0041\n",
            "Epoch 25/100\n",
            "194/194 [==============================] - 10s 53ms/step - loss: 0.0053\n",
            "Epoch 26/100\n",
            "194/194 [==============================] - 10s 52ms/step - loss: 0.0040\n",
            "Epoch 27/100\n",
            "194/194 [==============================] - 10s 53ms/step - loss: 0.0041\n",
            "Epoch 28/100\n",
            "194/194 [==============================] - 10s 52ms/step - loss: 0.0045\n",
            "Epoch 29/100\n",
            "194/194 [==============================] - 10s 52ms/step - loss: 0.0041\n",
            "Epoch 30/100\n",
            "194/194 [==============================] - 10s 52ms/step - loss: 0.0039\n",
            "Epoch 31/100\n",
            "194/194 [==============================] - 10s 52ms/step - loss: 0.0037\n",
            "Epoch 32/100\n",
            "194/194 [==============================] - 10s 51ms/step - loss: 0.0038\n",
            "Epoch 33/100\n",
            "194/194 [==============================] - 10s 51ms/step - loss: 0.0040\n",
            "Epoch 34/100\n",
            "194/194 [==============================] - 10s 51ms/step - loss: 0.0038\n",
            "Epoch 35/100\n",
            "194/194 [==============================] - 10s 51ms/step - loss: 0.0037\n",
            "Epoch 36/100\n",
            "194/194 [==============================] - 10s 51ms/step - loss: 0.0035\n",
            "Epoch 37/100\n",
            "194/194 [==============================] - 10s 51ms/step - loss: 0.0037\n",
            "Epoch 38/100\n",
            "194/194 [==============================] - 10s 51ms/step - loss: 0.0039\n",
            "Epoch 39/100\n",
            "194/194 [==============================] - 10s 51ms/step - loss: 0.0040\n",
            "Epoch 40/100\n",
            "194/194 [==============================] - 10s 51ms/step - loss: 0.0035\n",
            "Epoch 41/100\n",
            "194/194 [==============================] - 10s 52ms/step - loss: 0.0038\n",
            "Epoch 42/100\n",
            "194/194 [==============================] - 10s 51ms/step - loss: 0.0037\n",
            "Epoch 43/100\n",
            "194/194 [==============================] - 10s 52ms/step - loss: 0.0041\n",
            "Epoch 44/100\n",
            "194/194 [==============================] - 10s 51ms/step - loss: 0.0038\n",
            "Epoch 45/100\n",
            "194/194 [==============================] - 10s 51ms/step - loss: 0.0038\n",
            "Epoch 46/100\n",
            "194/194 [==============================] - 10s 51ms/step - loss: 0.0038\n",
            "Epoch 47/100\n",
            "194/194 [==============================] - 10s 51ms/step - loss: 0.0041\n",
            "Epoch 48/100\n",
            "194/194 [==============================] - 10s 52ms/step - loss: 0.0036\n",
            "Epoch 49/100\n",
            "194/194 [==============================] - 10s 51ms/step - loss: 0.0038\n",
            "Epoch 50/100\n",
            "194/194 [==============================] - 10s 50ms/step - loss: 0.0038\n",
            "Epoch 51/100\n",
            "194/194 [==============================] - 10s 52ms/step - loss: 0.0035\n",
            "Epoch 52/100\n",
            "194/194 [==============================] - 10s 51ms/step - loss: 0.0045\n",
            "Epoch 53/100\n",
            "194/194 [==============================] - 10s 51ms/step - loss: 0.0035\n",
            "Epoch 54/100\n",
            "194/194 [==============================] - 10s 50ms/step - loss: 0.0035\n",
            "Epoch 55/100\n",
            "194/194 [==============================] - 10s 51ms/step - loss: 0.0038\n",
            "Epoch 56/100\n",
            "194/194 [==============================] - 10s 51ms/step - loss: 0.0035\n",
            "Epoch 57/100\n",
            "194/194 [==============================] - 10s 51ms/step - loss: 0.0042\n",
            "Epoch 58/100\n",
            "194/194 [==============================] - 10s 51ms/step - loss: 0.0038\n",
            "Epoch 59/100\n",
            "194/194 [==============================] - 10s 51ms/step - loss: 0.0036\n",
            "Epoch 60/100\n",
            "194/194 [==============================] - 10s 50ms/step - loss: 0.0035\n",
            "Epoch 61/100\n",
            "194/194 [==============================] - 10s 50ms/step - loss: 0.0037\n",
            "Epoch 62/100\n",
            "194/194 [==============================] - 10s 50ms/step - loss: 0.0034\n",
            "Epoch 63/100\n",
            "194/194 [==============================] - 10s 50ms/step - loss: 0.0039\n",
            "Epoch 64/100\n",
            "194/194 [==============================] - 10s 50ms/step - loss: 0.0037\n",
            "Epoch 65/100\n",
            "194/194 [==============================] - 10s 50ms/step - loss: 0.0040\n",
            "Epoch 66/100\n",
            "194/194 [==============================] - 10s 51ms/step - loss: 0.0035\n",
            "Epoch 67/100\n",
            "194/194 [==============================] - 10s 50ms/step - loss: 0.0037\n",
            "Epoch 68/100\n",
            "194/194 [==============================] - 10s 51ms/step - loss: 0.0041\n",
            "Epoch 69/100\n",
            "194/194 [==============================] - 10s 50ms/step - loss: 0.0033\n",
            "Epoch 70/100\n",
            "194/194 [==============================] - 10s 50ms/step - loss: 0.0034\n",
            "Epoch 71/100\n",
            "194/194 [==============================] - 10s 50ms/step - loss: 0.0037\n",
            "Epoch 72/100\n",
            "194/194 [==============================] - 10s 50ms/step - loss: 0.0036\n",
            "Epoch 73/100\n",
            "194/194 [==============================] - 10s 50ms/step - loss: 0.0032\n",
            "Epoch 74/100\n",
            "194/194 [==============================] - 10s 50ms/step - loss: 0.0035\n",
            "Epoch 75/100\n",
            "194/194 [==============================] - 9s 48ms/step - loss: 0.0035\n",
            "Epoch 76/100\n",
            "194/194 [==============================] - 10s 49ms/step - loss: 0.0043\n",
            "Epoch 77/100\n",
            "194/194 [==============================] - 10s 51ms/step - loss: 0.0031\n",
            "Epoch 78/100\n",
            "194/194 [==============================] - 10s 49ms/step - loss: 0.0035\n",
            "Epoch 79/100\n",
            "194/194 [==============================] - 10s 50ms/step - loss: 0.0032\n",
            "Epoch 80/100\n",
            "194/194 [==============================] - 10s 51ms/step - loss: 0.0030\n",
            "Epoch 81/100\n",
            "194/194 [==============================] - 10s 50ms/step - loss: 0.0033\n",
            "Epoch 82/100\n",
            "194/194 [==============================] - 10s 50ms/step - loss: 0.0036\n",
            "Epoch 83/100\n",
            "194/194 [==============================] - 9s 49ms/step - loss: 0.0032\n",
            "Epoch 84/100\n",
            "194/194 [==============================] - 9s 47ms/step - loss: 0.0035\n",
            "Epoch 85/100\n",
            "194/194 [==============================] - 9s 47ms/step - loss: 0.0038\n",
            "Epoch 86/100\n",
            "194/194 [==============================] - 9s 48ms/step - loss: 0.0033\n",
            "Epoch 87/100\n",
            "194/194 [==============================] - 9s 49ms/step - loss: 0.0033\n",
            "Epoch 88/100\n",
            "194/194 [==============================] - 9s 47ms/step - loss: 0.0034\n",
            "Epoch 89/100\n",
            "194/194 [==============================] - 9s 49ms/step - loss: 0.0031\n",
            "Epoch 90/100\n",
            "194/194 [==============================] - 10s 50ms/step - loss: 0.0032\n",
            "Epoch 91/100\n",
            "194/194 [==============================] - 10s 50ms/step - loss: 0.0031\n",
            "Epoch 92/100\n",
            "194/194 [==============================] - 9s 49ms/step - loss: 0.0033\n",
            "Epoch 93/100\n",
            "194/194 [==============================] - 10s 50ms/step - loss: 0.0033\n",
            "Epoch 94/100\n",
            "194/194 [==============================] - 10s 50ms/step - loss: 0.0032\n",
            "Epoch 95/100\n",
            "194/194 [==============================] - 10s 49ms/step - loss: 0.0034\n",
            "Epoch 96/100\n",
            "194/194 [==============================] - 9s 49ms/step - loss: 0.0034\n",
            "Epoch 97/100\n",
            "194/194 [==============================] - 10s 49ms/step - loss: 0.0031\n",
            "Epoch 98/100\n",
            "194/194 [==============================] - 9s 49ms/step - loss: 0.0032\n",
            "Epoch 99/100\n",
            "194/194 [==============================] - 10s 49ms/step - loss: 0.0035\n",
            "Epoch 100/100\n",
            "194/194 [==============================] - 10s 50ms/step - loss: 0.0033\n"
          ],
          "name": "stdout"
        },
        {
          "output_type": "execute_result",
          "data": {
            "text/plain": [
              "<tensorflow.python.keras.callbacks.History at 0x7f2236a53510>"
            ]
          },
          "metadata": {
            "tags": []
          },
          "execution_count": 25
        }
      ]
    },
    {
      "cell_type": "code",
      "metadata": {
        "colab": {
          "base_uri": "https://localhost:8080/",
          "height": 295
        },
        "id": "dKqbwjLSgl3K",
        "outputId": "ed696f2c-db5a-4ebf-8820-3c6e14d80de2"
      },
      "source": [
        "from sklearn.metrics.regression import mean_squared_error\n",
        "y_predict = regressor.predict([x_test_price, x_test_0, x_test_1])\n",
        "y_real = scaler.inverse_transform(y_test_price.reshape(-1, 1)).flatten()\n",
        "y_predict = scaler.inverse_transform(y_predict.reshape(-1, 1)).flatten()\n",
        "\n",
        "# print(y_real)\n",
        "# print(y_predict)\n",
        "\n",
        "# print(np.any(np.isnan(y_predict)))\n",
        "# difference_array = np.subtract(y_real, y_predict)\n",
        "# print(difference_array)\n",
        "# squared_array = np.square(difference_array)\n",
        "# mse = squared_array.mean()\n",
        "# print(mse)\n",
        "plt.figure(1)\n",
        "plt.plot(y_real, label='real')\n",
        "plt.plot(y_predict, label='prediction')\n",
        "plt.xlabel('MSE Error: {}'.format(mean_squared_error(y_real[:-1], y_predict[:-1])))\n",
        "plt.legend()\n",
        "plt.title('Prediction result')\n",
        "plt.show()"
      ],
      "execution_count": 34,
      "outputs": [
        {
          "output_type": "display_data",
          "data": {
            "image/png": "[encoded data removed]",
            "text/plain": [
              "<Figure size 432x288 with 1 Axes>"
            ]
          },
          "metadata": {
            "tags": [],
            "needs_background": "light"
          }
        }
      ]
    },
    {
      "cell_type": "code",
      "metadata": {
        "id": "o_5rjAoWoV-I"
      },
      "source": [
        "regressor.save(\"/content/drive/MyDrive/news-stock-rate-25-headlines.h5\")"
      ],
      "execution_count": 35,
      "outputs": []
    },
    {
      "cell_type": "code",
      "metadata": {
        "colab": {
          "base_uri": "https://localhost:8080/"
        },
        "id": "Eb441HVWxnSk",
        "outputId": "46842c1d-4bf0-41ee-fb87-b8adb3fb9437"
      },
      "source": [
        "from keras.models import load_model\n",
        "regressor = load_model(\"/content/drive/MyDrive/news-stock-rate-25-headlines.h5\")\n",
        "\n",
        "\n",
        "from sklearn.preprocessing import MinMaxScaler\n",
        "input_length = 50\n",
        "output_length = 1\n",
        "test_percentage = 0.2\n",
        "# dataset = dj['Close'].to_numpy()\n",
        "\n",
        "# scaler = MinMaxScaler()\n",
        "# dataset_norm = scaler.fit_transform(dataset.reshape(-1, 1)).flatten()\n",
        "dataset_list_0 = []\n",
        "dataset_list_1 = []\n",
        "for i in range(len(pred_0) - input_length - output_length):\n",
        "    dataset_list_0.append(pred_0[i:i + input_length + output_length])\n",
        "    dataset_list_1.append(pred_1[i:i + input_length + output_length])\n",
        "dataset_list_0 = np.array(dataset_list_0)\n",
        "dataset_list_1 = np.array(dataset_list_1)\n",
        "trainset_0 = dataset_list_0[:int(len(dataset_list_0) * (1 - test_percentage))]\n",
        "testset_0 = dataset_list_0[int(len(dataset_list_0) * (1 - test_percentage)):]\n",
        "\n",
        "trainset_1 = dataset_list_1[:int(len(dataset_list_1) * (1 - test_percentage))]\n",
        "testset_1 = dataset_list_1[int(len(dataset_list_1) * (1 - test_percentage)):]\n",
        "\n",
        "x_train_0 = trainset_0[:, :-1]\n",
        "y_train_0 = trainset_0[:, -1:]\n",
        "x_test_0 = testset_0[:, :-1]\n",
        "y_test_0 = testset_0[:, -1:]\n",
        "\n",
        "x_train_1 = trainset_1[:, :-1]\n",
        "y_train_1 = trainset_1[:, -1:]\n",
        "x_test_1 = testset_1[:, :-1]\n",
        "y_test_1 = testset_1[:, -1:]\n",
        "\n",
        "y_predict = regressor.predict([x_train_price, x_train_0, x_train_1])\n",
        "y_predict = scaler.inverse_transform(y_predict.reshape(-1, 1)).flatten()\n",
        "\n",
        "\n",
        "p_50 = []\n",
        "p_60 = []\n",
        "p_70 = []\n",
        "p_80 = []\n",
        "p_90 = []\n",
        "\n",
        "n_50 = []\n",
        "n_60 = []\n",
        "n_70 = []\n",
        "n_80 = []\n",
        "n_90 = []\n",
        "\n",
        "for i in range(0, len(y_predict)):\n",
        "  if y_train_0[i] > 0.50 and y_train_0[i] < 0.60:\n",
        "    n_50.append(y_predict[i])\n",
        "  if y_train_0[i] >= 0.60 and y_train_0[i] < 0.70:\n",
        "    n_60.append(y_predict[i])\n",
        "  if y_train_0[i] >= 0.70 and y_train_0[i] < 0.80:\n",
        "    n_70.append(y_predict[i])\n",
        "  if y_train_0[i] >= 0.80 and y_train_0[i] < 0.90:\n",
        "    n_80.append(y_predict[i])\n",
        "  if y_train_0[i] >= 0.90 and y_train_0[i] < 1.00:\n",
        "    n_90.append(y_predict[i])\n",
        "\n",
        "  if y_train_1[i] > 0.50 and y_train_1[i] < 0.60:\n",
        "    p_50.append(y_predict[i])\n",
        "  if y_train_1[i] >= 0.60 and y_train_1[i] < 0.70:\n",
        "    p_60.append(y_predict[i])\n",
        "  if y_train_1[i] >= 0.70 and y_train_1[i] < 0.80:\n",
        "    p_70.append(y_predict[i])\n",
        "  if y_train_1[i] >= 0.80 and y_train_1[i] < 0.90:\n",
        "    p_80.append(y_predict[i])\n",
        "  if y_train_1[i] >= 0.90 and y_train_1[i] < 1.00:\n",
        "    p_90.append(y_predict[i])\n",
        "\n",
        "import statistics\n",
        "print(statistics.mean(n_50))\n",
        "print(statistics.mean(n_60))\n",
        "print(statistics.mean(n_70))\n",
        "print(statistics.mean(n_80))\n",
        "# print(statistics.mean(n_90))\n",
        "\n",
        "# print(statistics.mean(p_50))\n",
        "print(statistics.mean(p_60))\n",
        "print(statistics.mean(p_70))\n",
        "print(statistics.mean(p_80))\n",
        "print(statistics.mean(p_90))"
      ],
      "execution_count": 106,
      "outputs": [
        {
          "output_type": "stream",
          "text": [
            "-181.59612\n",
            "2.5958893\n",
            "8.933651\n",
            "4.4273834\n",
            "-68.68388\n",
            "36.077305\n",
            "23.520283\n",
            "-17.736248\n"
          ],
          "name": "stdout"
        }
      ]
    },
    {
      "cell_type": "code",
      "metadata": {
        "id": "TYGBnWq34dLS"
      },
      "source": [
        "from keras.models import load_model\n",
        "regressor = load_model(\"/content/drive/MyDrive/news-stock-rate-25-headlines.h5\")\n",
        "y_predict = regressor.predict([x_test_price, x_test_0, x_test_1])\n",
        "y_real = scaler.inverse_transform(y_test_price.reshape(-1, 1)).flatten()\n",
        "y_predict = scaler.inverse_transform(y_predict.reshape(-1, 1)).flatten()"
      ],
      "execution_count": null,
      "outputs": []
    },
    {
      "cell_type": "code",
      "metadata": {
        "colab": {
          "base_uri": "https://localhost:8080/"
        },
        "id": "CHLlzn6y4dLS",
        "outputId": "e483addb-5162-4f3f-caaf-1c39fde114c6"
      },
      "source": [
        "from sklearn.metrics import mean_absolute_error\n",
        "print(mean_absolute_error(y_real, y_predict))\n",
        "from sklearn.metrics import r2_score\n",
        "print(r2_score(y_real, y_predict))"
      ],
      "execution_count": null,
      "outputs": [
        {
          "output_type": "stream",
          "text": [
            "320.4131816050257\n",
            "0.6244357284049404\n"
          ],
          "name": "stdout"
        }
      ]
    },
    {
      "cell_type": "code",
      "metadata": {
        "id": "xjtjI9dQyJ5A"
      },
      "source": [
        ""
      ],
      "execution_count": null,
      "outputs": []
    },
    {
      "cell_type": "code",
      "metadata": {
        "id": "MIR7z6KP0ZeP"
      },
      "source": [
        "\n",
        "headlines = []\n",
        "for row in range(0, len(data.index)):\n",
        "    headlines.append(' '.join(str(x) for x in data.iloc[row, 0:20]))"
      ],
      "execution_count": 22,
      "outputs": []
    },
    {
      "cell_type": "code",
      "metadata": {
        "id": "q9n7NDUj1F5q"
      },
      "source": [
        "# implememt BAG OF WORDS\n",
        "tfidfVector = TfidfVectorizer(ngram_range=(2,2))\n",
        "#ngram(2,2) means it will combine the 2 words together and assign the value\n",
        "\n",
        "trainDataset = tfidfVector.fit_transform(headlines)"
      ],
      "execution_count": 23,
      "outputs": []
    },
    {
      "cell_type": "code",
      "metadata": {
        "colab": {
          "base_uri": "https://localhost:8080/"
        },
        "id": "vli-tD5u1F5q",
        "outputId": "1b0591f1-b3d2-4c9e-a0d3-654ee614e384"
      },
      "source": [
        "randomClassifier = RandomForestClassifier(n_estimators=200, criterion='entropy')\n",
        "randomClassifier.fit(trainDataset, train['Label'])"
      ],
      "execution_count": 24,
      "outputs": [
        {
          "output_type": "execute_result",
          "data": {
            "text/plain": [
              "RandomForestClassifier(bootstrap=True, ccp_alpha=0.0, class_weight=None,\n",
              "                       criterion='entropy', max_depth=None, max_features='auto',\n",
              "                       max_leaf_nodes=None, max_samples=None,\n",
              "                       min_impurity_decrease=0.0, min_impurity_split=None,\n",
              "                       min_samples_leaf=1, min_samples_split=2,\n",
              "                       min_weight_fraction_leaf=0.0, n_estimators=200,\n",
              "                       n_jobs=None, oob_score=False, random_state=None,\n",
              "                       verbose=0, warm_start=False)"
            ]
          },
          "metadata": {
            "tags": []
          },
          "execution_count": 24
        }
      ]
    },
    {
      "cell_type": "code",
      "metadata": {
        "id": "Tkt1kl121F5r"
      },
      "source": [
        "testTransform =[]\n",
        "for row in range(0, len(df.index)):\n",
        "    testTransform.append(' '.join(str(x)[1:] for x in df.iloc[row, 2:22]))\n",
        "    \n",
        "test_dataset = tfidfVector.transform(testTransform)"
      ],
      "execution_count": 25,
      "outputs": []
    },
    {
      "cell_type": "code",
      "metadata": {
        "colab": {
          "base_uri": "https://localhost:8080/"
        },
        "id": "JTUZXIXI1F5r",
        "outputId": "928d3872-7ef5-4238-cb2b-9d6aac744e20"
      },
      "source": [
        "pred_0 = []\n",
        "pred_1 = []\n",
        "predictions = randomClassifier.predict_proba(test_dataset)\n",
        "print(len(predictions))\n",
        "for i in predictions:\n",
        "  pred_0.append(i[0])\n",
        "  pred_1.append(i[1])"
      ],
      "execution_count": 26,
      "outputs": [
        {
          "output_type": "stream",
          "text": [
            "1989\n"
          ],
          "name": "stdout"
        }
      ]
    },
    {
      "cell_type": "code",
      "metadata": {
        "colab": {
          "base_uri": "https://localhost:8080/"
        },
        "id": "6SGdfAP01F5r",
        "outputId": "4422256e-71bb-4c01-b074-dc25f15bf323"
      },
      "source": [
        "print(len(pred_0))\n",
        "print(len(pred_1))"
      ],
      "execution_count": 27,
      "outputs": [
        {
          "output_type": "stream",
          "text": [
            "1989\n",
            "1989\n"
          ],
          "name": "stdout"
        }
      ]
    },
    {
      "cell_type": "code",
      "metadata": {
        "colab": {
          "base_uri": "https://localhost:8080/"
        },
        "id": "9R1u5rK71F5r",
        "outputId": "b9df7891-2bff-463d-c2ee-59527eab3a2a"
      },
      "source": [
        "from sklearn.preprocessing import MinMaxScaler\n",
        "input_length = 50\n",
        "output_length = 1\n",
        "test_percentage = 0.2\n",
        "# dataset = dj['Close'].to_numpy()\n",
        "\n",
        "# scaler = MinMaxScaler()\n",
        "# dataset_norm = scaler.fit_transform(dataset.reshape(-1, 1)).flatten()\n",
        "dataset_list_0 = []\n",
        "dataset_list_1 = []\n",
        "for i in range(len(pred_0) - input_length - output_length):\n",
        "    dataset_list_0.append(pred_0[i:i + input_length + output_length])\n",
        "    dataset_list_1.append(pred_1[i:i + input_length + output_length])\n",
        "dataset_list_0 = np.array(dataset_list_0)\n",
        "dataset_list_1 = np.array(dataset_list_1)\n",
        "trainset_0 = dataset_list_0[:int(len(dataset_list_0) * (1 - test_percentage))]\n",
        "testset_0 = dataset_list_0[int(len(dataset_list_0) * (1 - test_percentage)):]\n",
        "\n",
        "trainset_1 = dataset_list_1[:int(len(dataset_list_1) * (1 - test_percentage))]\n",
        "testset_1 = dataset_list_1[int(len(dataset_list_1) * (1 - test_percentage)):]\n",
        "\n",
        "x_train_0 = trainset_0[:, :-1]\n",
        "x_test_0 = testset_0[:, :-1]\n",
        "\n",
        "x_train_1 = trainset_1[:, :-1]\n",
        "x_test_1 = testset_1[:, :-1]\n",
        "\n",
        "print('x_train.shape:' + str(x_train_0.shape))\n",
        "print('x_test.shape:' + str(x_test_0.shape))"
      ],
      "execution_count": 28,
      "outputs": [
        {
          "output_type": "stream",
          "text": [
            "x_train.shape:(1550, 50)\n",
            "x_test.shape:(388, 50)\n"
          ],
          "name": "stdout"
        }
      ]
    },
    {
      "cell_type": "code",
      "metadata": {
        "id": "Mwe9w0AP1F5s"
      },
      "source": [
        "input_tensor_c = Input(shape=( x_train_price.shape[1],1), dtype='float32')\n",
        "x_c = Bidirectional(LSTM(128, return_sequences=True))(input_tensor_c)\n",
        "x_c = Dropout(0.2)(x_c)\n",
        "x_c = Bidirectional(LSTM(64, return_sequences=True))(x_c)\n",
        "x_c = Dropout(0.2)(x_c)\n",
        "x_c = Bidirectional(LSTM(32, return_sequences=False))(x_c)\n",
        "x_c = Dropout(0.2)(x_c)\n",
        "\n",
        "input_tensor_n_0 = Input(shape=( x_train_0.shape[1],1), dtype='float32')\n",
        "x_n_0 = Bidirectional(LSTM(64, return_sequences=True))(input_tensor_n_0)\n",
        "x_n_0 = Dropout(0.2)(x_n_0)\n",
        "x_n_0 = Bidirectional(LSTM(32, return_sequences=False))(x_n_0)\n",
        "x_n_0 = Dropout(0.2)(x_n_0)\n",
        "\n",
        "\n",
        "input_tensor_n_1 = Input(shape=( x_train_1.shape[1],1), dtype='float32')\n",
        "x_n_1 = Bidirectional(LSTM(64, return_sequences=True))(input_tensor_n_1)\n",
        "x_n_1 = Dropout(0.2)(x_n_1)\n",
        "x_n_1 = Bidirectional(LSTM(32, return_sequences=False))(x_n_1)\n",
        "x_n_1 = Dropout(0.2)(x_n_1)\n",
        "\n",
        "combined = Concatenate()([x_c, x_n_0, x_n_1])\n",
        "\n",
        "mix2= Dense(256)(combined)\n",
        "mix2 = Dense(128)(mix2)\n",
        "mix2 = Dense(64)(mix2)\n",
        "mix2 = Dense(32)(mix2)\n",
        "mix2 = Dense(16)(mix2)\n",
        "mix2 = Dense(8)(mix2)\n",
        "mix2 = Dense(4)(mix2)\n",
        "\n",
        "out1 = Dense(1)(mix2)\n",
        "\n",
        "\n",
        "regressor = Model(inputs=[input_tensor_c,input_tensor_n_0,input_tensor_n_1],outputs=[out1])"
      ],
      "execution_count": 43,
      "outputs": []
    },
    {
      "cell_type": "code",
      "metadata": {
        "colab": {
          "base_uri": "https://localhost:8080/"
        },
        "id": "U5V3B_1S1F5s",
        "outputId": "6fabc332-0dbe-4f19-ca88-c19fc7b9e6bc"
      },
      "source": [
        "regressor.compile(optimizer = \"rmsprop\", loss = 'mean_squared_error')\n",
        "regressor.summary()"
      ],
      "execution_count": 44,
      "outputs": [
        {
          "output_type": "stream",
          "text": [
            "Model: \"model_1\"\n",
            "__________________________________________________________________________________________________\n",
            "Layer (type)                    Output Shape         Param #     Connected to                     \n",
            "==================================================================================================\n",
            "input_4 (InputLayer)            [(None, 50, 1)]      0                                            \n",
            "__________________________________________________________________________________________________\n",
            "bidirectional_7 (Bidirectional) (None, 50, 256)      133120      input_4[0][0]                    \n",
            "__________________________________________________________________________________________________\n",
            "dropout_7 (Dropout)             (None, 50, 256)      0           bidirectional_7[0][0]            \n",
            "__________________________________________________________________________________________________\n",
            "input_5 (InputLayer)            [(None, 50, 1)]      0                                            \n",
            "__________________________________________________________________________________________________\n",
            "input_6 (InputLayer)            [(None, 50, 1)]      0                                            \n",
            "__________________________________________________________________________________________________\n",
            "bidirectional_8 (Bidirectional) (None, 50, 128)      164352      dropout_7[0][0]                  \n",
            "__________________________________________________________________________________________________\n",
            "bidirectional_10 (Bidirectional (None, 50, 128)      33792       input_5[0][0]                    \n",
            "__________________________________________________________________________________________________\n",
            "bidirectional_12 (Bidirectional (None, 50, 128)      33792       input_6[0][0]                    \n",
            "__________________________________________________________________________________________________\n",
            "dropout_8 (Dropout)             (None, 50, 128)      0           bidirectional_8[0][0]            \n",
            "__________________________________________________________________________________________________\n",
            "dropout_10 (Dropout)            (None, 50, 128)      0           bidirectional_10[0][0]           \n",
            "__________________________________________________________________________________________________\n",
            "dropout_12 (Dropout)            (None, 50, 128)      0           bidirectional_12[0][0]           \n",
            "__________________________________________________________________________________________________\n",
            "bidirectional_9 (Bidirectional) (None, 64)           41216       dropout_8[0][0]                  \n",
            "__________________________________________________________________________________________________\n",
            "bidirectional_11 (Bidirectional (None, 64)           41216       dropout_10[0][0]                 \n",
            "__________________________________________________________________________________________________\n",
            "bidirectional_13 (Bidirectional (None, 64)           41216       dropout_12[0][0]                 \n",
            "__________________________________________________________________________________________________\n",
            "dropout_9 (Dropout)             (None, 64)           0           bidirectional_9[0][0]            \n",
            "__________________________________________________________________________________________________\n",
            "dropout_11 (Dropout)            (None, 64)           0           bidirectional_11[0][0]           \n",
            "__________________________________________________________________________________________________\n",
            "dropout_13 (Dropout)            (None, 64)           0           bidirectional_13[0][0]           \n",
            "__________________________________________________________________________________________________\n",
            "concatenate_1 (Concatenate)     (None, 192)          0           dropout_9[0][0]                  \n",
            "                                                                 dropout_11[0][0]                 \n",
            "                                                                 dropout_13[0][0]                 \n",
            "__________________________________________________________________________________________________\n",
            "dense_8 (Dense)                 (None, 256)          49408       concatenate_1[0][0]              \n",
            "__________________________________________________________________________________________________\n",
            "dense_9 (Dense)                 (None, 128)          32896       dense_8[0][0]                    \n",
            "__________________________________________________________________________________________________\n",
            "dense_10 (Dense)                (None, 64)           8256        dense_9[0][0]                    \n",
            "__________________________________________________________________________________________________\n",
            "dense_11 (Dense)                (None, 32)           2080        dense_10[0][0]                   \n",
            "__________________________________________________________________________________________________\n",
            "dense_12 (Dense)                (None, 16)           528         dense_11[0][0]                   \n",
            "__________________________________________________________________________________________________\n",
            "dense_13 (Dense)                (None, 8)            136         dense_12[0][0]                   \n",
            "__________________________________________________________________________________________________\n",
            "dense_14 (Dense)                (None, 4)            36          dense_13[0][0]                   \n",
            "__________________________________________________________________________________________________\n",
            "dense_15 (Dense)                (None, 1)            5           dense_14[0][0]                   \n",
            "==================================================================================================\n",
            "Total params: 582,049\n",
            "Trainable params: 582,049\n",
            "Non-trainable params: 0\n",
            "__________________________________________________________________________________________________\n"
          ],
          "name": "stdout"
        }
      ]
    },
    {
      "cell_type": "code",
      "metadata": {
        "colab": {
          "base_uri": "https://localhost:8080/"
        },
        "id": "qwmZZnZW1F5s",
        "outputId": "453d2b3c-7285-40a5-91de-de7fdd91d239"
      },
      "source": [
        "regressor.fit([x_train_price, x_train_0, x_train_1], [y_train_price], epochs = 100, batch_size = 8)\n",
        "# regressor.save(\"/content/drive/MyDrive/news-stock-no-headlines.h5\")"
      ],
      "execution_count": 45,
      "outputs": [
        {
          "output_type": "stream",
          "text": [
            "Epoch 1/100\n",
            "194/194 [==============================] - 27s 52ms/step - loss: 0.1854\n",
            "Epoch 2/100\n",
            "194/194 [==============================] - 10s 51ms/step - loss: 0.0087\n",
            "Epoch 3/100\n",
            "194/194 [==============================] - 10s 51ms/step - loss: 0.0070\n",
            "Epoch 4/100\n",
            "194/194 [==============================] - 10s 51ms/step - loss: 0.0073\n",
            "Epoch 5/100\n",
            "194/194 [==============================] - 10s 51ms/step - loss: 0.0070\n",
            "Epoch 6/100\n",
            "194/194 [==============================] - 10s 50ms/step - loss: 0.0076\n",
            "Epoch 7/100\n",
            "194/194 [==============================] - 10s 51ms/step - loss: 0.0069\n",
            "Epoch 8/100\n",
            "194/194 [==============================] - 10s 50ms/step - loss: 0.0054\n",
            "Epoch 9/100\n",
            "194/194 [==============================] - 10s 51ms/step - loss: 0.0051\n",
            "Epoch 10/100\n",
            "194/194 [==============================] - 10s 51ms/step - loss: 0.0044\n",
            "Epoch 11/100\n",
            "194/194 [==============================] - 10s 51ms/step - loss: 0.0049\n",
            "Epoch 12/100\n",
            "194/194 [==============================] - 10s 51ms/step - loss: 0.0050\n",
            "Epoch 13/100\n",
            "194/194 [==============================] - 10s 51ms/step - loss: 0.0051\n",
            "Epoch 14/100\n",
            "194/194 [==============================] - 10s 51ms/step - loss: 0.0044\n",
            "Epoch 15/100\n",
            "194/194 [==============================] - 10s 52ms/step - loss: 0.0043\n",
            "Epoch 16/100\n",
            "194/194 [==============================] - 10s 51ms/step - loss: 0.0039\n",
            "Epoch 17/100\n",
            "194/194 [==============================] - 10s 52ms/step - loss: 0.0044\n",
            "Epoch 18/100\n",
            "194/194 [==============================] - 10s 51ms/step - loss: 0.0048\n",
            "Epoch 19/100\n",
            "194/194 [==============================] - 10s 51ms/step - loss: 0.0039\n",
            "Epoch 20/100\n",
            "194/194 [==============================] - 10s 52ms/step - loss: 0.0046\n",
            "Epoch 21/100\n",
            "194/194 [==============================] - 10s 52ms/step - loss: 0.0039\n",
            "Epoch 22/100\n",
            "194/194 [==============================] - 10s 51ms/step - loss: 0.0042\n",
            "Epoch 23/100\n",
            "194/194 [==============================] - 10s 51ms/step - loss: 0.0044\n",
            "Epoch 24/100\n",
            "194/194 [==============================] - 10s 52ms/step - loss: 0.0041\n",
            "Epoch 25/100\n",
            "194/194 [==============================] - 10s 51ms/step - loss: 0.0039\n",
            "Epoch 26/100\n",
            "194/194 [==============================] - 10s 51ms/step - loss: 0.0040\n",
            "Epoch 27/100\n",
            "194/194 [==============================] - 10s 51ms/step - loss: 0.0039\n",
            "Epoch 28/100\n",
            "194/194 [==============================] - 10s 51ms/step - loss: 0.0041\n",
            "Epoch 29/100\n",
            "194/194 [==============================] - 10s 51ms/step - loss: 0.0040\n",
            "Epoch 30/100\n",
            "194/194 [==============================] - 10s 51ms/step - loss: 0.0041\n",
            "Epoch 31/100\n",
            "194/194 [==============================] - 10s 51ms/step - loss: 0.0042\n",
            "Epoch 32/100\n",
            "194/194 [==============================] - 10s 51ms/step - loss: 0.0047\n",
            "Epoch 33/100\n",
            "194/194 [==============================] - 10s 53ms/step - loss: 0.0042\n",
            "Epoch 34/100\n",
            "194/194 [==============================] - 10s 52ms/step - loss: 0.0043\n",
            "Epoch 35/100\n",
            "194/194 [==============================] - 10s 52ms/step - loss: 0.0037\n",
            "Epoch 36/100\n",
            "194/194 [==============================] - 10s 51ms/step - loss: 0.0033\n",
            "Epoch 37/100\n",
            "194/194 [==============================] - 10s 51ms/step - loss: 0.0038\n",
            "Epoch 38/100\n",
            "194/194 [==============================] - 10s 51ms/step - loss: 0.0039\n",
            "Epoch 39/100\n",
            "194/194 [==============================] - 10s 51ms/step - loss: 0.0039\n",
            "Epoch 40/100\n",
            "194/194 [==============================] - 10s 51ms/step - loss: 0.0038\n",
            "Epoch 41/100\n",
            "194/194 [==============================] - 10s 51ms/step - loss: 0.0036\n",
            "Epoch 42/100\n",
            "194/194 [==============================] - 10s 51ms/step - loss: 0.0038\n",
            "Epoch 43/100\n",
            "194/194 [==============================] - 10s 51ms/step - loss: 0.0037\n",
            "Epoch 44/100\n",
            "194/194 [==============================] - 10s 51ms/step - loss: 0.0036\n",
            "Epoch 45/100\n",
            "194/194 [==============================] - 10s 50ms/step - loss: 0.0039\n",
            "Epoch 46/100\n",
            "194/194 [==============================] - 10s 51ms/step - loss: 0.0035\n",
            "Epoch 47/100\n",
            "194/194 [==============================] - 10s 50ms/step - loss: 0.0037\n",
            "Epoch 48/100\n",
            "194/194 [==============================] - 10s 49ms/step - loss: 0.0034\n",
            "Epoch 49/100\n",
            "194/194 [==============================] - 10s 50ms/step - loss: 0.0042\n",
            "Epoch 50/100\n",
            "194/194 [==============================] - 10s 50ms/step - loss: 0.0038\n",
            "Epoch 51/100\n",
            "194/194 [==============================] - 9s 49ms/step - loss: 0.0038\n",
            "Epoch 52/100\n",
            "194/194 [==============================] - 10s 49ms/step - loss: 0.0047\n",
            "Epoch 53/100\n",
            "194/194 [==============================] - 10s 50ms/step - loss: 0.0036\n",
            "Epoch 54/100\n",
            "194/194 [==============================] - 10s 52ms/step - loss: 0.0038\n",
            "Epoch 55/100\n",
            "194/194 [==============================] - 10s 51ms/step - loss: 0.0035\n",
            "Epoch 56/100\n",
            "194/194 [==============================] - 10s 51ms/step - loss: 0.0034\n",
            "Epoch 57/100\n",
            "194/194 [==============================] - 10s 51ms/step - loss: 0.0035\n",
            "Epoch 58/100\n",
            "194/194 [==============================] - 10s 51ms/step - loss: 0.0038\n",
            "Epoch 59/100\n",
            "194/194 [==============================] - 10s 51ms/step - loss: 0.0041\n",
            "Epoch 60/100\n",
            "194/194 [==============================] - 10s 51ms/step - loss: 0.0036\n",
            "Epoch 61/100\n",
            "194/194 [==============================] - 10s 51ms/step - loss: 0.0040\n",
            "Epoch 62/100\n",
            "194/194 [==============================] - 10s 52ms/step - loss: 0.0032\n",
            "Epoch 63/100\n",
            "194/194 [==============================] - 10s 51ms/step - loss: 0.0033\n",
            "Epoch 64/100\n",
            "194/194 [==============================] - 10s 52ms/step - loss: 0.0039\n",
            "Epoch 65/100\n",
            "194/194 [==============================] - 10s 51ms/step - loss: 0.0038\n",
            "Epoch 66/100\n",
            "194/194 [==============================] - 10s 51ms/step - loss: 0.0038\n",
            "Epoch 67/100\n",
            "194/194 [==============================] - 10s 51ms/step - loss: 0.0037\n",
            "Epoch 68/100\n",
            "194/194 [==============================] - 10s 51ms/step - loss: 0.0034\n",
            "Epoch 69/100\n",
            "194/194 [==============================] - 10s 51ms/step - loss: 0.0037\n",
            "Epoch 70/100\n",
            "194/194 [==============================] - 10s 52ms/step - loss: 0.0038\n",
            "Epoch 71/100\n",
            "194/194 [==============================] - 10s 51ms/step - loss: 0.0036\n",
            "Epoch 72/100\n",
            "194/194 [==============================] - 10s 50ms/step - loss: 0.0035\n",
            "Epoch 73/100\n",
            "194/194 [==============================] - 10s 51ms/step - loss: 0.0035\n",
            "Epoch 74/100\n",
            "194/194 [==============================] - 10s 51ms/step - loss: 0.0034\n",
            "Epoch 75/100\n",
            "194/194 [==============================] - 10s 51ms/step - loss: 0.0033\n",
            "Epoch 76/100\n",
            "194/194 [==============================] - 10s 51ms/step - loss: 0.0034\n",
            "Epoch 77/100\n",
            "194/194 [==============================] - 10s 51ms/step - loss: 0.0036\n",
            "Epoch 78/100\n",
            "194/194 [==============================] - 10s 51ms/step - loss: 0.0037\n",
            "Epoch 79/100\n",
            "194/194 [==============================] - 10s 51ms/step - loss: 0.0037\n",
            "Epoch 80/100\n",
            "194/194 [==============================] - 10s 52ms/step - loss: 0.0038\n",
            "Epoch 81/100\n",
            "194/194 [==============================] - 10s 50ms/step - loss: 0.0037\n",
            "Epoch 82/100\n",
            "194/194 [==============================] - 10s 51ms/step - loss: 0.0037\n",
            "Epoch 83/100\n",
            "194/194 [==============================] - 10s 51ms/step - loss: 0.0037\n",
            "Epoch 84/100\n",
            "194/194 [==============================] - 10s 52ms/step - loss: 0.0037\n",
            "Epoch 85/100\n",
            "194/194 [==============================] - 10s 51ms/step - loss: 0.0032\n",
            "Epoch 86/100\n",
            "194/194 [==============================] - 10s 52ms/step - loss: 0.0036\n",
            "Epoch 87/100\n",
            "194/194 [==============================] - 10s 53ms/step - loss: 0.0030\n",
            "Epoch 88/100\n",
            "194/194 [==============================] - 10s 52ms/step - loss: 0.0034\n",
            "Epoch 89/100\n",
            "194/194 [==============================] - 10s 52ms/step - loss: 0.0035\n",
            "Epoch 90/100\n",
            "194/194 [==============================] - 10s 53ms/step - loss: 0.0033\n",
            "Epoch 91/100\n",
            "194/194 [==============================] - 10s 52ms/step - loss: 0.0034\n",
            "Epoch 92/100\n",
            "194/194 [==============================] - 10s 52ms/step - loss: 0.0033\n",
            "Epoch 93/100\n",
            "194/194 [==============================] - 10s 52ms/step - loss: 0.0032\n",
            "Epoch 94/100\n",
            "194/194 [==============================] - 10s 52ms/step - loss: 0.0034\n",
            "Epoch 95/100\n",
            "194/194 [==============================] - 10s 51ms/step - loss: 0.0029\n",
            "Epoch 96/100\n",
            "194/194 [==============================] - 10s 51ms/step - loss: 0.0034\n",
            "Epoch 97/100\n",
            "194/194 [==============================] - 10s 52ms/step - loss: 0.0036\n",
            "Epoch 98/100\n",
            "194/194 [==============================] - 10s 51ms/step - loss: 0.0032\n",
            "Epoch 99/100\n",
            "194/194 [==============================] - 10s 51ms/step - loss: 0.0038\n",
            "Epoch 100/100\n",
            "194/194 [==============================] - 10s 52ms/step - loss: 0.0039\n"
          ],
          "name": "stdout"
        },
        {
          "output_type": "execute_result",
          "data": {
            "text/plain": [
              "<tensorflow.python.keras.callbacks.History at 0x7f21581e8950>"
            ]
          },
          "metadata": {
            "tags": []
          },
          "execution_count": 45
        }
      ]
    },
    {
      "cell_type": "code",
      "metadata": {
        "colab": {
          "base_uri": "https://localhost:8080/",
          "height": 295
        },
        "id": "o5O9JMZP1F5s",
        "outputId": "187721c3-4474-4ce0-a470-0272b3ded223"
      },
      "source": [
        "from sklearn.metrics.regression import mean_squared_error\n",
        "y_predict = regressor.predict([x_test_price, x_test_0, x_test_1])\n",
        "y_real = scaler.inverse_transform(y_test_price.reshape(-1, 1)).flatten()\n",
        "y_predict = scaler.inverse_transform(y_predict.reshape(-1, 1)).flatten()\n",
        "plt.figure(1)\n",
        "plt.plot(y_real, label='real')\n",
        "plt.plot(y_predict, label='prediction')\n",
        "plt.xlabel('MSE Error: {}'.format(mean_squared_error(y_real[:-1], y_predict[:-1])))\n",
        "plt.legend()\n",
        "plt.title('Prediction result')\n",
        "plt.show()"
      ],
      "execution_count": 46,
      "outputs": [
        {
          "output_type": "display_data",
          "data": {
            "image/png": "[encoded data removed]",
            "text/plain": [
              "<Figure size 432x288 with 1 Axes>"
            ]
          },
          "metadata": {
            "tags": [],
            "needs_background": "light"
          }
        }
      ]
    },
    {
      "cell_type": "code",
      "metadata": {
        "id": "O8vmoIzn1F5t"
      },
      "source": [
        "regressor.save(\"/content/drive/MyDrive/news-stock-rate-20-headlines.h5\")"
      ],
      "execution_count": 47,
      "outputs": []
    },
    {
      "cell_type": "code",
      "metadata": {
        "id": "BZJL1A3H5qI9"
      },
      "source": [
        "from keras.models import load_model\n",
        "regressor = load_model(\"/content/drive/MyDrive/news-stock-rate-20-headlines.h5\")\n",
        "y_predict = regressor.predict([x_test_price, x_test_0, x_test_1])\n",
        "y_real = scaler.inverse_transform(y_test_price.reshape(-1, 1)).flatten()\n",
        "y_predict = scaler.inverse_transform(y_predict.reshape(-1, 1)).flatten()"
      ],
      "execution_count": 29,
      "outputs": []
    },
    {
      "cell_type": "code",
      "metadata": {
        "colab": {
          "base_uri": "https://localhost:8080/"
        },
        "id": "EHBT-IPw5qI_",
        "outputId": "46ea0701-222f-433f-9560-419811d22e0f"
      },
      "source": [
        "from sklearn.metrics import mean_absolute_error\n",
        "print(mean_absolute_error(y_real[:-1], y_predict[:-1]))\n",
        "from sklearn.metrics import r2_score\n",
        "print(r2_score(y_real, y_predict))"
      ],
      "execution_count": 31,
      "outputs": [
        {
          "output_type": "stream",
          "text": [
            "452.8445008152215\n",
            "-7.798560544182278\n"
          ],
          "name": "stdout"
        }
      ]
    },
    {
      "cell_type": "code",
      "metadata": {
        "id": "unwei6eKNNYi"
      },
      "source": [
        ""
      ],
      "execution_count": null,
      "outputs": []
    },
    {
      "cell_type": "code",
      "metadata": {
        "id": "gD9VGML-NNd7"
      },
      "source": [
        "\n",
        "headlines = []\n",
        "for row in range(0, len(data.index)):\n",
        "    headlines.append(' '.join(str(x) for x in data.iloc[row, 0:15]))"
      ],
      "execution_count": 32,
      "outputs": []
    },
    {
      "cell_type": "code",
      "metadata": {
        "id": "zJQU8pdNNNd7"
      },
      "source": [
        "# implememt BAG OF WORDS\n",
        "tfidfVector = TfidfVectorizer(ngram_range=(2,2))\n",
        "#ngram(2,2) means it will combine the 2 words together and assign the value\n",
        "\n",
        "trainDataset = tfidfVector.fit_transform(headlines)"
      ],
      "execution_count": 33,
      "outputs": []
    },
    {
      "cell_type": "code",
      "metadata": {
        "colab": {
          "base_uri": "https://localhost:8080/"
        },
        "id": "mNhtiEXUNNd7",
        "outputId": "1a5f7e95-c920-4161-cae9-8e4b8ea29c28"
      },
      "source": [
        "randomClassifier = RandomForestClassifier(n_estimators=200, criterion='entropy')\n",
        "randomClassifier.fit(trainDataset, train['Label'])"
      ],
      "execution_count": 34,
      "outputs": [
        {
          "output_type": "execute_result",
          "data": {
            "text/plain": [
              "RandomForestClassifier(bootstrap=True, ccp_alpha=0.0, class_weight=None,\n",
              "                       criterion='entropy', max_depth=None, max_features='auto',\n",
              "                       max_leaf_nodes=None, max_samples=None,\n",
              "                       min_impurity_decrease=0.0, min_impurity_split=None,\n",
              "                       min_samples_leaf=1, min_samples_split=2,\n",
              "                       min_weight_fraction_leaf=0.0, n_estimators=200,\n",
              "                       n_jobs=None, oob_score=False, random_state=None,\n",
              "                       verbose=0, warm_start=False)"
            ]
          },
          "metadata": {
            "tags": []
          },
          "execution_count": 34
        }
      ]
    },
    {
      "cell_type": "code",
      "metadata": {
        "id": "biihttLPNNd8"
      },
      "source": [
        "testTransform =[]\n",
        "for row in range(0, len(df.index)):\n",
        "    testTransform.append(' '.join(str(x)[1:] for x in df.iloc[row, 2:17]))\n",
        "    \n",
        "test_dataset = tfidfVector.transform(testTransform)"
      ],
      "execution_count": 35,
      "outputs": []
    },
    {
      "cell_type": "code",
      "metadata": {
        "colab": {
          "base_uri": "https://localhost:8080/"
        },
        "id": "8oqE3YISNNd8",
        "outputId": "323dfd79-5b32-4e0f-b924-ccdd0d1745b9"
      },
      "source": [
        "pred_0 = []\n",
        "pred_1 = []\n",
        "predictions = randomClassifier.predict_proba(test_dataset)\n",
        "print(len(predictions))\n",
        "for i in predictions:\n",
        "  pred_0.append(i[0])\n",
        "  pred_1.append(i[1])"
      ],
      "execution_count": 36,
      "outputs": [
        {
          "output_type": "stream",
          "text": [
            "1989\n"
          ],
          "name": "stdout"
        }
      ]
    },
    {
      "cell_type": "code",
      "metadata": {
        "colab": {
          "base_uri": "https://localhost:8080/"
        },
        "id": "i_ftYeTSNNd8",
        "outputId": "c32fdc2a-a266-4b8f-c023-17356f9db984"
      },
      "source": [
        "print(len(pred_0))\n",
        "print(len(pred_1))"
      ],
      "execution_count": 37,
      "outputs": [
        {
          "output_type": "stream",
          "text": [
            "1989\n",
            "1989\n"
          ],
          "name": "stdout"
        }
      ]
    },
    {
      "cell_type": "code",
      "metadata": {
        "colab": {
          "base_uri": "https://localhost:8080/"
        },
        "id": "Jal-cTYKNNd9",
        "outputId": "bfaee4c3-42cd-4264-981b-dd36f227bba8"
      },
      "source": [
        "from sklearn.preprocessing import MinMaxScaler\n",
        "input_length = 50\n",
        "output_length = 1\n",
        "test_percentage = 0.2\n",
        "# dataset = dj['Close'].to_numpy()\n",
        "\n",
        "# scaler = MinMaxScaler()\n",
        "# dataset_norm = scaler.fit_transform(dataset.reshape(-1, 1)).flatten()\n",
        "dataset_list_0 = []\n",
        "dataset_list_1 = []\n",
        "for i in range(len(pred_0) - input_length - output_length):\n",
        "    dataset_list_0.append(pred_0[i:i + input_length + output_length])\n",
        "    dataset_list_1.append(pred_1[i:i + input_length + output_length])\n",
        "dataset_list_0 = np.array(dataset_list_0)\n",
        "dataset_list_1 = np.array(dataset_list_1)\n",
        "trainset_0 = dataset_list_0[:int(len(dataset_list_0) * (1 - test_percentage))]\n",
        "testset_0 = dataset_list_0[int(len(dataset_list_0) * (1 - test_percentage)):]\n",
        "\n",
        "trainset_1 = dataset_list_1[:int(len(dataset_list_1) * (1 - test_percentage))]\n",
        "testset_1 = dataset_list_1[int(len(dataset_list_1) * (1 - test_percentage)):]\n",
        "\n",
        "x_train_0 = trainset_0[:, :-1]\n",
        "x_test_0 = testset_0[:, :-1]\n",
        "\n",
        "x_train_1 = trainset_1[:, :-1]\n",
        "x_test_1 = testset_1[:, :-1]\n",
        "\n",
        "print('x_train.shape:' + str(x_train_0.shape))\n",
        "print('x_test.shape:' + str(x_test_0.shape))"
      ],
      "execution_count": 38,
      "outputs": [
        {
          "output_type": "stream",
          "text": [
            "x_train.shape:(1550, 50)\n",
            "x_test.shape:(388, 50)\n"
          ],
          "name": "stdout"
        }
      ]
    },
    {
      "cell_type": "code",
      "metadata": {
        "id": "rHMe-V2sNNd9"
      },
      "source": [
        "input_tensor_c = Input(shape=( x_train_price.shape[1],1), dtype='float32')\n",
        "x_c = Bidirectional(LSTM(128, return_sequences=True))(input_tensor_c)\n",
        "x_c = Dropout(0.2)(x_c)\n",
        "x_c = Bidirectional(LSTM(64, return_sequences=True))(x_c)\n",
        "x_c = Dropout(0.2)(x_c)\n",
        "x_c = Bidirectional(LSTM(32, return_sequences=False))(x_c)\n",
        "x_c = Dropout(0.2)(x_c)\n",
        "\n",
        "input_tensor_n_0 = Input(shape=( x_train_0.shape[1],1), dtype='float32')\n",
        "x_n_0 = Bidirectional(LSTM(64, return_sequences=True))(input_tensor_n_0)\n",
        "x_n_0 = Dropout(0.2)(x_n_0)\n",
        "x_n_0 = Bidirectional(LSTM(32, return_sequences=False))(x_n_0)\n",
        "x_n_0 = Dropout(0.2)(x_n_0)\n",
        "\n",
        "\n",
        "input_tensor_n_1 = Input(shape=( x_train_1.shape[1],1), dtype='float32')\n",
        "x_n_1 = Bidirectional(LSTM(64, return_sequences=True))(input_tensor_n_1)\n",
        "x_n_1 = Dropout(0.2)(x_n_1)\n",
        "x_n_1 = Bidirectional(LSTM(32, return_sequences=False))(x_n_1)\n",
        "x_n_1 = Dropout(0.2)(x_n_1)\n",
        "\n",
        "combined = Concatenate()([x_c, x_n_0, x_n_1])\n",
        "\n",
        "mix2= Dense(256)(combined)\n",
        "mix2 = Dense(128)(mix2)\n",
        "mix2 = Dense(64)(mix2)\n",
        "mix2 = Dense(32)(mix2)\n",
        "mix2 = Dense(16)(mix2)\n",
        "mix2 = Dense(8)(mix2)\n",
        "mix2 = Dense(4)(mix2)\n",
        "\n",
        "out1 = Dense(1)(mix2)\n",
        "\n",
        "\n",
        "regressor = Model(inputs=[input_tensor_c,input_tensor_n_0,input_tensor_n_1],outputs=[out1])"
      ],
      "execution_count": 55,
      "outputs": []
    },
    {
      "cell_type": "code",
      "metadata": {
        "colab": {
          "base_uri": "https://localhost:8080/"
        },
        "id": "qfBIgkxsNNd9",
        "outputId": "25c03f87-0501-4aff-ead1-8a8f68e29171"
      },
      "source": [
        "regressor.compile(optimizer = \"rmsprop\", loss = 'mean_squared_error')\n",
        "regressor.summary()"
      ],
      "execution_count": 56,
      "outputs": [
        {
          "output_type": "stream",
          "text": [
            "Model: \"model_2\"\n",
            "__________________________________________________________________________________________________\n",
            "Layer (type)                    Output Shape         Param #     Connected to                     \n",
            "==================================================================================================\n",
            "input_7 (InputLayer)            [(None, 50, 1)]      0                                            \n",
            "__________________________________________________________________________________________________\n",
            "bidirectional_14 (Bidirectional (None, 50, 256)      133120      input_7[0][0]                    \n",
            "__________________________________________________________________________________________________\n",
            "dropout_14 (Dropout)            (None, 50, 256)      0           bidirectional_14[0][0]           \n",
            "__________________________________________________________________________________________________\n",
            "input_8 (InputLayer)            [(None, 50, 1)]      0                                            \n",
            "__________________________________________________________________________________________________\n",
            "input_9 (InputLayer)            [(None, 50, 1)]      0                                            \n",
            "__________________________________________________________________________________________________\n",
            "bidirectional_15 (Bidirectional (None, 50, 128)      164352      dropout_14[0][0]                 \n",
            "__________________________________________________________________________________________________\n",
            "bidirectional_17 (Bidirectional (None, 50, 128)      33792       input_8[0][0]                    \n",
            "__________________________________________________________________________________________________\n",
            "bidirectional_19 (Bidirectional (None, 50, 128)      33792       input_9[0][0]                    \n",
            "__________________________________________________________________________________________________\n",
            "dropout_15 (Dropout)            (None, 50, 128)      0           bidirectional_15[0][0]           \n",
            "__________________________________________________________________________________________________\n",
            "dropout_17 (Dropout)            (None, 50, 128)      0           bidirectional_17[0][0]           \n",
            "__________________________________________________________________________________________________\n",
            "dropout_19 (Dropout)            (None, 50, 128)      0           bidirectional_19[0][0]           \n",
            "__________________________________________________________________________________________________\n",
            "bidirectional_16 (Bidirectional (None, 64)           41216       dropout_15[0][0]                 \n",
            "__________________________________________________________________________________________________\n",
            "bidirectional_18 (Bidirectional (None, 64)           41216       dropout_17[0][0]                 \n",
            "__________________________________________________________________________________________________\n",
            "bidirectional_20 (Bidirectional (None, 64)           41216       dropout_19[0][0]                 \n",
            "__________________________________________________________________________________________________\n",
            "dropout_16 (Dropout)            (None, 64)           0           bidirectional_16[0][0]           \n",
            "__________________________________________________________________________________________________\n",
            "dropout_18 (Dropout)            (None, 64)           0           bidirectional_18[0][0]           \n",
            "__________________________________________________________________________________________________\n",
            "dropout_20 (Dropout)            (None, 64)           0           bidirectional_20[0][0]           \n",
            "__________________________________________________________________________________________________\n",
            "concatenate_2 (Concatenate)     (None, 192)          0           dropout_16[0][0]                 \n",
            "                                                                 dropout_18[0][0]                 \n",
            "                                                                 dropout_20[0][0]                 \n",
            "__________________________________________________________________________________________________\n",
            "dense_16 (Dense)                (None, 256)          49408       concatenate_2[0][0]              \n",
            "__________________________________________________________________________________________________\n",
            "dense_17 (Dense)                (None, 128)          32896       dense_16[0][0]                   \n",
            "__________________________________________________________________________________________________\n",
            "dense_18 (Dense)                (None, 64)           8256        dense_17[0][0]                   \n",
            "__________________________________________________________________________________________________\n",
            "dense_19 (Dense)                (None, 32)           2080        dense_18[0][0]                   \n",
            "__________________________________________________________________________________________________\n",
            "dense_20 (Dense)                (None, 16)           528         dense_19[0][0]                   \n",
            "__________________________________________________________________________________________________\n",
            "dense_21 (Dense)                (None, 8)            136         dense_20[0][0]                   \n",
            "__________________________________________________________________________________________________\n",
            "dense_22 (Dense)                (None, 4)            36          dense_21[0][0]                   \n",
            "__________________________________________________________________________________________________\n",
            "dense_23 (Dense)                (None, 1)            5           dense_22[0][0]                   \n",
            "==================================================================================================\n",
            "Total params: 582,049\n",
            "Trainable params: 582,049\n",
            "Non-trainable params: 0\n",
            "__________________________________________________________________________________________________\n"
          ],
          "name": "stdout"
        }
      ]
    },
    {
      "cell_type": "code",
      "metadata": {
        "colab": {
          "base_uri": "https://localhost:8080/"
        },
        "id": "WvTEKhxaNNd9",
        "outputId": "5025235c-fa33-43d1-be8c-7265fe1bc947"
      },
      "source": [
        "regressor.fit([x_train_price, x_train_0, x_train_1], [y_train_price], epochs = 100, batch_size = 8)\n",
        "# regressor.save(\"/content/drive/MyDrive/news-stock-no-headlines.h5\")"
      ],
      "execution_count": 57,
      "outputs": [
        {
          "output_type": "stream",
          "text": [
            "Epoch 1/100\n",
            "194/194 [==============================] - 26s 50ms/step - loss: 0.2255\n",
            "Epoch 2/100\n",
            "194/194 [==============================] - 10s 51ms/step - loss: 0.0085\n",
            "Epoch 3/100\n",
            "194/194 [==============================] - 10s 51ms/step - loss: 0.0070\n",
            "Epoch 4/100\n",
            "194/194 [==============================] - 10s 50ms/step - loss: 0.0073\n",
            "Epoch 5/100\n",
            "194/194 [==============================] - 10s 50ms/step - loss: 0.0067\n",
            "Epoch 6/100\n",
            "194/194 [==============================] - 10s 51ms/step - loss: 0.0064\n",
            "Epoch 7/100\n",
            "194/194 [==============================] - 10s 50ms/step - loss: 0.0067\n",
            "Epoch 8/100\n",
            "194/194 [==============================] - 10s 49ms/step - loss: 0.0067\n",
            "Epoch 9/100\n",
            "194/194 [==============================] - 9s 49ms/step - loss: 0.0071\n",
            "Epoch 10/100\n",
            "194/194 [==============================] - 10s 49ms/step - loss: 0.0066\n",
            "Epoch 11/100\n",
            "194/194 [==============================] - 10s 49ms/step - loss: 0.0056\n",
            "Epoch 12/100\n",
            "194/194 [==============================] - 9s 49ms/step - loss: 0.0054\n",
            "Epoch 13/100\n",
            "194/194 [==============================] - 10s 51ms/step - loss: 0.0052\n",
            "Epoch 14/100\n",
            "194/194 [==============================] - 10s 49ms/step - loss: 0.0043\n",
            "Epoch 15/100\n",
            "194/194 [==============================] - 10s 50ms/step - loss: 0.0042\n",
            "Epoch 16/100\n",
            "194/194 [==============================] - 10s 51ms/step - loss: 0.0044\n",
            "Epoch 17/100\n",
            "194/194 [==============================] - 10s 50ms/step - loss: 0.0045\n",
            "Epoch 18/100\n",
            "194/194 [==============================] - 10s 50ms/step - loss: 0.0043\n",
            "Epoch 19/100\n",
            "194/194 [==============================] - 10s 50ms/step - loss: 0.0043\n",
            "Epoch 20/100\n",
            "194/194 [==============================] - 10s 50ms/step - loss: 0.0042\n",
            "Epoch 21/100\n",
            "194/194 [==============================] - 10s 50ms/step - loss: 0.0041\n",
            "Epoch 22/100\n",
            "194/194 [==============================] - 10s 50ms/step - loss: 0.0040\n",
            "Epoch 23/100\n",
            "194/194 [==============================] - 10s 51ms/step - loss: 0.0045\n",
            "Epoch 24/100\n",
            "194/194 [==============================] - 10s 50ms/step - loss: 0.0040\n",
            "Epoch 25/100\n",
            "194/194 [==============================] - 10s 50ms/step - loss: 0.0040\n",
            "Epoch 26/100\n",
            "194/194 [==============================] - 10s 50ms/step - loss: 0.0039\n",
            "Epoch 27/100\n",
            "194/194 [==============================] - 10s 51ms/step - loss: 0.0041\n",
            "Epoch 28/100\n",
            "194/194 [==============================] - 10s 50ms/step - loss: 0.0044\n",
            "Epoch 29/100\n",
            "194/194 [==============================] - 10s 51ms/step - loss: 0.0040\n",
            "Epoch 30/100\n",
            "194/194 [==============================] - 10s 51ms/step - loss: 0.0043\n",
            "Epoch 31/100\n",
            "194/194 [==============================] - 10s 51ms/step - loss: 0.0039\n",
            "Epoch 32/100\n",
            "194/194 [==============================] - 10s 50ms/step - loss: 0.0039\n",
            "Epoch 33/100\n",
            "194/194 [==============================] - 10s 52ms/step - loss: 0.0039\n",
            "Epoch 34/100\n",
            "194/194 [==============================] - 10s 52ms/step - loss: 0.0042\n",
            "Epoch 35/100\n",
            "194/194 [==============================] - 10s 52ms/step - loss: 0.0034\n",
            "Epoch 36/100\n",
            "194/194 [==============================] - 10s 51ms/step - loss: 0.0042\n",
            "Epoch 37/100\n",
            "194/194 [==============================] - 10s 52ms/step - loss: 0.0035\n",
            "Epoch 38/100\n",
            "194/194 [==============================] - 10s 51ms/step - loss: 0.0037\n",
            "Epoch 39/100\n",
            "194/194 [==============================] - 10s 51ms/step - loss: 0.0041\n",
            "Epoch 40/100\n",
            "194/194 [==============================] - 10s 52ms/step - loss: 0.0037\n",
            "Epoch 41/100\n",
            "194/194 [==============================] - 10s 51ms/step - loss: 0.0039\n",
            "Epoch 42/100\n",
            "194/194 [==============================] - 10s 51ms/step - loss: 0.0039\n",
            "Epoch 43/100\n",
            "194/194 [==============================] - 10s 51ms/step - loss: 0.0042\n",
            "Epoch 44/100\n",
            "194/194 [==============================] - 10s 50ms/step - loss: 0.0037\n",
            "Epoch 45/100\n",
            "194/194 [==============================] - 10s 50ms/step - loss: 0.0041\n",
            "Epoch 46/100\n",
            "194/194 [==============================] - 10s 51ms/step - loss: 0.0036\n",
            "Epoch 47/100\n",
            "194/194 [==============================] - 10s 51ms/step - loss: 0.0037\n",
            "Epoch 48/100\n",
            "194/194 [==============================] - 10s 50ms/step - loss: 0.0039\n",
            "Epoch 49/100\n",
            "194/194 [==============================] - 10s 50ms/step - loss: 0.0036\n",
            "Epoch 50/100\n",
            "194/194 [==============================] - 10s 52ms/step - loss: 0.0037\n",
            "Epoch 51/100\n",
            "194/194 [==============================] - 10s 50ms/step - loss: 0.0040\n",
            "Epoch 52/100\n",
            "194/194 [==============================] - 10s 51ms/step - loss: 0.0036\n",
            "Epoch 53/100\n",
            "194/194 [==============================] - 10s 51ms/step - loss: 0.0034\n",
            "Epoch 54/100\n",
            "194/194 [==============================] - 10s 50ms/step - loss: 0.0035\n",
            "Epoch 55/100\n",
            "194/194 [==============================] - 10s 51ms/step - loss: 0.0040\n",
            "Epoch 56/100\n",
            "194/194 [==============================] - 10s 51ms/step - loss: 0.0041\n",
            "Epoch 57/100\n",
            "194/194 [==============================] - 10s 51ms/step - loss: 0.0043\n",
            "Epoch 58/100\n",
            "194/194 [==============================] - 10s 51ms/step - loss: 0.0035\n",
            "Epoch 59/100\n",
            "194/194 [==============================] - 10s 51ms/step - loss: 0.0037\n",
            "Epoch 60/100\n",
            "194/194 [==============================] - 10s 51ms/step - loss: 0.0038\n",
            "Epoch 61/100\n",
            "194/194 [==============================] - 10s 51ms/step - loss: 0.0039\n",
            "Epoch 62/100\n",
            "194/194 [==============================] - 10s 50ms/step - loss: 0.0038\n",
            "Epoch 63/100\n",
            "194/194 [==============================] - 10s 50ms/step - loss: 0.0036\n",
            "Epoch 64/100\n",
            "194/194 [==============================] - 10s 51ms/step - loss: 0.0036\n",
            "Epoch 65/100\n",
            "194/194 [==============================] - 10s 51ms/step - loss: 0.0038\n",
            "Epoch 66/100\n",
            "194/194 [==============================] - 10s 52ms/step - loss: 0.0039\n",
            "Epoch 67/100\n",
            "194/194 [==============================] - 10s 52ms/step - loss: 0.0036\n",
            "Epoch 68/100\n",
            "194/194 [==============================] - 10s 51ms/step - loss: 0.0034\n",
            "Epoch 69/100\n",
            "194/194 [==============================] - 10s 51ms/step - loss: 0.0037\n",
            "Epoch 70/100\n",
            "194/194 [==============================] - 10s 51ms/step - loss: 0.0036\n",
            "Epoch 71/100\n",
            "194/194 [==============================] - 10s 51ms/step - loss: 0.0037\n",
            "Epoch 72/100\n",
            "194/194 [==============================] - 10s 52ms/step - loss: 0.0038\n",
            "Epoch 73/100\n",
            "194/194 [==============================] - 10s 51ms/step - loss: 0.0033\n",
            "Epoch 74/100\n",
            "194/194 [==============================] - 10s 50ms/step - loss: 0.0038\n",
            "Epoch 75/100\n",
            "194/194 [==============================] - 10s 50ms/step - loss: 0.0037\n",
            "Epoch 76/100\n",
            "194/194 [==============================] - 10s 50ms/step - loss: 0.0033\n",
            "Epoch 77/100\n",
            "194/194 [==============================] - 10s 50ms/step - loss: 0.0032\n",
            "Epoch 78/100\n",
            "194/194 [==============================] - 10s 50ms/step - loss: 0.0036\n",
            "Epoch 79/100\n",
            "194/194 [==============================] - 10s 50ms/step - loss: 0.0030\n",
            "Epoch 80/100\n",
            "194/194 [==============================] - 10s 52ms/step - loss: 0.0033\n",
            "Epoch 81/100\n",
            "194/194 [==============================] - 10s 52ms/step - loss: 0.0034\n",
            "Epoch 82/100\n",
            "194/194 [==============================] - 10s 52ms/step - loss: 0.0035\n",
            "Epoch 83/100\n",
            "194/194 [==============================] - 10s 51ms/step - loss: 0.0035\n",
            "Epoch 84/100\n",
            "194/194 [==============================] - 10s 53ms/step - loss: 0.0037\n",
            "Epoch 85/100\n",
            "194/194 [==============================] - 10s 51ms/step - loss: 0.0034\n",
            "Epoch 86/100\n",
            "194/194 [==============================] - 10s 52ms/step - loss: 0.0037\n",
            "Epoch 87/100\n",
            "194/194 [==============================] - 10s 52ms/step - loss: 0.0034\n",
            "Epoch 88/100\n",
            "194/194 [==============================] - 10s 51ms/step - loss: 0.0037\n",
            "Epoch 89/100\n",
            "194/194 [==============================] - 10s 51ms/step - loss: 0.0035\n",
            "Epoch 90/100\n",
            "194/194 [==============================] - 10s 52ms/step - loss: 0.0038\n",
            "Epoch 91/100\n",
            "194/194 [==============================] - 10s 51ms/step - loss: 0.0034\n",
            "Epoch 92/100\n",
            "194/194 [==============================] - 10s 51ms/step - loss: 0.0034\n",
            "Epoch 93/100\n",
            "194/194 [==============================] - 10s 52ms/step - loss: 0.0036\n",
            "Epoch 94/100\n",
            "194/194 [==============================] - 10s 52ms/step - loss: 0.0034\n",
            "Epoch 95/100\n",
            "194/194 [==============================] - 10s 52ms/step - loss: 0.0036\n",
            "Epoch 96/100\n",
            "194/194 [==============================] - 10s 53ms/step - loss: 0.0039\n",
            "Epoch 97/100\n",
            "194/194 [==============================] - 10s 52ms/step - loss: 0.0036\n",
            "Epoch 98/100\n",
            "194/194 [==============================] - 10s 52ms/step - loss: 0.0035\n",
            "Epoch 99/100\n",
            "194/194 [==============================] - 10s 52ms/step - loss: 0.0032\n",
            "Epoch 100/100\n",
            "194/194 [==============================] - 10s 53ms/step - loss: 0.0037\n"
          ],
          "name": "stdout"
        },
        {
          "output_type": "execute_result",
          "data": {
            "text/plain": [
              "<tensorflow.python.keras.callbacks.History at 0x7f21394ecb10>"
            ]
          },
          "metadata": {
            "tags": []
          },
          "execution_count": 57
        }
      ]
    },
    {
      "cell_type": "code",
      "metadata": {
        "id": "UfZfqqGkNNd-",
        "colab": {
          "base_uri": "https://localhost:8080/",
          "height": 295
        },
        "outputId": "039e6070-2e20-4ae5-ed4b-9e4248322058"
      },
      "source": [
        "from sklearn.metrics.regression import mean_squared_error\n",
        "y_predict = regressor.predict([x_test_price, x_test_0, x_test_1])\n",
        "y_real = scaler.inverse_transform(y_test_price.reshape(-1, 1)).flatten()\n",
        "y_predict = scaler.inverse_transform(y_predict.reshape(-1, 1)).flatten()\n",
        "plt.figure(1)\n",
        "plt.plot(y_real, label='real')\n",
        "plt.plot(y_predict, label='prediction')\n",
        "plt.xlabel('MSE Error: {}'.format(mean_squared_error(y_real[:-1], y_predict[:-1])))\n",
        "plt.legend()\n",
        "plt.title('Prediction result')\n",
        "plt.show()"
      ],
      "execution_count": 59,
      "outputs": [
        {
          "output_type": "display_data",
          "data": {
            "image/png": "[encoded data removed]",
            "text/plain": [
              "<Figure size 432x288 with 1 Axes>"
            ]
          },
          "metadata": {
            "tags": [],
            "needs_background": "light"
          }
        }
      ]
    },
    {
      "cell_type": "code",
      "metadata": {
        "id": "TiXNhjvQNNd-"
      },
      "source": [
        "regressor.save(\"/content/drive/MyDrive/news-stock-rate-15-headlines.h5\")"
      ],
      "execution_count": 60,
      "outputs": []
    },
    {
      "cell_type": "code",
      "metadata": {
        "id": "Iy4061Fn6Zmu"
      },
      "source": [
        "from keras.models import load_model\n",
        "regressor = load_model(\"/content/drive/MyDrive/news-stock-rate-15-headlines.h5\")\n",
        "y_predict = regressor.predict([x_test_price, x_test_0, x_test_1])\n",
        "y_real = scaler.inverse_transform(y_test_price.reshape(-1, 1)).flatten()\n",
        "y_predict = scaler.inverse_transform(y_predict.reshape(-1, 1)).flatten()"
      ],
      "execution_count": 39,
      "outputs": []
    },
    {
      "cell_type": "code",
      "metadata": {
        "colab": {
          "base_uri": "https://localhost:8080/"
        },
        "id": "mB9egR996Zmw",
        "outputId": "6a54254a-f6e2-4e85-ac95-7f3995138fa9"
      },
      "source": [
        "from sklearn.metrics import mean_absolute_error\n",
        "print(mean_absolute_error(y_real[:-1], y_predict[:-1]))\n",
        "from sklearn.metrics import r2_score\n",
        "print(r2_score(y_real, y_predict))"
      ],
      "execution_count": 40,
      "outputs": [
        {
          "output_type": "stream",
          "text": [
            "389.8143195800554\n",
            "-5.6763212435371395\n"
          ],
          "name": "stdout"
        }
      ]
    },
    {
      "cell_type": "code",
      "metadata": {
        "id": "k9KoKUODk6dC"
      },
      "source": [
        ""
      ],
      "execution_count": null,
      "outputs": []
    },
    {
      "cell_type": "code",
      "metadata": {
        "id": "zk-qpto0lP0H"
      },
      "source": [
        "\n",
        "headlines = []\n",
        "for row in range(0, len(data.index)):\n",
        "    headlines.append(' '.join(str(x) for x in data.iloc[row, 0:10]))"
      ],
      "execution_count": 41,
      "outputs": []
    },
    {
      "cell_type": "code",
      "metadata": {
        "id": "nXcPVfu2lP0P"
      },
      "source": [
        "# implememt BAG OF WORDS\n",
        "tfidfVector = TfidfVectorizer(ngram_range=(2,2))\n",
        "#ngram(2,2) means it will combine the 2 words together and assign the value\n",
        "\n",
        "trainDataset = tfidfVector.fit_transform(headlines)"
      ],
      "execution_count": 42,
      "outputs": []
    },
    {
      "cell_type": "code",
      "metadata": {
        "colab": {
          "base_uri": "https://localhost:8080/"
        },
        "id": "w3CNtI41lP0P",
        "outputId": "3609c5d5-2efa-4130-f89c-41ba135b0109"
      },
      "source": [
        "randomClassifier = RandomForestClassifier(n_estimators=200, criterion='entropy')\n",
        "randomClassifier.fit(trainDataset, train['Label'])"
      ],
      "execution_count": 43,
      "outputs": [
        {
          "output_type": "execute_result",
          "data": {
            "text/plain": [
              "RandomForestClassifier(bootstrap=True, ccp_alpha=0.0, class_weight=None,\n",
              "                       criterion='entropy', max_depth=None, max_features='auto',\n",
              "                       max_leaf_nodes=None, max_samples=None,\n",
              "                       min_impurity_decrease=0.0, min_impurity_split=None,\n",
              "                       min_samples_leaf=1, min_samples_split=2,\n",
              "                       min_weight_fraction_leaf=0.0, n_estimators=200,\n",
              "                       n_jobs=None, oob_score=False, random_state=None,\n",
              "                       verbose=0, warm_start=False)"
            ]
          },
          "metadata": {
            "tags": []
          },
          "execution_count": 43
        }
      ]
    },
    {
      "cell_type": "code",
      "metadata": {
        "id": "ddT_WK-ulP0Q"
      },
      "source": [
        "testTransform =[]\n",
        "for row in range(0, len(df.index)):\n",
        "    testTransform.append(' '.join(str(x)[1:] for x in df.iloc[row, 2:12]))\n",
        "    \n",
        "test_dataset = tfidfVector.transform(testTransform)"
      ],
      "execution_count": 44,
      "outputs": []
    },
    {
      "cell_type": "code",
      "metadata": {
        "colab": {
          "base_uri": "https://localhost:8080/"
        },
        "id": "ovpwUtJulP0Q",
        "outputId": "1852a9cc-53fc-41c0-8335-89abd79449d3"
      },
      "source": [
        "pred_0 = []\n",
        "pred_1 = []\n",
        "predictions = randomClassifier.predict_proba(test_dataset)\n",
        "print(len(predictions))\n",
        "for i in predictions:\n",
        "  pred_0.append(i[0])\n",
        "  pred_1.append(i[1])"
      ],
      "execution_count": 45,
      "outputs": [
        {
          "output_type": "stream",
          "text": [
            "1989\n"
          ],
          "name": "stdout"
        }
      ]
    },
    {
      "cell_type": "code",
      "metadata": {
        "colab": {
          "base_uri": "https://localhost:8080/"
        },
        "id": "d9sT8dawlP0Q",
        "outputId": "e155a57a-bc51-4dd9-fda4-39b4d24affae"
      },
      "source": [
        "print(len(pred_0))\n",
        "print(len(pred_1))"
      ],
      "execution_count": 46,
      "outputs": [
        {
          "output_type": "stream",
          "text": [
            "1989\n",
            "1989\n"
          ],
          "name": "stdout"
        }
      ]
    },
    {
      "cell_type": "code",
      "metadata": {
        "colab": {
          "base_uri": "https://localhost:8080/"
        },
        "id": "JSa_duUmlP0R",
        "outputId": "29198d91-9668-4f38-aeae-c654a4c35f52"
      },
      "source": [
        "from sklearn.preprocessing import MinMaxScaler\n",
        "input_length = 50\n",
        "output_length = 1\n",
        "test_percentage = 0.2\n",
        "# dataset = dj['Close'].to_numpy()\n",
        "\n",
        "# scaler = MinMaxScaler()\n",
        "# dataset_norm = scaler.fit_transform(dataset.reshape(-1, 1)).flatten()\n",
        "dataset_list_0 = []\n",
        "dataset_list_1 = []\n",
        "for i in range(len(pred_0) - input_length - output_length):\n",
        "    dataset_list_0.append(pred_0[i:i + input_length + output_length])\n",
        "    dataset_list_1.append(pred_1[i:i + input_length + output_length])\n",
        "dataset_list_0 = np.array(dataset_list_0)\n",
        "dataset_list_1 = np.array(dataset_list_1)\n",
        "trainset_0 = dataset_list_0[:int(len(dataset_list_0) * (1 - test_percentage))]\n",
        "testset_0 = dataset_list_0[int(len(dataset_list_0) * (1 - test_percentage)):]\n",
        "\n",
        "trainset_1 = dataset_list_1[:int(len(dataset_list_1) * (1 - test_percentage))]\n",
        "testset_1 = dataset_list_1[int(len(dataset_list_1) * (1 - test_percentage)):]\n",
        "\n",
        "x_train_0 = trainset_0[:, :-1]\n",
        "x_test_0 = testset_0[:, :-1]\n",
        "\n",
        "x_train_1 = trainset_1[:, :-1]\n",
        "x_test_1 = testset_1[:, :-1]\n",
        "\n",
        "print('x_train.shape:' + str(x_train_0.shape))\n",
        "print('x_test.shape:' + str(x_test_0.shape))"
      ],
      "execution_count": 47,
      "outputs": [
        {
          "output_type": "stream",
          "text": [
            "x_train.shape:(1550, 50)\n",
            "x_test.shape:(388, 50)\n"
          ],
          "name": "stdout"
        }
      ]
    },
    {
      "cell_type": "code",
      "metadata": {
        "id": "XupGUVpYlP0R"
      },
      "source": [
        "input_tensor_c = Input(shape=( x_train_price.shape[1],1), dtype='float32')\n",
        "x_c = Bidirectional(LSTM(128, return_sequences=True))(input_tensor_c)\n",
        "x_c = Dropout(0.2)(x_c)\n",
        "x_c = Bidirectional(LSTM(64, return_sequences=True))(x_c)\n",
        "x_c = Dropout(0.2)(x_c)\n",
        "x_c = Bidirectional(LSTM(32, return_sequences=False))(x_c)\n",
        "x_c = Dropout(0.2)(x_c)\n",
        "\n",
        "input_tensor_n_0 = Input(shape=( x_train_0.shape[1],1), dtype='float32')\n",
        "x_n_0 = Bidirectional(LSTM(64, return_sequences=True))(input_tensor_n_0)\n",
        "x_n_0 = Dropout(0.2)(x_n_0)\n",
        "x_n_0 = Bidirectional(LSTM(32, return_sequences=False))(x_n_0)\n",
        "x_n_0 = Dropout(0.2)(x_n_0)\n",
        "\n",
        "\n",
        "input_tensor_n_1 = Input(shape=( x_train_1.shape[1],1), dtype='float32')\n",
        "x_n_1 = Bidirectional(LSTM(64, return_sequences=True))(input_tensor_n_1)\n",
        "x_n_1 = Dropout(0.2)(x_n_1)\n",
        "x_n_1 = Bidirectional(LSTM(32, return_sequences=False))(x_n_1)\n",
        "x_n_1 = Dropout(0.2)(x_n_1)\n",
        "\n",
        "combined = Concatenate()([x_c, x_n_0, x_n_1])\n",
        "\n",
        "mix2= Dense(256)(combined)\n",
        "mix2 = Dense(128)(mix2)\n",
        "mix2 = Dense(64)(mix2)\n",
        "mix2 = Dense(32)(mix2)\n",
        "mix2 = Dense(16)(mix2)\n",
        "mix2 = Dense(8)(mix2)\n",
        "mix2 = Dense(4)(mix2)\n",
        "\n",
        "out1 = Dense(1)(mix2)\n",
        "\n",
        "\n",
        "regressor = Model(inputs=[input_tensor_c,input_tensor_n_0,input_tensor_n_1],outputs=[out1])"
      ],
      "execution_count": 68,
      "outputs": []
    },
    {
      "cell_type": "code",
      "metadata": {
        "colab": {
          "base_uri": "https://localhost:8080/"
        },
        "id": "tw2Bo7LelP0R",
        "outputId": "d5188767-a58a-4309-fc14-dad162c0e17a"
      },
      "source": [
        "regressor.compile(optimizer = \"rmsprop\", loss = 'mean_squared_error')\n",
        "regressor.summary()"
      ],
      "execution_count": 69,
      "outputs": [
        {
          "output_type": "stream",
          "text": [
            "Model: \"model_3\"\n",
            "__________________________________________________________________________________________________\n",
            "Layer (type)                    Output Shape         Param #     Connected to                     \n",
            "==================================================================================================\n",
            "input_10 (InputLayer)           [(None, 50, 1)]      0                                            \n",
            "__________________________________________________________________________________________________\n",
            "bidirectional_21 (Bidirectional (None, 50, 256)      133120      input_10[0][0]                   \n",
            "__________________________________________________________________________________________________\n",
            "dropout_21 (Dropout)            (None, 50, 256)      0           bidirectional_21[0][0]           \n",
            "__________________________________________________________________________________________________\n",
            "input_11 (InputLayer)           [(None, 50, 1)]      0                                            \n",
            "__________________________________________________________________________________________________\n",
            "input_12 (InputLayer)           [(None, 50, 1)]      0                                            \n",
            "__________________________________________________________________________________________________\n",
            "bidirectional_22 (Bidirectional (None, 50, 128)      164352      dropout_21[0][0]                 \n",
            "__________________________________________________________________________________________________\n",
            "bidirectional_24 (Bidirectional (None, 50, 128)      33792       input_11[0][0]                   \n",
            "__________________________________________________________________________________________________\n",
            "bidirectional_26 (Bidirectional (None, 50, 128)      33792       input_12[0][0]                   \n",
            "__________________________________________________________________________________________________\n",
            "dropout_22 (Dropout)            (None, 50, 128)      0           bidirectional_22[0][0]           \n",
            "__________________________________________________________________________________________________\n",
            "dropout_24 (Dropout)            (None, 50, 128)      0           bidirectional_24[0][0]           \n",
            "__________________________________________________________________________________________________\n",
            "dropout_26 (Dropout)            (None, 50, 128)      0           bidirectional_26[0][0]           \n",
            "__________________________________________________________________________________________________\n",
            "bidirectional_23 (Bidirectional (None, 64)           41216       dropout_22[0][0]                 \n",
            "__________________________________________________________________________________________________\n",
            "bidirectional_25 (Bidirectional (None, 64)           41216       dropout_24[0][0]                 \n",
            "__________________________________________________________________________________________________\n",
            "bidirectional_27 (Bidirectional (None, 64)           41216       dropout_26[0][0]                 \n",
            "__________________________________________________________________________________________________\n",
            "dropout_23 (Dropout)            (None, 64)           0           bidirectional_23[0][0]           \n",
            "__________________________________________________________________________________________________\n",
            "dropout_25 (Dropout)            (None, 64)           0           bidirectional_25[0][0]           \n",
            "__________________________________________________________________________________________________\n",
            "dropout_27 (Dropout)            (None, 64)           0           bidirectional_27[0][0]           \n",
            "__________________________________________________________________________________________________\n",
            "concatenate_3 (Concatenate)     (None, 192)          0           dropout_23[0][0]                 \n",
            "                                                                 dropout_25[0][0]                 \n",
            "                                                                 dropout_27[0][0]                 \n",
            "__________________________________________________________________________________________________\n",
            "dense_24 (Dense)                (None, 256)          49408       concatenate_3[0][0]              \n",
            "__________________________________________________________________________________________________\n",
            "dense_25 (Dense)                (None, 128)          32896       dense_24[0][0]                   \n",
            "__________________________________________________________________________________________________\n",
            "dense_26 (Dense)                (None, 64)           8256        dense_25[0][0]                   \n",
            "__________________________________________________________________________________________________\n",
            "dense_27 (Dense)                (None, 32)           2080        dense_26[0][0]                   \n",
            "__________________________________________________________________________________________________\n",
            "dense_28 (Dense)                (None, 16)           528         dense_27[0][0]                   \n",
            "__________________________________________________________________________________________________\n",
            "dense_29 (Dense)                (None, 8)            136         dense_28[0][0]                   \n",
            "__________________________________________________________________________________________________\n",
            "dense_30 (Dense)                (None, 4)            36          dense_29[0][0]                   \n",
            "__________________________________________________________________________________________________\n",
            "dense_31 (Dense)                (None, 1)            5           dense_30[0][0]                   \n",
            "==================================================================================================\n",
            "Total params: 582,049\n",
            "Trainable params: 582,049\n",
            "Non-trainable params: 0\n",
            "__________________________________________________________________________________________________\n"
          ],
          "name": "stdout"
        }
      ]
    },
    {
      "cell_type": "code",
      "metadata": {
        "colab": {
          "base_uri": "https://localhost:8080/"
        },
        "id": "tpopGSSklP0R",
        "outputId": "f8494157-3ab2-492b-cb3c-a1fa9c42474e"
      },
      "source": [
        "regressor.fit([x_train_price, x_train_0, x_train_1], [y_train_price], epochs = 100, batch_size = 8)\n",
        "# regressor.save(\"/content/drive/MyDrive/news-stock-no-headlines.h5\")"
      ],
      "execution_count": 70,
      "outputs": [
        {
          "output_type": "stream",
          "text": [
            "Epoch 1/100\n",
            "194/194 [==============================] - 26s 51ms/step - loss: 0.4502\n",
            "Epoch 2/100\n",
            "194/194 [==============================] - 10s 51ms/step - loss: 0.0089\n",
            "Epoch 3/100\n",
            "194/194 [==============================] - 10s 51ms/step - loss: 0.0090\n",
            "Epoch 4/100\n",
            "194/194 [==============================] - 10s 51ms/step - loss: 0.0081\n",
            "Epoch 5/100\n",
            "194/194 [==============================] - 10s 51ms/step - loss: 0.0071\n",
            "Epoch 6/100\n",
            "194/194 [==============================] - 10s 51ms/step - loss: 0.0075\n",
            "Epoch 7/100\n",
            "194/194 [==============================] - 10s 50ms/step - loss: 0.0081\n",
            "Epoch 8/100\n",
            "194/194 [==============================] - 10s 51ms/step - loss: 0.0068\n",
            "Epoch 9/100\n",
            "194/194 [==============================] - 10s 51ms/step - loss: 0.0066\n",
            "Epoch 10/100\n",
            "194/194 [==============================] - 10s 51ms/step - loss: 0.0064\n",
            "Epoch 11/100\n",
            "194/194 [==============================] - 10s 52ms/step - loss: 0.0075\n",
            "Epoch 12/100\n",
            "194/194 [==============================] - 10s 51ms/step - loss: 0.0070\n",
            "Epoch 13/100\n",
            "194/194 [==============================] - 10s 52ms/step - loss: 0.0072\n",
            "Epoch 14/100\n",
            "194/194 [==============================] - 10s 51ms/step - loss: 0.0081\n",
            "Epoch 15/100\n",
            "194/194 [==============================] - 10s 51ms/step - loss: 0.0062\n",
            "Epoch 16/100\n",
            "194/194 [==============================] - 10s 52ms/step - loss: 0.0076\n",
            "Epoch 17/100\n",
            "194/194 [==============================] - 10s 50ms/step - loss: 0.0055\n",
            "Epoch 18/100\n",
            "194/194 [==============================] - 10s 50ms/step - loss: 0.0045\n",
            "Epoch 19/100\n",
            "194/194 [==============================] - 10s 50ms/step - loss: 0.0060\n",
            "Epoch 20/100\n",
            "194/194 [==============================] - 10s 50ms/step - loss: 0.0043\n",
            "Epoch 21/100\n",
            "194/194 [==============================] - 10s 50ms/step - loss: 0.0048\n",
            "Epoch 22/100\n",
            "194/194 [==============================] - 10s 51ms/step - loss: 0.0046\n",
            "Epoch 23/100\n",
            "194/194 [==============================] - 10s 51ms/step - loss: 0.0041\n",
            "Epoch 24/100\n",
            "194/194 [==============================] - 10s 50ms/step - loss: 0.0043\n",
            "Epoch 25/100\n",
            "194/194 [==============================] - 10s 50ms/step - loss: 0.0045\n",
            "Epoch 26/100\n",
            "194/194 [==============================] - 10s 51ms/step - loss: 0.0038\n",
            "Epoch 27/100\n",
            "194/194 [==============================] - 10s 50ms/step - loss: 0.0044\n",
            "Epoch 28/100\n",
            "194/194 [==============================] - 10s 51ms/step - loss: 0.0042\n",
            "Epoch 29/100\n",
            "194/194 [==============================] - 10s 50ms/step - loss: 0.0041\n",
            "Epoch 30/100\n",
            "194/194 [==============================] - 10s 51ms/step - loss: 0.0039\n",
            "Epoch 31/100\n",
            "194/194 [==============================] - 10s 50ms/step - loss: 0.0045\n",
            "Epoch 32/100\n",
            "194/194 [==============================] - 10s 51ms/step - loss: 0.0040\n",
            "Epoch 33/100\n",
            "194/194 [==============================] - 9s 49ms/step - loss: 0.0044\n",
            "Epoch 34/100\n",
            "194/194 [==============================] - 10s 49ms/step - loss: 0.0040\n",
            "Epoch 35/100\n",
            "194/194 [==============================] - 9s 49ms/step - loss: 0.0039\n",
            "Epoch 36/100\n",
            "194/194 [==============================] - 10s 49ms/step - loss: 0.0041\n",
            "Epoch 37/100\n",
            "194/194 [==============================] - 9s 48ms/step - loss: 0.0047\n",
            "Epoch 38/100\n",
            "194/194 [==============================] - 10s 49ms/step - loss: 0.0036\n",
            "Epoch 39/100\n",
            "194/194 [==============================] - 10s 50ms/step - loss: 0.0041\n",
            "Epoch 40/100\n",
            "194/194 [==============================] - 10s 53ms/step - loss: 0.0039\n",
            "Epoch 41/100\n",
            "194/194 [==============================] - 10s 52ms/step - loss: 0.0042\n",
            "Epoch 42/100\n",
            "194/194 [==============================] - 10s 53ms/step - loss: 0.0040\n",
            "Epoch 43/100\n",
            "194/194 [==============================] - 10s 54ms/step - loss: 0.0041\n",
            "Epoch 44/100\n",
            "194/194 [==============================] - 10s 52ms/step - loss: 0.0036\n",
            "Epoch 45/100\n",
            "194/194 [==============================] - 10s 52ms/step - loss: 0.0038\n",
            "Epoch 46/100\n",
            "194/194 [==============================] - 10s 53ms/step - loss: 0.0045\n",
            "Epoch 47/100\n",
            "194/194 [==============================] - 10s 52ms/step - loss: 0.0038\n",
            "Epoch 48/100\n",
            "194/194 [==============================] - 10s 53ms/step - loss: 0.0036\n",
            "Epoch 49/100\n",
            "194/194 [==============================] - 10s 53ms/step - loss: 0.0036\n",
            "Epoch 50/100\n",
            "194/194 [==============================] - 10s 52ms/step - loss: 0.0041\n",
            "Epoch 51/100\n",
            "194/194 [==============================] - 10s 52ms/step - loss: 0.0037\n",
            "Epoch 52/100\n",
            "194/194 [==============================] - 10s 53ms/step - loss: 0.0041\n",
            "Epoch 53/100\n",
            "194/194 [==============================] - 10s 53ms/step - loss: 0.0037\n",
            "Epoch 54/100\n",
            "194/194 [==============================] - 10s 52ms/step - loss: 0.0044\n",
            "Epoch 55/100\n",
            "194/194 [==============================] - 10s 52ms/step - loss: 0.0037\n",
            "Epoch 56/100\n",
            "194/194 [==============================] - 10s 53ms/step - loss: 0.0039\n",
            "Epoch 57/100\n",
            "194/194 [==============================] - 10s 52ms/step - loss: 0.0038\n",
            "Epoch 58/100\n",
            "194/194 [==============================] - 10s 52ms/step - loss: 0.0041\n",
            "Epoch 59/100\n",
            "194/194 [==============================] - 10s 53ms/step - loss: 0.0037\n",
            "Epoch 60/100\n",
            "194/194 [==============================] - 10s 52ms/step - loss: 0.0033\n",
            "Epoch 61/100\n",
            "194/194 [==============================] - 10s 53ms/step - loss: 0.0038\n",
            "Epoch 62/100\n",
            "194/194 [==============================] - 10s 53ms/step - loss: 0.0041\n",
            "Epoch 63/100\n",
            "194/194 [==============================] - 10s 52ms/step - loss: 0.0036\n",
            "Epoch 64/100\n",
            "194/194 [==============================] - 10s 53ms/step - loss: 0.0038\n",
            "Epoch 65/100\n",
            "194/194 [==============================] - 10s 53ms/step - loss: 0.0040\n",
            "Epoch 66/100\n",
            "194/194 [==============================] - 10s 53ms/step - loss: 0.0036\n",
            "Epoch 67/100\n",
            "194/194 [==============================] - 10s 52ms/step - loss: 0.0043\n",
            "Epoch 68/100\n",
            "194/194 [==============================] - 10s 52ms/step - loss: 0.0035\n",
            "Epoch 69/100\n",
            "194/194 [==============================] - 10s 53ms/step - loss: 0.0039\n",
            "Epoch 70/100\n",
            "194/194 [==============================] - 10s 54ms/step - loss: 0.0038\n",
            "Epoch 71/100\n",
            "194/194 [==============================] - 10s 53ms/step - loss: 0.0035\n",
            "Epoch 72/100\n",
            "194/194 [==============================] - 10s 53ms/step - loss: 0.0039\n",
            "Epoch 73/100\n",
            "194/194 [==============================] - 10s 52ms/step - loss: 0.0035\n",
            "Epoch 74/100\n",
            "194/194 [==============================] - 10s 51ms/step - loss: 0.0037\n",
            "Epoch 75/100\n",
            "194/194 [==============================] - 10s 53ms/step - loss: 0.0033\n",
            "Epoch 76/100\n",
            "194/194 [==============================] - 10s 52ms/step - loss: 0.0036\n",
            "Epoch 77/100\n",
            "194/194 [==============================] - 10s 52ms/step - loss: 0.0036\n",
            "Epoch 78/100\n",
            "194/194 [==============================] - 10s 52ms/step - loss: 0.0039\n",
            "Epoch 79/100\n",
            "194/194 [==============================] - 10s 53ms/step - loss: 0.0036\n",
            "Epoch 80/100\n",
            "194/194 [==============================] - 10s 52ms/step - loss: 0.0038\n",
            "Epoch 81/100\n",
            "194/194 [==============================] - 10s 52ms/step - loss: 0.0035\n",
            "Epoch 82/100\n",
            "194/194 [==============================] - 10s 53ms/step - loss: 0.0037\n",
            "Epoch 83/100\n",
            "194/194 [==============================] - 10s 52ms/step - loss: 0.0032\n",
            "Epoch 84/100\n",
            "194/194 [==============================] - 10s 52ms/step - loss: 0.0035\n",
            "Epoch 85/100\n",
            "194/194 [==============================] - 10s 52ms/step - loss: 0.0039\n",
            "Epoch 86/100\n",
            "194/194 [==============================] - 10s 52ms/step - loss: 0.0037\n",
            "Epoch 87/100\n",
            "194/194 [==============================] - 10s 52ms/step - loss: 0.0034\n",
            "Epoch 88/100\n",
            "194/194 [==============================] - 10s 53ms/step - loss: 0.0033\n",
            "Epoch 89/100\n",
            "194/194 [==============================] - 10s 52ms/step - loss: 0.0037\n",
            "Epoch 90/100\n",
            "194/194 [==============================] - 10s 52ms/step - loss: 0.0035\n",
            "Epoch 91/100\n",
            "194/194 [==============================] - 10s 53ms/step - loss: 0.0030\n",
            "Epoch 92/100\n",
            "194/194 [==============================] - 10s 53ms/step - loss: 0.0037\n",
            "Epoch 93/100\n",
            "194/194 [==============================] - 10s 53ms/step - loss: 0.0035\n",
            "Epoch 94/100\n",
            "194/194 [==============================] - 10s 52ms/step - loss: 0.0036\n",
            "Epoch 95/100\n",
            "194/194 [==============================] - 10s 52ms/step - loss: 0.0035\n",
            "Epoch 96/100\n",
            "194/194 [==============================] - 10s 52ms/step - loss: 0.0039\n",
            "Epoch 97/100\n",
            "194/194 [==============================] - 10s 53ms/step - loss: 0.0033\n",
            "Epoch 98/100\n",
            "194/194 [==============================] - 10s 53ms/step - loss: 0.0038\n",
            "Epoch 99/100\n",
            "194/194 [==============================] - 10s 53ms/step - loss: 0.0033\n",
            "Epoch 100/100\n",
            "194/194 [==============================] - 10s 52ms/step - loss: 0.0032\n"
          ],
          "name": "stdout"
        },
        {
          "output_type": "execute_result",
          "data": {
            "text/plain": [
              "<tensorflow.python.keras.callbacks.History at 0x7f2134440750>"
            ]
          },
          "metadata": {
            "tags": []
          },
          "execution_count": 70
        }
      ]
    },
    {
      "cell_type": "code",
      "metadata": {
        "colab": {
          "base_uri": "https://localhost:8080/",
          "height": 295
        },
        "id": "77Mtr6dmlP0S",
        "outputId": "5e75dc89-2f6e-4bf8-e8f4-a3995857c3b6"
      },
      "source": [
        "from sklearn.metrics.regression import mean_squared_error\n",
        "y_predict = regressor.predict([x_test_price, x_test_0, x_test_1])\n",
        "y_real = scaler.inverse_transform(y_test_price.reshape(-1, 1)).flatten()\n",
        "y_predict = scaler.inverse_transform(y_predict.reshape(-1, 1)).flatten()\n",
        "plt.figure(1)\n",
        "plt.plot(y_real, label='real')\n",
        "plt.plot(y_predict, label='prediction')\n",
        "plt.xlabel('MSE Error: {}'.format(mean_squared_error(y_real[:-1], y_predict[:-1])))\n",
        "plt.legend()\n",
        "plt.title('Prediction result')\n",
        "plt.show()"
      ],
      "execution_count": 71,
      "outputs": [
        {
          "output_type": "display_data",
          "data": {
            "image/png": "[encoded data removed]",
            "text/plain": [
              "<Figure size 432x288 with 1 Axes>"
            ]
          },
          "metadata": {
            "tags": [],
            "needs_background": "light"
          }
        }
      ]
    },
    {
      "cell_type": "code",
      "metadata": {
        "id": "NxYA8DWnlP0S"
      },
      "source": [
        "regressor.save(\"/content/drive/MyDrive/news-stock-rate-10-headlines.h5\")"
      ],
      "execution_count": 72,
      "outputs": []
    },
    {
      "cell_type": "code",
      "metadata": {
        "id": "XzY3tkRf6kNa"
      },
      "source": [
        "from keras.models import load_model\n",
        "regressor = load_model(\"/content/drive/MyDrive/news-stock-rate-10-headlines.h5\")\n",
        "y_predict = regressor.predict([x_test_price, x_test_0, x_test_1])\n",
        "y_real = scaler.inverse_transform(y_test_price.reshape(-1, 1)).flatten()\n",
        "y_predict = scaler.inverse_transform(y_predict.reshape(-1, 1)).flatten()"
      ],
      "execution_count": 48,
      "outputs": []
    },
    {
      "cell_type": "code",
      "metadata": {
        "colab": {
          "base_uri": "https://localhost:8080/"
        },
        "id": "7favMayE6kNa",
        "outputId": "d0cdcdf2-4eba-4461-cd04-673ed0b11957"
      },
      "source": [
        "from sklearn.metrics import mean_absolute_error\n",
        "print(mean_absolute_error(y_real[:-1], y_predict[:-1]))\n",
        "from sklearn.metrics import r2_score\n",
        "print(r2_score(y_real, y_predict))"
      ],
      "execution_count": 49,
      "outputs": [
        {
          "output_type": "stream",
          "text": [
            "476.64029182908894\n",
            "-8.251985588472019\n"
          ],
          "name": "stdout"
        }
      ]
    },
    {
      "cell_type": "code",
      "metadata": {
        "id": "RJkES7Zfl4O7"
      },
      "source": [
        ""
      ],
      "execution_count": null,
      "outputs": []
    },
    {
      "cell_type": "code",
      "metadata": {
        "id": "a1hx-lWyl4bx"
      },
      "source": [
        "\n",
        "headlines = []\n",
        "for row in range(0, len(data.index)):\n",
        "    headlines.append(' '.join(str(x) for x in data.iloc[row, 0:5]))"
      ],
      "execution_count": 50,
      "outputs": []
    },
    {
      "cell_type": "code",
      "metadata": {
        "id": "Xy-LpLH6l4by"
      },
      "source": [
        "# implememt BAG OF WORDS\n",
        "tfidfVector = TfidfVectorizer(ngram_range=(2,2))\n",
        "#ngram(2,2) means it will combine the 2 words together and assign the value\n",
        "\n",
        "trainDataset = tfidfVector.fit_transform(headlines)"
      ],
      "execution_count": 51,
      "outputs": []
    },
    {
      "cell_type": "code",
      "metadata": {
        "colab": {
          "base_uri": "https://localhost:8080/"
        },
        "id": "eNq6Pm6Vl4by",
        "outputId": "c5fae484-69e0-492e-f182-5b6e385df0af"
      },
      "source": [
        "randomClassifier = RandomForestClassifier(n_estimators=200, criterion='entropy')\n",
        "randomClassifier.fit(trainDataset, train['Label'])"
      ],
      "execution_count": 52,
      "outputs": [
        {
          "output_type": "execute_result",
          "data": {
            "text/plain": [
              "RandomForestClassifier(bootstrap=True, ccp_alpha=0.0, class_weight=None,\n",
              "                       criterion='entropy', max_depth=None, max_features='auto',\n",
              "                       max_leaf_nodes=None, max_samples=None,\n",
              "                       min_impurity_decrease=0.0, min_impurity_split=None,\n",
              "                       min_samples_leaf=1, min_samples_split=2,\n",
              "                       min_weight_fraction_leaf=0.0, n_estimators=200,\n",
              "                       n_jobs=None, oob_score=False, random_state=None,\n",
              "                       verbose=0, warm_start=False)"
            ]
          },
          "metadata": {
            "tags": []
          },
          "execution_count": 52
        }
      ]
    },
    {
      "cell_type": "code",
      "metadata": {
        "id": "rw0fQ8AGl4bz"
      },
      "source": [
        "testTransform =[]\n",
        "for row in range(0, len(df.index)):\n",
        "    testTransform.append(' '.join(str(x)[1:] for x in df.iloc[row, 2:7]))\n",
        "    \n",
        "test_dataset = tfidfVector.transform(testTransform)"
      ],
      "execution_count": 53,
      "outputs": []
    },
    {
      "cell_type": "code",
      "metadata": {
        "colab": {
          "base_uri": "https://localhost:8080/"
        },
        "id": "VfIBIIsel4bz",
        "outputId": "5f3677bf-6853-412e-b2c7-996dac0cce3e"
      },
      "source": [
        "pred_0 = []\n",
        "pred_1 = []\n",
        "predictions = randomClassifier.predict_proba(test_dataset)\n",
        "print(len(predictions))\n",
        "for i in predictions:\n",
        "  pred_0.append(i[0])\n",
        "  pred_1.append(i[1])"
      ],
      "execution_count": 54,
      "outputs": [
        {
          "output_type": "stream",
          "text": [
            "1989\n"
          ],
          "name": "stdout"
        }
      ]
    },
    {
      "cell_type": "code",
      "metadata": {
        "colab": {
          "base_uri": "https://localhost:8080/"
        },
        "id": "ZWiDb3gHl4bz",
        "outputId": "36c0ea30-5ad0-4075-e977-28c1028f8204"
      },
      "source": [
        "print(len(pred_0))\n",
        "print(len(pred_1))"
      ],
      "execution_count": 55,
      "outputs": [
        {
          "output_type": "stream",
          "text": [
            "1989\n",
            "1989\n"
          ],
          "name": "stdout"
        }
      ]
    },
    {
      "cell_type": "code",
      "metadata": {
        "colab": {
          "base_uri": "https://localhost:8080/"
        },
        "id": "u__-CeR_l4b0",
        "outputId": "4d84525b-1b12-4b30-d407-b549bfca8400"
      },
      "source": [
        "from sklearn.preprocessing import MinMaxScaler\n",
        "input_length = 50\n",
        "output_length = 1\n",
        "test_percentage = 0.2\n",
        "# dataset = dj['Close'].to_numpy()\n",
        "\n",
        "# scaler = MinMaxScaler()\n",
        "# dataset_norm = scaler.fit_transform(dataset.reshape(-1, 1)).flatten()\n",
        "dataset_list_0 = []\n",
        "dataset_list_1 = []\n",
        "for i in range(len(pred_0) - input_length - output_length):\n",
        "    dataset_list_0.append(pred_0[i:i + input_length + output_length])\n",
        "    dataset_list_1.append(pred_1[i:i + input_length + output_length])\n",
        "dataset_list_0 = np.array(dataset_list_0)\n",
        "dataset_list_1 = np.array(dataset_list_1)\n",
        "trainset_0 = dataset_list_0[:int(len(dataset_list_0) * (1 - test_percentage))]\n",
        "testset_0 = dataset_list_0[int(len(dataset_list_0) * (1 - test_percentage)):]\n",
        "\n",
        "trainset_1 = dataset_list_1[:int(len(dataset_list_1) * (1 - test_percentage))]\n",
        "testset_1 = dataset_list_1[int(len(dataset_list_1) * (1 - test_percentage)):]\n",
        "\n",
        "x_train_0 = trainset_0[:, :-1]\n",
        "x_test_0 = testset_0[:, :-1]\n",
        "\n",
        "x_train_1 = trainset_1[:, :-1]\n",
        "x_test_1 = testset_1[:, :-1]\n",
        "\n",
        "print('x_train.shape:' + str(x_train_0.shape))\n",
        "print('x_test.shape:' + str(x_test_0.shape))"
      ],
      "execution_count": 56,
      "outputs": [
        {
          "output_type": "stream",
          "text": [
            "x_train.shape:(1550, 50)\n",
            "x_test.shape:(388, 50)\n"
          ],
          "name": "stdout"
        }
      ]
    },
    {
      "cell_type": "code",
      "metadata": {
        "id": "7tjaLXPjl4b0"
      },
      "source": [
        "input_tensor_c = Input(shape=( x_train_price.shape[1],1), dtype='float32')\n",
        "x_c = Bidirectional(LSTM(128, return_sequences=True))(input_tensor_c)\n",
        "x_c = Dropout(0.2)(x_c)\n",
        "x_c = Bidirectional(LSTM(64, return_sequences=True))(x_c)\n",
        "x_c = Dropout(0.2)(x_c)\n",
        "x_c = Bidirectional(LSTM(32, return_sequences=False))(x_c)\n",
        "x_c = Dropout(0.2)(x_c)\n",
        "\n",
        "input_tensor_n_0 = Input(shape=( x_train_0.shape[1],1), dtype='float32')\n",
        "x_n_0 = Bidirectional(LSTM(64, return_sequences=True))(input_tensor_n_0)\n",
        "x_n_0 = Dropout(0.2)(x_n_0)\n",
        "x_n_0 = Bidirectional(LSTM(32, return_sequences=False))(x_n_0)\n",
        "x_n_0 = Dropout(0.2)(x_n_0)\n",
        "\n",
        "\n",
        "input_tensor_n_1 = Input(shape=( x_train_1.shape[1],1), dtype='float32')\n",
        "x_n_1 = Bidirectional(LSTM(64, return_sequences=True))(input_tensor_n_1)\n",
        "x_n_1 = Dropout(0.2)(x_n_1)\n",
        "x_n_1 = Bidirectional(LSTM(32, return_sequences=False))(x_n_1)\n",
        "x_n_1 = Dropout(0.2)(x_n_1)\n",
        "\n",
        "combined = Concatenate()([x_c, x_n_0, x_n_1])\n",
        "\n",
        "mix2= Dense(256)(combined)\n",
        "mix2 = Dense(128)(mix2)\n",
        "mix2 = Dense(64)(mix2)\n",
        "mix2 = Dense(32)(mix2)\n",
        "mix2 = Dense(16)(mix2)\n",
        "mix2 = Dense(8)(mix2)\n",
        "mix2 = Dense(4)(mix2)\n",
        "\n",
        "out1 = Dense(1)(mix2)\n",
        "\n",
        "\n",
        "regressor = Model(inputs=[input_tensor_c,input_tensor_n_0,input_tensor_n_1],outputs=[out1])"
      ],
      "execution_count": 80,
      "outputs": []
    },
    {
      "cell_type": "code",
      "metadata": {
        "colab": {
          "base_uri": "https://localhost:8080/"
        },
        "id": "0WVHNXhYl4b0",
        "outputId": "ca8d6fbc-cb87-4d4d-d47a-a12d5b132ad2"
      },
      "source": [
        "regressor.compile(optimizer = \"rmsprop\", loss = 'mean_squared_error')\n",
        "regressor.summary()"
      ],
      "execution_count": 81,
      "outputs": [
        {
          "output_type": "stream",
          "text": [
            "Model: \"model_4\"\n",
            "__________________________________________________________________________________________________\n",
            "Layer (type)                    Output Shape         Param #     Connected to                     \n",
            "==================================================================================================\n",
            "input_13 (InputLayer)           [(None, 50, 1)]      0                                            \n",
            "__________________________________________________________________________________________________\n",
            "bidirectional_28 (Bidirectional (None, 50, 256)      133120      input_13[0][0]                   \n",
            "__________________________________________________________________________________________________\n",
            "dropout_28 (Dropout)            (None, 50, 256)      0           bidirectional_28[0][0]           \n",
            "__________________________________________________________________________________________________\n",
            "input_14 (InputLayer)           [(None, 50, 1)]      0                                            \n",
            "__________________________________________________________________________________________________\n",
            "input_15 (InputLayer)           [(None, 50, 1)]      0                                            \n",
            "__________________________________________________________________________________________________\n",
            "bidirectional_29 (Bidirectional (None, 50, 128)      164352      dropout_28[0][0]                 \n",
            "__________________________________________________________________________________________________\n",
            "bidirectional_31 (Bidirectional (None, 50, 128)      33792       input_14[0][0]                   \n",
            "__________________________________________________________________________________________________\n",
            "bidirectional_33 (Bidirectional (None, 50, 128)      33792       input_15[0][0]                   \n",
            "__________________________________________________________________________________________________\n",
            "dropout_29 (Dropout)            (None, 50, 128)      0           bidirectional_29[0][0]           \n",
            "__________________________________________________________________________________________________\n",
            "dropout_31 (Dropout)            (None, 50, 128)      0           bidirectional_31[0][0]           \n",
            "__________________________________________________________________________________________________\n",
            "dropout_33 (Dropout)            (None, 50, 128)      0           bidirectional_33[0][0]           \n",
            "__________________________________________________________________________________________________\n",
            "bidirectional_30 (Bidirectional (None, 64)           41216       dropout_29[0][0]                 \n",
            "__________________________________________________________________________________________________\n",
            "bidirectional_32 (Bidirectional (None, 64)           41216       dropout_31[0][0]                 \n",
            "__________________________________________________________________________________________________\n",
            "bidirectional_34 (Bidirectional (None, 64)           41216       dropout_33[0][0]                 \n",
            "__________________________________________________________________________________________________\n",
            "dropout_30 (Dropout)            (None, 64)           0           bidirectional_30[0][0]           \n",
            "__________________________________________________________________________________________________\n",
            "dropout_32 (Dropout)            (None, 64)           0           bidirectional_32[0][0]           \n",
            "__________________________________________________________________________________________________\n",
            "dropout_34 (Dropout)            (None, 64)           0           bidirectional_34[0][0]           \n",
            "__________________________________________________________________________________________________\n",
            "concatenate_4 (Concatenate)     (None, 192)          0           dropout_30[0][0]                 \n",
            "                                                                 dropout_32[0][0]                 \n",
            "                                                                 dropout_34[0][0]                 \n",
            "__________________________________________________________________________________________________\n",
            "dense_32 (Dense)                (None, 256)          49408       concatenate_4[0][0]              \n",
            "__________________________________________________________________________________________________\n",
            "dense_33 (Dense)                (None, 128)          32896       dense_32[0][0]                   \n",
            "__________________________________________________________________________________________________\n",
            "dense_34 (Dense)                (None, 64)           8256        dense_33[0][0]                   \n",
            "__________________________________________________________________________________________________\n",
            "dense_35 (Dense)                (None, 32)           2080        dense_34[0][0]                   \n",
            "__________________________________________________________________________________________________\n",
            "dense_36 (Dense)                (None, 16)           528         dense_35[0][0]                   \n",
            "__________________________________________________________________________________________________\n",
            "dense_37 (Dense)                (None, 8)            136         dense_36[0][0]                   \n",
            "__________________________________________________________________________________________________\n",
            "dense_38 (Dense)                (None, 4)            36          dense_37[0][0]                   \n",
            "__________________________________________________________________________________________________\n",
            "dense_39 (Dense)                (None, 1)            5           dense_38[0][0]                   \n",
            "==================================================================================================\n",
            "Total params: 582,049\n",
            "Trainable params: 582,049\n",
            "Non-trainable params: 0\n",
            "__________________________________________________________________________________________________\n"
          ],
          "name": "stdout"
        }
      ]
    },
    {
      "cell_type": "code",
      "metadata": {
        "colab": {
          "base_uri": "https://localhost:8080/"
        },
        "id": "m6H95zP1l4b0",
        "outputId": "cae72914-bc7c-4344-d48b-b578bfdeb422"
      },
      "source": [
        "regressor.fit([x_train_price, x_train_0, x_train_1], [y_train_price], epochs = 100, batch_size = 8)\n",
        "# regressor.save(\"/content/drive/MyDrive/news-stock-no-headlines.h5\")"
      ],
      "execution_count": 82,
      "outputs": [
        {
          "output_type": "stream",
          "text": [
            "Epoch 1/100\n",
            "194/194 [==============================] - 27s 51ms/step - loss: 0.0303\n",
            "Epoch 2/100\n",
            "194/194 [==============================] - 10s 52ms/step - loss: 0.0089\n",
            "Epoch 3/100\n",
            "194/194 [==============================] - 10s 51ms/step - loss: 0.0072\n",
            "Epoch 4/100\n",
            "194/194 [==============================] - 10s 50ms/step - loss: 0.0069\n",
            "Epoch 5/100\n",
            "194/194 [==============================] - 10s 52ms/step - loss: 0.0059\n",
            "Epoch 6/100\n",
            "194/194 [==============================] - 10s 51ms/step - loss: 0.0071\n",
            "Epoch 7/100\n",
            "194/194 [==============================] - 10s 51ms/step - loss: 0.0039\n",
            "Epoch 8/100\n",
            "194/194 [==============================] - 10s 51ms/step - loss: 0.0048\n",
            "Epoch 9/100\n",
            "194/194 [==============================] - 10s 50ms/step - loss: 0.0045\n",
            "Epoch 10/100\n",
            "194/194 [==============================] - 10s 49ms/step - loss: 0.0046\n",
            "Epoch 11/100\n",
            "194/194 [==============================] - 10s 50ms/step - loss: 0.0040\n",
            "Epoch 12/100\n",
            "194/194 [==============================] - 10s 50ms/step - loss: 0.0047\n",
            "Epoch 13/100\n",
            "194/194 [==============================] - 9s 49ms/step - loss: 0.0044\n",
            "Epoch 14/100\n",
            "194/194 [==============================] - 10s 52ms/step - loss: 0.0048\n",
            "Epoch 15/100\n",
            "194/194 [==============================] - 10s 52ms/step - loss: 0.0039\n",
            "Epoch 16/100\n",
            "194/194 [==============================] - 10s 51ms/step - loss: 0.0041\n",
            "Epoch 17/100\n",
            "194/194 [==============================] - 10s 51ms/step - loss: 0.0044\n",
            "Epoch 18/100\n",
            "194/194 [==============================] - 10s 52ms/step - loss: 0.0046\n",
            "Epoch 19/100\n",
            "194/194 [==============================] - 10s 52ms/step - loss: 0.0040\n",
            "Epoch 20/100\n",
            "194/194 [==============================] - 10s 52ms/step - loss: 0.0046\n",
            "Epoch 21/100\n",
            "194/194 [==============================] - 10s 52ms/step - loss: 0.0043\n",
            "Epoch 22/100\n",
            "194/194 [==============================] - 10s 51ms/step - loss: 0.0041\n",
            "Epoch 23/100\n",
            "194/194 [==============================] - 10s 52ms/step - loss: 0.0035\n",
            "Epoch 24/100\n",
            "194/194 [==============================] - 10s 52ms/step - loss: 0.0038\n",
            "Epoch 25/100\n",
            "194/194 [==============================] - 10s 53ms/step - loss: 0.0040\n",
            "Epoch 26/100\n",
            "194/194 [==============================] - 10s 53ms/step - loss: 0.0039\n",
            "Epoch 27/100\n",
            "194/194 [==============================] - 10s 52ms/step - loss: 0.0037\n",
            "Epoch 28/100\n",
            "194/194 [==============================] - 10s 53ms/step - loss: 0.0037\n",
            "Epoch 29/100\n",
            "194/194 [==============================] - 10s 51ms/step - loss: 0.0038\n",
            "Epoch 30/100\n",
            "194/194 [==============================] - 10s 51ms/step - loss: 0.0037\n",
            "Epoch 31/100\n",
            "194/194 [==============================] - 10s 52ms/step - loss: 0.0036\n",
            "Epoch 32/100\n",
            "194/194 [==============================] - 10s 52ms/step - loss: 0.0039\n",
            "Epoch 33/100\n",
            "194/194 [==============================] - 10s 51ms/step - loss: 0.0038\n",
            "Epoch 34/100\n",
            "194/194 [==============================] - 10s 52ms/step - loss: 0.0037\n",
            "Epoch 35/100\n",
            "194/194 [==============================] - 10s 52ms/step - loss: 0.0034\n",
            "Epoch 36/100\n",
            "194/194 [==============================] - 10s 51ms/step - loss: 0.0037\n",
            "Epoch 37/100\n",
            "194/194 [==============================] - 10s 52ms/step - loss: 0.0037\n",
            "Epoch 38/100\n",
            "194/194 [==============================] - 10s 53ms/step - loss: 0.0042\n",
            "Epoch 39/100\n",
            "194/194 [==============================] - 10s 51ms/step - loss: 0.0045\n",
            "Epoch 40/100\n",
            "194/194 [==============================] - 10s 51ms/step - loss: 0.0040\n",
            "Epoch 41/100\n",
            "194/194 [==============================] - 10s 53ms/step - loss: 0.0038\n",
            "Epoch 42/100\n",
            "194/194 [==============================] - 10s 52ms/step - loss: 0.0042\n",
            "Epoch 43/100\n",
            "194/194 [==============================] - 10s 51ms/step - loss: 0.0036\n",
            "Epoch 44/100\n",
            "194/194 [==============================] - 10s 53ms/step - loss: 0.0034\n",
            "Epoch 45/100\n",
            "194/194 [==============================] - 10s 52ms/step - loss: 0.0037\n",
            "Epoch 46/100\n",
            "194/194 [==============================] - 10s 51ms/step - loss: 0.0036\n",
            "Epoch 47/100\n",
            "194/194 [==============================] - 10s 51ms/step - loss: 0.0037\n",
            "Epoch 48/100\n",
            "194/194 [==============================] - 10s 53ms/step - loss: 0.0041\n",
            "Epoch 49/100\n",
            "194/194 [==============================] - 10s 51ms/step - loss: 0.0038\n",
            "Epoch 50/100\n",
            "194/194 [==============================] - 10s 52ms/step - loss: 0.0039\n",
            "Epoch 51/100\n",
            "194/194 [==============================] - 10s 53ms/step - loss: 0.0039\n",
            "Epoch 52/100\n",
            "194/194 [==============================] - 10s 52ms/step - loss: 0.0036\n",
            "Epoch 53/100\n",
            "194/194 [==============================] - 10s 52ms/step - loss: 0.0035\n",
            "Epoch 54/100\n",
            "194/194 [==============================] - 10s 53ms/step - loss: 0.0036\n",
            "Epoch 55/100\n",
            "194/194 [==============================] - 10s 52ms/step - loss: 0.0036\n",
            "Epoch 56/100\n",
            "194/194 [==============================] - 10s 54ms/step - loss: 0.0037\n",
            "Epoch 57/100\n",
            "194/194 [==============================] - 10s 52ms/step - loss: 0.0038\n",
            "Epoch 58/100\n",
            "194/194 [==============================] - 10s 53ms/step - loss: 0.0033\n",
            "Epoch 59/100\n",
            "194/194 [==============================] - 10s 52ms/step - loss: 0.0034\n",
            "Epoch 60/100\n",
            "194/194 [==============================] - 10s 53ms/step - loss: 0.0034\n",
            "Epoch 61/100\n",
            "194/194 [==============================] - 10s 52ms/step - loss: 0.0041\n",
            "Epoch 62/100\n",
            "194/194 [==============================] - 10s 51ms/step - loss: 0.0035\n",
            "Epoch 63/100\n",
            "194/194 [==============================] - 10s 50ms/step - loss: 0.0037\n",
            "Epoch 64/100\n",
            "194/194 [==============================] - 10s 51ms/step - loss: 0.0033\n",
            "Epoch 65/100\n",
            "194/194 [==============================] - 10s 51ms/step - loss: 0.0036\n",
            "Epoch 66/100\n",
            "194/194 [==============================] - 10s 51ms/step - loss: 0.0041\n",
            "Epoch 67/100\n",
            "194/194 [==============================] - 10s 51ms/step - loss: 0.0036\n",
            "Epoch 68/100\n",
            "194/194 [==============================] - 10s 52ms/step - loss: 0.0034\n",
            "Epoch 69/100\n",
            "194/194 [==============================] - 10s 51ms/step - loss: 0.0036\n",
            "Epoch 70/100\n",
            "194/194 [==============================] - 10s 51ms/step - loss: 0.0040\n",
            "Epoch 71/100\n",
            "194/194 [==============================] - 10s 51ms/step - loss: 0.0033\n",
            "Epoch 72/100\n",
            "194/194 [==============================] - 10s 49ms/step - loss: 0.0038\n",
            "Epoch 73/100\n",
            "194/194 [==============================] - 9s 49ms/step - loss: 0.0035\n",
            "Epoch 74/100\n",
            "194/194 [==============================] - 10s 50ms/step - loss: 0.0036\n",
            "Epoch 75/100\n",
            "194/194 [==============================] - 10s 49ms/step - loss: 0.0036\n",
            "Epoch 76/100\n",
            "194/194 [==============================] - 9s 49ms/step - loss: 0.0034\n",
            "Epoch 77/100\n",
            "194/194 [==============================] - 10s 49ms/step - loss: 0.0034\n",
            "Epoch 78/100\n",
            "194/194 [==============================] - 10s 51ms/step - loss: 0.0036\n",
            "Epoch 79/100\n",
            "194/194 [==============================] - 10s 51ms/step - loss: 0.0034\n",
            "Epoch 80/100\n",
            "194/194 [==============================] - 10s 51ms/step - loss: 0.0032\n",
            "Epoch 81/100\n",
            "194/194 [==============================] - 10s 53ms/step - loss: 0.0035\n",
            "Epoch 82/100\n",
            "194/194 [==============================] - 10s 52ms/step - loss: 0.0037\n",
            "Epoch 83/100\n",
            "194/194 [==============================] - 10s 52ms/step - loss: 0.0034\n",
            "Epoch 84/100\n",
            "194/194 [==============================] - 10s 52ms/step - loss: 0.0034\n",
            "Epoch 85/100\n",
            "194/194 [==============================] - 10s 51ms/step - loss: 0.0033\n",
            "Epoch 86/100\n",
            "194/194 [==============================] - 10s 52ms/step - loss: 0.0033\n",
            "Epoch 87/100\n",
            "194/194 [==============================] - 10s 52ms/step - loss: 0.0033\n",
            "Epoch 88/100\n",
            "194/194 [==============================] - 10s 52ms/step - loss: 0.0033\n",
            "Epoch 89/100\n",
            "194/194 [==============================] - 10s 52ms/step - loss: 0.0032\n",
            "Epoch 90/100\n",
            "194/194 [==============================] - 10s 52ms/step - loss: 0.0036\n",
            "Epoch 91/100\n",
            "194/194 [==============================] - 10s 52ms/step - loss: 0.0032\n",
            "Epoch 92/100\n",
            "194/194 [==============================] - 10s 52ms/step - loss: 0.0035\n",
            "Epoch 93/100\n",
            "194/194 [==============================] - 10s 52ms/step - loss: 0.0032\n",
            "Epoch 94/100\n",
            "194/194 [==============================] - 10s 52ms/step - loss: 0.0035\n",
            "Epoch 95/100\n",
            "194/194 [==============================] - 10s 52ms/step - loss: 0.0034\n",
            "Epoch 96/100\n",
            "194/194 [==============================] - 10s 52ms/step - loss: 0.0033\n",
            "Epoch 97/100\n",
            "194/194 [==============================] - 10s 52ms/step - loss: 0.0033\n",
            "Epoch 98/100\n",
            "194/194 [==============================] - 10s 52ms/step - loss: 0.0033\n",
            "Epoch 99/100\n",
            "194/194 [==============================] - 10s 52ms/step - loss: 0.0030\n",
            "Epoch 100/100\n",
            "194/194 [==============================] - 10s 52ms/step - loss: 0.0034\n"
          ],
          "name": "stdout"
        },
        {
          "output_type": "execute_result",
          "data": {
            "text/plain": [
              "<tensorflow.python.keras.callbacks.History at 0x7f212f642350>"
            ]
          },
          "metadata": {
            "tags": []
          },
          "execution_count": 82
        }
      ]
    },
    {
      "cell_type": "code",
      "metadata": {
        "colab": {
          "base_uri": "https://localhost:8080/",
          "height": 295
        },
        "id": "Gc1DUjJWl4b1",
        "outputId": "a0f6fbaf-da2d-4e02-f784-b1a3887cdabb"
      },
      "source": [
        "from sklearn.metrics.regression import mean_squared_error\n",
        "y_predict = regressor.predict([x_test_price, x_test_0, x_test_1])\n",
        "y_real = scaler.inverse_transform(y_test_price.reshape(-1, 1)).flatten()\n",
        "y_predict = scaler.inverse_transform(y_predict.reshape(-1, 1)).flatten()\n",
        "plt.figure(1)\n",
        "plt.plot(y_real, label='real')\n",
        "plt.plot(y_predict, label='prediction')\n",
        "plt.xlabel('MSE Error: {}'.format(mean_squared_error(y_real[:-1], y_predict[:-1])))\n",
        "plt.legend()\n",
        "plt.title('Prediction result')\n",
        "plt.show()"
      ],
      "execution_count": 83,
      "outputs": [
        {
          "output_type": "display_data",
          "data": {
            "image/png": "[encoded data removed]",
            "text/plain": [
              "<Figure size 432x288 with 1 Axes>"
            ]
          },
          "metadata": {
            "tags": [],
            "needs_background": "light"
          }
        }
      ]
    },
    {
      "cell_type": "code",
      "metadata": {
        "id": "Rtt7zsyyl4b1"
      },
      "source": [
        "regressor.save(\"/content/drive/MyDrive/news-stock-rate-5-headlines.h5\")"
      ],
      "execution_count": 84,
      "outputs": []
    },
    {
      "cell_type": "code",
      "metadata": {
        "id": "i-jkgCGt6v9B"
      },
      "source": [
        "from keras.models import load_model\n",
        "regressor = load_model(\"/content/drive/MyDrive/news-stock-rate-5-headlines.h5\")\n",
        "y_predict = regressor.predict([x_test_price, x_test_0, x_test_1])\n",
        "y_real = scaler.inverse_transform(y_test_price.reshape(-1, 1)).flatten()\n",
        "y_predict = scaler.inverse_transform(y_predict.reshape(-1, 1)).flatten()"
      ],
      "execution_count": 57,
      "outputs": []
    },
    {
      "cell_type": "code",
      "metadata": {
        "colab": {
          "base_uri": "https://localhost:8080/"
        },
        "id": "Ti1hZ1uA6v9F",
        "outputId": "f0ab01db-d26f-4f5e-a2b7-ef7462e9181c"
      },
      "source": [
        "from sklearn.metrics import mean_absolute_error\n",
        "print(mean_absolute_error(y_real[:-1], y_predict[:-1]))\n",
        "from sklearn.metrics import r2_score\n",
        "print(r2_score(y_real, y_predict))"
      ],
      "execution_count": 58,
      "outputs": [
        {
          "output_type": "stream",
          "text": [
            "355.0847858319524\n",
            "-4.716313122974926\n"
          ],
          "name": "stdout"
        }
      ]
    },
    {
      "cell_type": "code",
      "metadata": {
        "id": "b89HHq9NmHXB"
      },
      "source": [
        ""
      ],
      "execution_count": null,
      "outputs": []
    },
    {
      "cell_type": "code",
      "metadata": {
        "id": "fGHny96u6zoH"
      },
      "source": [
        ""
      ],
      "execution_count": null,
      "outputs": []
    },
    {
      "cell_type": "code",
      "metadata": {
        "id": "TzQsAzB6mHhr"
      },
      "source": [
        "\n",
        "headlines = []\n",
        "for row in range(0, len(data.index)):\n",
        "    headlines.append(' '.join(str(x) for x in data.iloc[row, 0:1]))"
      ],
      "execution_count": 59,
      "outputs": []
    },
    {
      "cell_type": "code",
      "metadata": {
        "id": "SfrSU0HJmHhs"
      },
      "source": [
        "# implememt BAG OF WORDS\n",
        "tfidfVector = TfidfVectorizer(ngram_range=(2,2))\n",
        "#ngram(2,2) means it will combine the 2 words together and assign the value\n",
        "\n",
        "trainDataset = tfidfVector.fit_transform(headlines)"
      ],
      "execution_count": 60,
      "outputs": []
    },
    {
      "cell_type": "code",
      "metadata": {
        "colab": {
          "base_uri": "https://localhost:8080/"
        },
        "id": "2SOuN7AsmHhs",
        "outputId": "908343e3-e27e-44f9-e012-28cc9011199e"
      },
      "source": [
        "randomClassifier = RandomForestClassifier(n_estimators=200, criterion='entropy')\n",
        "randomClassifier.fit(trainDataset, train['Label'])"
      ],
      "execution_count": 61,
      "outputs": [
        {
          "output_type": "execute_result",
          "data": {
            "text/plain": [
              "RandomForestClassifier(bootstrap=True, ccp_alpha=0.0, class_weight=None,\n",
              "                       criterion='entropy', max_depth=None, max_features='auto',\n",
              "                       max_leaf_nodes=None, max_samples=None,\n",
              "                       min_impurity_decrease=0.0, min_impurity_split=None,\n",
              "                       min_samples_leaf=1, min_samples_split=2,\n",
              "                       min_weight_fraction_leaf=0.0, n_estimators=200,\n",
              "                       n_jobs=None, oob_score=False, random_state=None,\n",
              "                       verbose=0, warm_start=False)"
            ]
          },
          "metadata": {
            "tags": []
          },
          "execution_count": 61
        }
      ]
    },
    {
      "cell_type": "code",
      "metadata": {
        "id": "v9vehngVmHhs"
      },
      "source": [
        "testTransform =[]\n",
        "for row in range(0, len(df.index)):\n",
        "    testTransform.append(' '.join(str(x)[1:] for x in df.iloc[row, 2:3]))\n",
        "    \n",
        "test_dataset = tfidfVector.transform(testTransform)"
      ],
      "execution_count": 62,
      "outputs": []
    },
    {
      "cell_type": "code",
      "metadata": {
        "colab": {
          "base_uri": "https://localhost:8080/"
        },
        "id": "Y3zRUMldmHhs",
        "outputId": "03394821-51e3-44e7-a2cd-74be1aea4092"
      },
      "source": [
        "pred_0 = []\n",
        "pred_1 = []\n",
        "predictions = randomClassifier.predict_proba(test_dataset)\n",
        "print(len(predictions))\n",
        "for i in predictions:\n",
        "  pred_0.append(i[0])\n",
        "  pred_1.append(i[1])"
      ],
      "execution_count": 63,
      "outputs": [
        {
          "output_type": "stream",
          "text": [
            "1989\n"
          ],
          "name": "stdout"
        }
      ]
    },
    {
      "cell_type": "code",
      "metadata": {
        "colab": {
          "base_uri": "https://localhost:8080/"
        },
        "id": "3vgbym1TmHht",
        "outputId": "b55cf394-b57f-47fb-8c90-c0c555cb827e"
      },
      "source": [
        "print(len(pred_0))\n",
        "print(len(pred_1))"
      ],
      "execution_count": 64,
      "outputs": [
        {
          "output_type": "stream",
          "text": [
            "1989\n",
            "1989\n"
          ],
          "name": "stdout"
        }
      ]
    },
    {
      "cell_type": "code",
      "metadata": {
        "colab": {
          "base_uri": "https://localhost:8080/"
        },
        "id": "sd1AYJq_mHht",
        "outputId": "741d7191-104c-4a74-ecdb-e68c982276ca"
      },
      "source": [
        "from sklearn.preprocessing import MinMaxScaler\n",
        "input_length = 50\n",
        "output_length = 1\n",
        "test_percentage = 0.2\n",
        "# dataset = dj['Close'].to_numpy()\n",
        "\n",
        "# scaler = MinMaxScaler()\n",
        "# dataset_norm = scaler.fit_transform(dataset.reshape(-1, 1)).flatten()\n",
        "dataset_list_0 = []\n",
        "dataset_list_1 = []\n",
        "for i in range(len(pred_0) - input_length - output_length):\n",
        "    dataset_list_0.append(pred_0[i:i + input_length + output_length])\n",
        "    dataset_list_1.append(pred_1[i:i + input_length + output_length])\n",
        "dataset_list_0 = np.array(dataset_list_0)\n",
        "dataset_list_1 = np.array(dataset_list_1)\n",
        "trainset_0 = dataset_list_0[:int(len(dataset_list_0) * (1 - test_percentage))]\n",
        "testset_0 = dataset_list_0[int(len(dataset_list_0) * (1 - test_percentage)):]\n",
        "\n",
        "trainset_1 = dataset_list_1[:int(len(dataset_list_1) * (1 - test_percentage))]\n",
        "testset_1 = dataset_list_1[int(len(dataset_list_1) * (1 - test_percentage)):]\n",
        "\n",
        "x_train_0 = trainset_0[:, :-1]\n",
        "x_test_0 = testset_0[:, :-1]\n",
        "\n",
        "x_train_1 = trainset_1[:, :-1]\n",
        "x_test_1 = testset_1[:, :-1]\n",
        "\n",
        "print('x_train.shape:' + str(x_train_0.shape))\n",
        "print('x_test.shape:' + str(x_test_0.shape))"
      ],
      "execution_count": 65,
      "outputs": [
        {
          "output_type": "stream",
          "text": [
            "x_train.shape:(1550, 50)\n",
            "x_test.shape:(388, 50)\n"
          ],
          "name": "stdout"
        }
      ]
    },
    {
      "cell_type": "code",
      "metadata": {
        "id": "Q3jl7BramHht"
      },
      "source": [
        "input_tensor_c = Input(shape=( x_train_price.shape[1],1), dtype='float32')\n",
        "x_c = Bidirectional(LSTM(128, return_sequences=True))(input_tensor_c)\n",
        "x_c = Dropout(0.2)(x_c)\n",
        "x_c = Bidirectional(LSTM(64, return_sequences=True))(x_c)\n",
        "x_c = Dropout(0.2)(x_c)\n",
        "x_c = Bidirectional(LSTM(32, return_sequences=False))(x_c)\n",
        "x_c = Dropout(0.2)(x_c)\n",
        "\n",
        "input_tensor_n_0 = Input(shape=( x_train_0.shape[1],1), dtype='float32')\n",
        "x_n_0 = Bidirectional(LSTM(64, return_sequences=True))(input_tensor_n_0)\n",
        "x_n_0 = Dropout(0.2)(x_n_0)\n",
        "x_n_0 = Bidirectional(LSTM(32, return_sequences=False))(x_n_0)\n",
        "x_n_0 = Dropout(0.2)(x_n_0)\n",
        "\n",
        "\n",
        "input_tensor_n_1 = Input(shape=( x_train_1.shape[1],1), dtype='float32')\n",
        "x_n_1 = Bidirectional(LSTM(64, return_sequences=True))(input_tensor_n_1)\n",
        "x_n_1 = Dropout(0.2)(x_n_1)\n",
        "x_n_1 = Bidirectional(LSTM(32, return_sequences=False))(x_n_1)\n",
        "x_n_1 = Dropout(0.2)(x_n_1)\n",
        "\n",
        "combined = Concatenate()([x_c, x_n_0, x_n_1])\n",
        "\n",
        "mix2= Dense(256)(combined)\n",
        "mix2 = Dense(128)(mix2)\n",
        "mix2 = Dense(64)(mix2)\n",
        "mix2 = Dense(32)(mix2)\n",
        "mix2 = Dense(16)(mix2)\n",
        "mix2 = Dense(8)(mix2)\n",
        "mix2 = Dense(4)(mix2)\n",
        "\n",
        "out1 = Dense(1)(mix2)\n",
        "\n",
        "\n",
        "regressor = Model(inputs=[input_tensor_c,input_tensor_n_0,input_tensor_n_1],outputs=[out1])"
      ],
      "execution_count": 92,
      "outputs": []
    },
    {
      "cell_type": "code",
      "metadata": {
        "colab": {
          "base_uri": "https://localhost:8080/"
        },
        "id": "wJwjcF1TmHht",
        "outputId": "418727e2-8ee8-410a-c360-3f3b10ef0c12"
      },
      "source": [
        "regressor.compile(optimizer = \"rmsprop\", loss = 'mean_squared_error')\n",
        "regressor.summary()"
      ],
      "execution_count": 93,
      "outputs": [
        {
          "output_type": "stream",
          "text": [
            "Model: \"model_5\"\n",
            "__________________________________________________________________________________________________\n",
            "Layer (type)                    Output Shape         Param #     Connected to                     \n",
            "==================================================================================================\n",
            "input_16 (InputLayer)           [(None, 50, 1)]      0                                            \n",
            "__________________________________________________________________________________________________\n",
            "bidirectional_35 (Bidirectional (None, 50, 256)      133120      input_16[0][0]                   \n",
            "__________________________________________________________________________________________________\n",
            "dropout_35 (Dropout)            (None, 50, 256)      0           bidirectional_35[0][0]           \n",
            "__________________________________________________________________________________________________\n",
            "input_17 (InputLayer)           [(None, 50, 1)]      0                                            \n",
            "__________________________________________________________________________________________________\n",
            "input_18 (InputLayer)           [(None, 50, 1)]      0                                            \n",
            "__________________________________________________________________________________________________\n",
            "bidirectional_36 (Bidirectional (None, 50, 128)      164352      dropout_35[0][0]                 \n",
            "__________________________________________________________________________________________________\n",
            "bidirectional_38 (Bidirectional (None, 50, 128)      33792       input_17[0][0]                   \n",
            "__________________________________________________________________________________________________\n",
            "bidirectional_40 (Bidirectional (None, 50, 128)      33792       input_18[0][0]                   \n",
            "__________________________________________________________________________________________________\n",
            "dropout_36 (Dropout)            (None, 50, 128)      0           bidirectional_36[0][0]           \n",
            "__________________________________________________________________________________________________\n",
            "dropout_38 (Dropout)            (None, 50, 128)      0           bidirectional_38[0][0]           \n",
            "__________________________________________________________________________________________________\n",
            "dropout_40 (Dropout)            (None, 50, 128)      0           bidirectional_40[0][0]           \n",
            "__________________________________________________________________________________________________\n",
            "bidirectional_37 (Bidirectional (None, 64)           41216       dropout_36[0][0]                 \n",
            "__________________________________________________________________________________________________\n",
            "bidirectional_39 (Bidirectional (None, 64)           41216       dropout_38[0][0]                 \n",
            "__________________________________________________________________________________________________\n",
            "bidirectional_41 (Bidirectional (None, 64)           41216       dropout_40[0][0]                 \n",
            "__________________________________________________________________________________________________\n",
            "dropout_37 (Dropout)            (None, 64)           0           bidirectional_37[0][0]           \n",
            "__________________________________________________________________________________________________\n",
            "dropout_39 (Dropout)            (None, 64)           0           bidirectional_39[0][0]           \n",
            "__________________________________________________________________________________________________\n",
            "dropout_41 (Dropout)            (None, 64)           0           bidirectional_41[0][0]           \n",
            "__________________________________________________________________________________________________\n",
            "concatenate_5 (Concatenate)     (None, 192)          0           dropout_37[0][0]                 \n",
            "                                                                 dropout_39[0][0]                 \n",
            "                                                                 dropout_41[0][0]                 \n",
            "__________________________________________________________________________________________________\n",
            "dense_40 (Dense)                (None, 256)          49408       concatenate_5[0][0]              \n",
            "__________________________________________________________________________________________________\n",
            "dense_41 (Dense)                (None, 128)          32896       dense_40[0][0]                   \n",
            "__________________________________________________________________________________________________\n",
            "dense_42 (Dense)                (None, 64)           8256        dense_41[0][0]                   \n",
            "__________________________________________________________________________________________________\n",
            "dense_43 (Dense)                (None, 32)           2080        dense_42[0][0]                   \n",
            "__________________________________________________________________________________________________\n",
            "dense_44 (Dense)                (None, 16)           528         dense_43[0][0]                   \n",
            "__________________________________________________________________________________________________\n",
            "dense_45 (Dense)                (None, 8)            136         dense_44[0][0]                   \n",
            "__________________________________________________________________________________________________\n",
            "dense_46 (Dense)                (None, 4)            36          dense_45[0][0]                   \n",
            "__________________________________________________________________________________________________\n",
            "dense_47 (Dense)                (None, 1)            5           dense_46[0][0]                   \n",
            "==================================================================================================\n",
            "Total params: 582,049\n",
            "Trainable params: 582,049\n",
            "Non-trainable params: 0\n",
            "__________________________________________________________________________________________________\n"
          ],
          "name": "stdout"
        }
      ]
    },
    {
      "cell_type": "code",
      "metadata": {
        "colab": {
          "base_uri": "https://localhost:8080/"
        },
        "id": "11LiF6bamHhu",
        "outputId": "918cfd24-68e2-49f9-b237-4e7d70e5e10a"
      },
      "source": [
        "regressor.fit([x_train_price, x_train_0, x_train_1], [y_train_price], epochs = 100, batch_size = 8)\n",
        "# regressor.save(\"/content/drive/MyDrive/news-stock-no-headlines.h5\")"
      ],
      "execution_count": 94,
      "outputs": [
        {
          "output_type": "stream",
          "text": [
            "Epoch 1/100\n",
            "194/194 [==============================] - 27s 52ms/step - loss: 0.3573\n",
            "Epoch 2/100\n",
            "194/194 [==============================] - 10s 51ms/step - loss: 0.0094\n",
            "Epoch 3/100\n",
            "194/194 [==============================] - 10s 51ms/step - loss: 0.0068\n",
            "Epoch 4/100\n",
            "194/194 [==============================] - 10s 52ms/step - loss: 0.0075\n",
            "Epoch 5/100\n",
            "194/194 [==============================] - 10s 51ms/step - loss: 0.0075\n",
            "Epoch 6/100\n",
            "194/194 [==============================] - 10s 51ms/step - loss: 0.0074\n",
            "Epoch 7/100\n",
            "194/194 [==============================] - 10s 51ms/step - loss: 0.0075\n",
            "Epoch 8/100\n",
            "194/194 [==============================] - 10s 51ms/step - loss: 0.0070\n",
            "Epoch 9/100\n",
            "194/194 [==============================] - 10s 51ms/step - loss: 0.0056\n",
            "Epoch 10/100\n",
            "194/194 [==============================] - 10s 51ms/step - loss: 0.0051\n",
            "Epoch 11/100\n",
            "194/194 [==============================] - 10s 52ms/step - loss: 0.0049\n",
            "Epoch 12/100\n",
            "194/194 [==============================] - 10s 51ms/step - loss: 0.0043\n",
            "Epoch 13/100\n",
            "194/194 [==============================] - 10s 53ms/step - loss: 0.0045\n",
            "Epoch 14/100\n",
            "194/194 [==============================] - 10s 51ms/step - loss: 0.0047\n",
            "Epoch 15/100\n",
            "194/194 [==============================] - 10s 52ms/step - loss: 0.0047\n",
            "Epoch 16/100\n",
            "194/194 [==============================] - 10s 51ms/step - loss: 0.0045\n",
            "Epoch 17/100\n",
            "194/194 [==============================] - 10s 51ms/step - loss: 0.0043\n",
            "Epoch 18/100\n",
            "194/194 [==============================] - 10s 52ms/step - loss: 0.0046\n",
            "Epoch 19/100\n",
            "194/194 [==============================] - 10s 52ms/step - loss: 0.0042\n",
            "Epoch 20/100\n",
            "194/194 [==============================] - 10s 51ms/step - loss: 0.0042\n",
            "Epoch 21/100\n",
            "194/194 [==============================] - 10s 52ms/step - loss: 0.0051\n",
            "Epoch 22/100\n",
            "194/194 [==============================] - 10s 51ms/step - loss: 0.0041\n",
            "Epoch 23/100\n",
            "194/194 [==============================] - 10s 52ms/step - loss: 0.0042\n",
            "Epoch 24/100\n",
            "194/194 [==============================] - 10s 52ms/step - loss: 0.0043\n",
            "Epoch 25/100\n",
            "194/194 [==============================] - 10s 52ms/step - loss: 0.0041\n",
            "Epoch 26/100\n",
            "194/194 [==============================] - 10s 51ms/step - loss: 0.0042\n",
            "Epoch 27/100\n",
            "194/194 [==============================] - 10s 52ms/step - loss: 0.0041\n",
            "Epoch 28/100\n",
            "194/194 [==============================] - 10s 51ms/step - loss: 0.0035\n",
            "Epoch 29/100\n",
            "194/194 [==============================] - 10s 51ms/step - loss: 0.0037\n",
            "Epoch 30/100\n",
            "194/194 [==============================] - 10s 51ms/step - loss: 0.0043\n",
            "Epoch 31/100\n",
            "194/194 [==============================] - 10s 52ms/step - loss: 0.0042\n",
            "Epoch 32/100\n",
            "194/194 [==============================] - 10s 51ms/step - loss: 0.0039\n",
            "Epoch 33/100\n",
            "194/194 [==============================] - 10s 51ms/step - loss: 0.0040\n",
            "Epoch 34/100\n",
            "194/194 [==============================] - 10s 52ms/step - loss: 0.0036\n",
            "Epoch 35/100\n",
            "194/194 [==============================] - 10s 51ms/step - loss: 0.0040\n",
            "Epoch 36/100\n",
            "194/194 [==============================] - 10s 51ms/step - loss: 0.0037\n",
            "Epoch 37/100\n",
            "194/194 [==============================] - 10s 53ms/step - loss: 0.0042\n",
            "Epoch 38/100\n",
            "194/194 [==============================] - 10s 52ms/step - loss: 0.0037\n",
            "Epoch 39/100\n",
            "194/194 [==============================] - 10s 51ms/step - loss: 0.0039\n",
            "Epoch 40/100\n",
            "194/194 [==============================] - 10s 52ms/step - loss: 0.0037\n",
            "Epoch 41/100\n",
            "194/194 [==============================] - 10s 52ms/step - loss: 0.0041\n",
            "Epoch 42/100\n",
            "194/194 [==============================] - 10s 51ms/step - loss: 0.0037\n",
            "Epoch 43/100\n",
            "194/194 [==============================] - 10s 50ms/step - loss: 0.0034\n",
            "Epoch 44/100\n",
            "194/194 [==============================] - 10s 49ms/step - loss: 0.0035\n",
            "Epoch 45/100\n",
            "194/194 [==============================] - 10s 50ms/step - loss: 0.0042\n",
            "Epoch 46/100\n",
            "194/194 [==============================] - 10s 49ms/step - loss: 0.0039\n",
            "Epoch 47/100\n",
            "194/194 [==============================] - 10s 50ms/step - loss: 0.0036\n",
            "Epoch 48/100\n",
            "194/194 [==============================] - 10s 49ms/step - loss: 0.0043\n",
            "Epoch 49/100\n",
            "194/194 [==============================] - 10s 50ms/step - loss: 0.0033\n",
            "Epoch 50/100\n",
            "194/194 [==============================] - 10s 50ms/step - loss: 0.0038\n",
            "Epoch 51/100\n",
            "194/194 [==============================] - 10s 49ms/step - loss: 0.0039\n",
            "Epoch 52/100\n",
            "194/194 [==============================] - 10s 49ms/step - loss: 0.0038\n",
            "Epoch 53/100\n",
            "194/194 [==============================] - 10s 49ms/step - loss: 0.0045\n",
            "Epoch 54/100\n",
            "194/194 [==============================] - 10s 51ms/step - loss: 0.0035\n",
            "Epoch 55/100\n",
            "194/194 [==============================] - 10s 49ms/step - loss: 0.0035\n",
            "Epoch 56/100\n",
            "194/194 [==============================] - 10s 50ms/step - loss: 0.0038\n",
            "Epoch 57/100\n",
            "194/194 [==============================] - 10s 49ms/step - loss: 0.0037\n",
            "Epoch 58/100\n",
            "194/194 [==============================] - 10s 50ms/step - loss: 0.0038\n",
            "Epoch 59/100\n",
            "194/194 [==============================] - 10s 50ms/step - loss: 0.0037\n",
            "Epoch 60/100\n",
            "194/194 [==============================] - 10s 50ms/step - loss: 0.0035\n",
            "Epoch 61/100\n",
            "194/194 [==============================] - 10s 50ms/step - loss: 0.0036\n",
            "Epoch 62/100\n",
            "194/194 [==============================] - 10s 49ms/step - loss: 0.0039\n",
            "Epoch 63/100\n",
            "194/194 [==============================] - 10s 49ms/step - loss: 0.0038\n",
            "Epoch 64/100\n",
            "194/194 [==============================] - 10s 49ms/step - loss: 0.0036\n",
            "Epoch 65/100\n",
            "194/194 [==============================] - 10s 50ms/step - loss: 0.0036\n",
            "Epoch 66/100\n",
            "194/194 [==============================] - 10s 50ms/step - loss: 0.0035\n",
            "Epoch 67/100\n",
            "194/194 [==============================] - 9s 48ms/step - loss: 0.0039\n",
            "Epoch 68/100\n",
            "194/194 [==============================] - 10s 50ms/step - loss: 0.0033\n",
            "Epoch 69/100\n",
            "194/194 [==============================] - 10s 50ms/step - loss: 0.0036\n",
            "Epoch 70/100\n",
            "194/194 [==============================] - 10s 49ms/step - loss: 0.0037\n",
            "Epoch 71/100\n",
            "194/194 [==============================] - 10s 49ms/step - loss: 0.0035\n",
            "Epoch 72/100\n",
            "194/194 [==============================] - 9s 49ms/step - loss: 0.0031\n",
            "Epoch 73/100\n",
            "194/194 [==============================] - 10s 50ms/step - loss: 0.0033\n",
            "Epoch 74/100\n",
            "194/194 [==============================] - 10s 53ms/step - loss: 0.0035\n",
            "Epoch 75/100\n",
            "194/194 [==============================] - 10s 52ms/step - loss: 0.0040\n",
            "Epoch 76/100\n",
            "194/194 [==============================] - 10s 51ms/step - loss: 0.0035\n",
            "Epoch 77/100\n",
            "194/194 [==============================] - 10s 50ms/step - loss: 0.0036\n",
            "Epoch 78/100\n",
            "194/194 [==============================] - 10s 52ms/step - loss: 0.0040\n",
            "Epoch 79/100\n",
            "194/194 [==============================] - 10s 50ms/step - loss: 0.0034\n",
            "Epoch 80/100\n",
            "194/194 [==============================] - 10s 50ms/step - loss: 0.0037\n",
            "Epoch 81/100\n",
            "194/194 [==============================] - 10s 51ms/step - loss: 0.0036\n",
            "Epoch 82/100\n",
            "194/194 [==============================] - 10s 50ms/step - loss: 0.0035\n",
            "Epoch 83/100\n",
            "194/194 [==============================] - 10s 49ms/step - loss: 0.0034\n",
            "Epoch 84/100\n",
            "194/194 [==============================] - 10s 51ms/step - loss: 0.0033\n",
            "Epoch 85/100\n",
            "194/194 [==============================] - 10s 52ms/step - loss: 0.0032\n",
            "Epoch 86/100\n",
            "194/194 [==============================] - 10s 51ms/step - loss: 0.0034\n",
            "Epoch 87/100\n",
            "194/194 [==============================] - 10s 51ms/step - loss: 0.0033\n",
            "Epoch 88/100\n",
            "194/194 [==============================] - 10s 52ms/step - loss: 0.0032\n",
            "Epoch 89/100\n",
            "194/194 [==============================] - 10s 51ms/step - loss: 0.0033\n",
            "Epoch 90/100\n",
            "194/194 [==============================] - 10s 50ms/step - loss: 0.0035\n",
            "Epoch 91/100\n",
            "194/194 [==============================] - 10s 51ms/step - loss: 0.0031\n",
            "Epoch 92/100\n",
            "194/194 [==============================] - 10s 50ms/step - loss: 0.0032\n",
            "Epoch 93/100\n",
            "194/194 [==============================] - 10s 50ms/step - loss: 0.0036\n",
            "Epoch 94/100\n",
            "194/194 [==============================] - 10s 50ms/step - loss: 0.0032\n",
            "Epoch 95/100\n",
            "194/194 [==============================] - 10s 50ms/step - loss: 0.0032\n",
            "Epoch 96/100\n",
            "194/194 [==============================] - 10s 49ms/step - loss: 0.0031\n",
            "Epoch 97/100\n",
            "194/194 [==============================] - 10s 50ms/step - loss: 0.0030\n",
            "Epoch 98/100\n",
            "194/194 [==============================] - 10s 51ms/step - loss: 0.0034\n",
            "Epoch 99/100\n",
            "194/194 [==============================] - 10s 51ms/step - loss: 0.0031\n",
            "Epoch 100/100\n",
            "194/194 [==============================] - 10s 50ms/step - loss: 0.0030\n"
          ],
          "name": "stdout"
        },
        {
          "output_type": "execute_result",
          "data": {
            "text/plain": [
              "<tensorflow.python.keras.callbacks.History at 0x7f212a961d90>"
            ]
          },
          "metadata": {
            "tags": []
          },
          "execution_count": 94
        }
      ]
    },
    {
      "cell_type": "code",
      "metadata": {
        "colab": {
          "base_uri": "https://localhost:8080/",
          "height": 295
        },
        "id": "_cG2dCPMmHhu",
        "outputId": "0b96b01b-d1d4-4575-cfdb-3d3692c667e3"
      },
      "source": [
        "from sklearn.metrics.regression import mean_squared_error\n",
        "y_predict = regressor.predict([x_test_price, x_test_0, x_test_1])\n",
        "y_real = scaler.inverse_transform(y_test_price.reshape(-1, 1)).flatten()\n",
        "y_predict = scaler.inverse_transform(y_predict.reshape(-1, 1)).flatten()\n",
        "plt.figure(1)\n",
        "plt.plot(y_real, label='real')\n",
        "plt.plot(y_predict, label='prediction')\n",
        "plt.xlabel('MSE Error: {}'.format(mean_squared_error(y_real[:-1], y_predict[:-1])))\n",
        "plt.legend()\n",
        "plt.title('Prediction result')\n",
        "plt.show()"
      ],
      "execution_count": 95,
      "outputs": [
        {
          "output_type": "display_data",
          "data": {
            "image/png": "[encoded data removed]",
            "text/plain": [
              "<Figure size 432x288 with 1 Axes>"
            ]
          },
          "metadata": {
            "tags": [],
            "needs_background": "light"
          }
        }
      ]
    },
    {
      "cell_type": "code",
      "metadata": {
        "id": "ujXHUi0tmHhu"
      },
      "source": [
        "regressor.save(\"/content/drive/MyDrive/news-stock-rate-1-headlines.h5\")"
      ],
      "execution_count": 96,
      "outputs": []
    },
    {
      "cell_type": "code",
      "metadata": {
        "id": "0Wjv1vD27BR9"
      },
      "source": [
        "from keras.models import load_model\n",
        "regressor = load_model(\"/content/drive/MyDrive/news-stock-rate-1-headlines.h5\")\n",
        "y_predict = regressor.predict([x_test_price, x_test_0, x_test_1])\n",
        "y_real = scaler.inverse_transform(y_test_price.reshape(-1, 1)).flatten()\n",
        "y_predict = scaler.inverse_transform(y_predict.reshape(-1, 1)).flatten()"
      ],
      "execution_count": 66,
      "outputs": []
    },
    {
      "cell_type": "code",
      "metadata": {
        "colab": {
          "base_uri": "https://localhost:8080/"
        },
        "id": "cjI2Ju5Y7BR9",
        "outputId": "55cb170e-4406-4892-8cab-04a17c634800"
      },
      "source": [
        "from sklearn.metrics import mean_absolute_error\n",
        "print(mean_absolute_error(y_real[:-1], y_predict[:-1]))\n",
        "from sklearn.metrics import r2_score\n",
        "print(r2_score(y_real, y_predict))"
      ],
      "execution_count": 67,
      "outputs": [
        {
          "output_type": "stream",
          "text": [
            "553.3174028440629\n",
            "-11.196014189639708\n"
          ],
          "name": "stdout"
        }
      ]
    }
  ]
}